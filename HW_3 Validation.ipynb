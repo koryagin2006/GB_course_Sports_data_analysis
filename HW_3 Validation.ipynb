{
 "cells": [
  {
   "cell_type": "markdown",
   "metadata": {},
   "source": [
    "# Урок 3. Построение надежных схем валидации решения, оптимизация целевых метрик"
   ]
  },
  {
   "cell_type": "markdown",
   "metadata": {},
   "source": [
    "##### Импорт библиотек"
   ]
  },
  {
   "cell_type": "code",
   "execution_count": 1,
   "metadata": {
    "ExecuteTime": {
     "end_time": "2021-03-14T17:11:19.846799Z",
     "start_time": "2021-03-14T17:11:12.871075Z"
    }
   },
   "outputs": [],
   "source": [
    "from tqdm import tqdm\n",
    "from typing import List, Tuple\n",
    "\n",
    "import numpy as np\n",
    "import pandas as pd\n",
    "import seaborn as sns\n",
    "import xgboost as xgb\n",
    "# import catboost as cb\n",
    "# import lightgbm as lgb\n",
    "\n",
    "import matplotlib.pyplot as plt\n",
    "from scipy.stats import ttest_rel\n",
    "\n",
    "from sklearn.metrics import r2_score, roc_auc_score, roc_curve\n",
    "from sklearn.ensemble import RandomForestRegressor\n",
    "from sklearn.model_selection import KFold, StratifiedKFold, train_test_split, cross_val_score\n",
    "%matplotlib inline"
   ]
  },
  {
   "cell_type": "code",
   "execution_count": 2,
   "metadata": {
    "ExecuteTime": {
     "end_time": "2021-03-14T17:11:19.855897Z",
     "start_time": "2021-03-14T17:11:19.849909Z"
    }
   },
   "outputs": [],
   "source": [
    "import warnings\n",
    "warnings.simplefilter(\"ignore\")\n",
    "# warnings.filterwarnings('ignore')"
   ]
  },
  {
   "cell_type": "markdown",
   "metadata": {},
   "source": [
    "## Основное задание:\n",
    "Даны выборки для обучения и для тестирования. Задание заключается в том, чтобы попробовать разные способы валидации, проанализировать плюсы/минусы каждой и сделать выводы о том, какой способ валидации наиболее устойчивый в данной задаче. Метрика качества для оценки прогнозов - ROC-AUC, название целевой переменной - `IsFraud`. Рекомендуется использовать модели градиетного бустинга, реализация любая, гипепараметры любые.\n",
    "\n",
    "**NB!** выборка `assignment_2_test.csv` - наш аналог лидерборда. Будем моделировать ситуацию отправки решения на лидерборд и сравнить значение метрики на лидерборде и на локальной валидации. Для других целей использовать выборку запрещено!\n",
    "\n",
    "Терминалогия, используемая в задании:\n",
    "* обучающая выборка - выборка, которая передается в метод fit /train;\n",
    "* валидационная выборка - выборка, которая получается при Hold-Out на 2 выборки (train, valid);\n",
    "* тестовая выборка - выборка, которая получается при Hold-Out на 3 выборки (train, valid, test);\n",
    "* ЛБ - лидерборд, выборка assignment_2_test.csv."
   ]
  },
  {
   "cell_type": "code",
   "execution_count": 3,
   "metadata": {
    "ExecuteTime": {
     "end_time": "2021-03-14T17:11:33.628671Z",
     "start_time": "2021-03-14T17:11:19.860882Z"
    }
   },
   "outputs": [
    {
     "name": "stdout",
     "output_type": "stream",
     "text": [
      "train.shape = 180000 rows, 394 cols\n",
      "leaderboard.shape = 100001 rows, 394 cols\n"
     ]
    }
   ],
   "source": [
    "train = pd.read_csv('./data/assignment2_data/assignment_2_train.csv')\n",
    "leaderboard = pd.read_csv('./data/assignment2_data/assignment_2_test.csv')\n",
    "target = 'isFraud'\n",
    "\n",
    "print(\"train.shape = {} rows, {} cols\".format(*train.shape))\n",
    "print(\"leaderboard.shape = {} rows, {} cols\".format(*leaderboard.shape))"
   ]
  },
  {
   "cell_type": "code",
   "execution_count": 4,
   "metadata": {
    "ExecuteTime": {
     "end_time": "2021-03-14T17:11:33.745373Z",
     "start_time": "2021-03-14T17:11:33.632661Z"
    }
   },
   "outputs": [
    {
     "data": {
      "text/html": [
       "<div>\n",
       "<style scoped>\n",
       "    .dataframe tbody tr th:only-of-type {\n",
       "        vertical-align: middle;\n",
       "    }\n",
       "\n",
       "    .dataframe tbody tr th {\n",
       "        vertical-align: top;\n",
       "    }\n",
       "\n",
       "    .dataframe thead th {\n",
       "        text-align: right;\n",
       "    }\n",
       "</style>\n",
       "<table border=\"1\" class=\"dataframe\">\n",
       "  <thead>\n",
       "    <tr style=\"text-align: right;\">\n",
       "      <th></th>\n",
       "      <th>TransactionID</th>\n",
       "      <th>isFraud</th>\n",
       "      <th>TransactionDT</th>\n",
       "      <th>TransactionAmt</th>\n",
       "      <th>ProductCD</th>\n",
       "      <th>card1</th>\n",
       "      <th>card2</th>\n",
       "      <th>card3</th>\n",
       "      <th>card4</th>\n",
       "      <th>card5</th>\n",
       "      <th>...</th>\n",
       "      <th>V330</th>\n",
       "      <th>V331</th>\n",
       "      <th>V332</th>\n",
       "      <th>V333</th>\n",
       "      <th>V334</th>\n",
       "      <th>V335</th>\n",
       "      <th>V336</th>\n",
       "      <th>V337</th>\n",
       "      <th>V338</th>\n",
       "      <th>V339</th>\n",
       "    </tr>\n",
       "  </thead>\n",
       "  <tbody>\n",
       "    <tr>\n",
       "      <th>0</th>\n",
       "      <td>2987000</td>\n",
       "      <td>0</td>\n",
       "      <td>86400</td>\n",
       "      <td>68.5</td>\n",
       "      <td>W</td>\n",
       "      <td>13926</td>\n",
       "      <td>NaN</td>\n",
       "      <td>150.0</td>\n",
       "      <td>discover</td>\n",
       "      <td>142.0</td>\n",
       "      <td>...</td>\n",
       "      <td>NaN</td>\n",
       "      <td>NaN</td>\n",
       "      <td>NaN</td>\n",
       "      <td>NaN</td>\n",
       "      <td>NaN</td>\n",
       "      <td>NaN</td>\n",
       "      <td>NaN</td>\n",
       "      <td>NaN</td>\n",
       "      <td>NaN</td>\n",
       "      <td>NaN</td>\n",
       "    </tr>\n",
       "    <tr>\n",
       "      <th>1</th>\n",
       "      <td>2987001</td>\n",
       "      <td>0</td>\n",
       "      <td>86401</td>\n",
       "      <td>29.0</td>\n",
       "      <td>W</td>\n",
       "      <td>2755</td>\n",
       "      <td>404.0</td>\n",
       "      <td>150.0</td>\n",
       "      <td>mastercard</td>\n",
       "      <td>102.0</td>\n",
       "      <td>...</td>\n",
       "      <td>NaN</td>\n",
       "      <td>NaN</td>\n",
       "      <td>NaN</td>\n",
       "      <td>NaN</td>\n",
       "      <td>NaN</td>\n",
       "      <td>NaN</td>\n",
       "      <td>NaN</td>\n",
       "      <td>NaN</td>\n",
       "      <td>NaN</td>\n",
       "      <td>NaN</td>\n",
       "    </tr>\n",
       "    <tr>\n",
       "      <th>2</th>\n",
       "      <td>2987002</td>\n",
       "      <td>0</td>\n",
       "      <td>86469</td>\n",
       "      <td>59.0</td>\n",
       "      <td>W</td>\n",
       "      <td>4663</td>\n",
       "      <td>490.0</td>\n",
       "      <td>150.0</td>\n",
       "      <td>visa</td>\n",
       "      <td>166.0</td>\n",
       "      <td>...</td>\n",
       "      <td>NaN</td>\n",
       "      <td>NaN</td>\n",
       "      <td>NaN</td>\n",
       "      <td>NaN</td>\n",
       "      <td>NaN</td>\n",
       "      <td>NaN</td>\n",
       "      <td>NaN</td>\n",
       "      <td>NaN</td>\n",
       "      <td>NaN</td>\n",
       "      <td>NaN</td>\n",
       "    </tr>\n",
       "  </tbody>\n",
       "</table>\n",
       "<p>3 rows × 394 columns</p>\n",
       "</div>"
      ],
      "text/plain": [
       "   TransactionID  isFraud  TransactionDT  TransactionAmt ProductCD  card1  \\\n",
       "0        2987000        0          86400            68.5         W  13926   \n",
       "1        2987001        0          86401            29.0         W   2755   \n",
       "2        2987002        0          86469            59.0         W   4663   \n",
       "\n",
       "   card2  card3       card4  card5  ... V330  V331  V332  V333  V334 V335  \\\n",
       "0    NaN  150.0    discover  142.0  ...  NaN   NaN   NaN   NaN   NaN  NaN   \n",
       "1  404.0  150.0  mastercard  102.0  ...  NaN   NaN   NaN   NaN   NaN  NaN   \n",
       "2  490.0  150.0        visa  166.0  ...  NaN   NaN   NaN   NaN   NaN  NaN   \n",
       "\n",
       "  V336  V337  V338  V339  \n",
       "0  NaN   NaN   NaN   NaN  \n",
       "1  NaN   NaN   NaN   NaN  \n",
       "2  NaN   NaN   NaN   NaN  \n",
       "\n",
       "[3 rows x 394 columns]"
      ]
     },
     "execution_count": 4,
     "metadata": {},
     "output_type": "execute_result"
    }
   ],
   "source": [
    "train.head(n=3)"
   ]
  },
  {
   "cell_type": "markdown",
   "metadata": {},
   "source": [
    "### Задание 1. \n",
    "Сделать Hold-Out валидацию с разбиением, размер которого будет адекватным, по вашему мнению. Разбиение проводить по id-транзакции (`TransactionID`), обучать модель градиетного бустинга любой реализации с подбором числа деревьев по early_stopping критерию до достижения сходимости. Оценить качество модели на валидационной выборке, оценить расхождение по сравнению с качеством на обучающей выборке и валидационной выборке. Оценить качество на ЛБ, сравнить с качеством на обучении и валидации. Сделать выводы."
   ]
  },
  {
   "cell_type": "code",
   "execution_count": 5,
   "metadata": {
    "ExecuteTime": {
     "end_time": "2021-03-14T17:11:36.974717Z",
     "start_time": "2021-03-14T17:11:33.751342Z"
    }
   },
   "outputs": [],
   "source": [
    "numerical_features = train \\\n",
    "    .select_dtypes(include=[np.number]) \\\n",
    "    .drop(target, axis=1) \\\n",
    "    .columns \\\n",
    "    .tolist()"
   ]
  },
  {
   "cell_type": "code",
   "execution_count": 6,
   "metadata": {
    "ExecuteTime": {
     "end_time": "2021-03-14T17:11:41.042834Z",
     "start_time": "2021-03-14T17:11:37.001646Z"
    }
   },
   "outputs": [],
   "source": [
    "X, y = train[numerical_features].fillna(0), train[target]\n",
    "X_lb, y_lb = leaderboard[numerical_features].fillna(0), leaderboard[target]"
   ]
  },
  {
   "cell_type": "code",
   "execution_count": 7,
   "metadata": {
    "ExecuteTime": {
     "end_time": "2021-03-14T17:11:42.135783Z",
     "start_time": "2021-03-14T17:11:41.176405Z"
    }
   },
   "outputs": [],
   "source": [
    "x_train, x_test, y_train, y_test = train_test_split(X, y, train_size=0.75, shuffle=False, random_state=42)"
   ]
  },
  {
   "cell_type": "code",
   "execution_count": 8,
   "metadata": {
    "ExecuteTime": {
     "end_time": "2021-03-14T17:15:30.616276Z",
     "start_time": "2021-03-14T17:11:42.149236Z"
    },
    "scrolled": true
   },
   "outputs": [
    {
     "name": "stdout",
     "output_type": "stream",
     "text": [
      "[0]\tvalidation_0-auc:0.59781\tvalidation_1-auc:0.61482\n",
      "[20]\tvalidation_0-auc:0.81385\tvalidation_1-auc:0.82154\n",
      "[40]\tvalidation_0-auc:0.87183\tvalidation_1-auc:0.84969\n",
      "[60]\tvalidation_0-auc:0.88592\tvalidation_1-auc:0.86278\n",
      "[80]\tvalidation_0-auc:0.89107\tvalidation_1-auc:0.86816\n",
      "[100]\tvalidation_0-auc:0.89542\tvalidation_1-auc:0.86979\n",
      "[120]\tvalidation_0-auc:0.89897\tvalidation_1-auc:0.87192\n",
      "[140]\tvalidation_0-auc:0.90179\tvalidation_1-auc:0.87399\n",
      "[160]\tvalidation_0-auc:0.90252\tvalidation_1-auc:0.87447\n",
      "[180]\tvalidation_0-auc:0.90291\tvalidation_1-auc:0.87500\n",
      "[196]\tvalidation_0-auc:0.90291\tvalidation_1-auc:0.87500\n"
     ]
    },
    {
     "data": {
      "text/plain": [
       "XGBClassifier(base_score=0.5, booster='gbtree', colsample_bylevel=1,\n",
       "              colsample_bynode=1, colsample_bytree=1, eval_metric='auc',\n",
       "              gamma=10, gpu_id=-1, importance_type='gain',\n",
       "              interaction_constraints='', learning_rate=0.1, max_delta_step=0,\n",
       "              max_depth=4, min_child_weight=1, missing=nan,\n",
       "              monotone_constraints='()', n_estimators=1000, n_jobs=6, nthread=6,\n",
       "              num_parallel_tree=1, random_state=27, reg_alpha=0, reg_lambda=100,\n",
       "              scale_pos_weight=1, seed=27, subsample=1, tree_method='exact',\n",
       "              validate_parameters=1, verbosity=None)"
      ]
     },
     "execution_count": 8,
     "metadata": {},
     "output_type": "execute_result"
    }
   ],
   "source": [
    "params = {\n",
    "    \"booster\": \"gbtree\", \"objective\": \"binary:logistic\",\n",
    "    \"eval_metric\": \"auc\", \"learning_rate\": 0.1, \"n_estimators\": 1000,\n",
    "    \"reg_lambda\": 100, \"max_depth\": 4, \"gamma\": 10, \"nthread\": 6, \"seed\": 27\n",
    "}\n",
    "\n",
    "model_xgb_numeric = xgb.XGBClassifier(**params)\n",
    "model_xgb_numeric.fit(X=x_train, y=y_train,\n",
    "                      eval_set=[(x_train, y_train), (x_test, y_test)],\n",
    "                      early_stopping_rounds=30,\n",
    "                      eval_metric=\"auc\",\n",
    "                      verbose=20)"
   ]
  },
  {
   "cell_type": "code",
   "execution_count": 9,
   "metadata": {
    "ExecuteTime": {
     "end_time": "2021-03-14T17:15:46.655328Z",
     "start_time": "2021-03-14T17:15:30.650183Z"
    }
   },
   "outputs": [
    {
     "data": {
      "text/html": [
       "<div>\n",
       "<style scoped>\n",
       "    .dataframe tbody tr th:only-of-type {\n",
       "        vertical-align: middle;\n",
       "    }\n",
       "\n",
       "    .dataframe tbody tr th {\n",
       "        vertical-align: top;\n",
       "    }\n",
       "\n",
       "    .dataframe thead th {\n",
       "        text-align: right;\n",
       "    }\n",
       "</style>\n",
       "<table border=\"1\" class=\"dataframe\">\n",
       "  <thead>\n",
       "    <tr style=\"text-align: right;\">\n",
       "      <th></th>\n",
       "      <th>Train-score</th>\n",
       "      <th>Test-score</th>\n",
       "      <th>LB-score</th>\n",
       "    </tr>\n",
       "  </thead>\n",
       "  <tbody>\n",
       "    <tr>\n",
       "      <th>2-Hold-Out</th>\n",
       "      <td>0.902878</td>\n",
       "      <td>0.875026</td>\n",
       "      <td>0.862459</td>\n",
       "    </tr>\n",
       "  </tbody>\n",
       "</table>\n",
       "</div>"
      ],
      "text/plain": [
       "            Train-score  Test-score  LB-score\n",
       "2-Hold-Out     0.902878    0.875026  0.862459"
      ]
     },
     "execution_count": 9,
     "metadata": {},
     "output_type": "execute_result"
    }
   ],
   "source": [
    "train_score = roc_auc_score(y_train, model_xgb_numeric.predict_proba(x_train)[:, 1])\n",
    "test_score = roc_auc_score(y_test, model_xgb_numeric.predict_proba(x_test)[:, 1])\n",
    "LB_score = roc_auc_score(y_lb, model_xgb_numeric.predict_proba(X_lb)[:, 1])\n",
    "\n",
    "Hold_Outpd_2 = pd.DataFrame(data=[{'Train-score': train_score,\n",
    "                                   'Test-score': test_score,\n",
    "                                   'LB-score': LB_score}], index=['2-Hold-Out'])\n",
    "Hold_Outpd_2"
   ]
  },
  {
   "cell_type": "markdown",
   "metadata": {},
   "source": [
    "### Задание 2. \n",
    "Сделать Hold-Out валидацию с разбиением на 3 выборки, разбиение проводить по id-транзакции (`TransactionID`), размер каждой выборки подобрать самостоятельно. Повторить процедуру из п.1. для каждой выборки."
   ]
  },
  {
   "cell_type": "code",
   "execution_count": 10,
   "metadata": {
    "ExecuteTime": {
     "end_time": "2021-03-14T17:15:55.270784Z",
     "start_time": "2021-03-14T17:15:46.672284Z"
    }
   },
   "outputs": [],
   "source": [
    "x_train, x_valid, y_train, y_valid = train_test_split(X, y, train_size=0.75, shuffle=False, random_state=1)\n",
    "x_valid, x_test, y_valid, y_test = train_test_split(x_valid, y_valid, train_size=0.50, shuffle=False, random_state=1)"
   ]
  },
  {
   "cell_type": "code",
   "execution_count": 11,
   "metadata": {
    "ExecuteTime": {
     "end_time": "2021-03-14T17:19:36.761414Z",
     "start_time": "2021-03-14T17:15:55.553028Z"
    }
   },
   "outputs": [
    {
     "name": "stdout",
     "output_type": "stream",
     "text": [
      "[0]\tvalidation_0-auc:0.59781\tvalidation_1-auc:0.60969\n",
      "[20]\tvalidation_0-auc:0.81385\tvalidation_1-auc:0.82929\n",
      "[40]\tvalidation_0-auc:0.87183\tvalidation_1-auc:0.85479\n",
      "[60]\tvalidation_0-auc:0.88592\tvalidation_1-auc:0.86884\n",
      "[80]\tvalidation_0-auc:0.89107\tvalidation_1-auc:0.87467\n",
      "[100]\tvalidation_0-auc:0.89542\tvalidation_1-auc:0.87665\n",
      "[120]\tvalidation_0-auc:0.89897\tvalidation_1-auc:0.87870\n",
      "[140]\tvalidation_0-auc:0.90179\tvalidation_1-auc:0.88095\n",
      "[160]\tvalidation_0-auc:0.90252\tvalidation_1-auc:0.88146\n",
      "[180]\tvalidation_0-auc:0.90291\tvalidation_1-auc:0.88185\n",
      "[196]\tvalidation_0-auc:0.90291\tvalidation_1-auc:0.88185\n"
     ]
    },
    {
     "data": {
      "text/plain": [
       "XGBClassifier(base_score=0.5, booster='gbtree', colsample_bylevel=1,\n",
       "              colsample_bynode=1, colsample_bytree=1, eval_metric='auc',\n",
       "              gamma=10, gpu_id=-1, importance_type='gain',\n",
       "              interaction_constraints='', learning_rate=0.1, max_delta_step=0,\n",
       "              max_depth=4, min_child_weight=1, missing=nan,\n",
       "              monotone_constraints='()', n_estimators=1000, n_jobs=6, nthread=6,\n",
       "              num_parallel_tree=1, random_state=27, reg_alpha=0, reg_lambda=100,\n",
       "              scale_pos_weight=1, seed=27, subsample=1, tree_method='exact',\n",
       "              validate_parameters=1, verbosity=None)"
      ]
     },
     "execution_count": 11,
     "metadata": {},
     "output_type": "execute_result"
    }
   ],
   "source": [
    "model_xgb_numeric = xgb.XGBClassifier(**params)\n",
    "model_xgb_numeric.fit(X=x_train, y=y_train,\n",
    "                      eval_set=[(x_train, y_train), (x_valid, y_valid)],\n",
    "                      early_stopping_rounds=30,\n",
    "                      eval_metric=\"auc\",\n",
    "                      verbose=20)"
   ]
  },
  {
   "cell_type": "code",
   "execution_count": 12,
   "metadata": {
    "ExecuteTime": {
     "end_time": "2021-03-14T17:19:46.915633Z",
     "start_time": "2021-03-14T17:19:36.798315Z"
    }
   },
   "outputs": [
    {
     "data": {
      "text/html": [
       "<div>\n",
       "<style scoped>\n",
       "    .dataframe tbody tr th:only-of-type {\n",
       "        vertical-align: middle;\n",
       "    }\n",
       "\n",
       "    .dataframe tbody tr th {\n",
       "        vertical-align: top;\n",
       "    }\n",
       "\n",
       "    .dataframe thead th {\n",
       "        text-align: right;\n",
       "    }\n",
       "</style>\n",
       "<table border=\"1\" class=\"dataframe\">\n",
       "  <thead>\n",
       "    <tr style=\"text-align: right;\">\n",
       "      <th></th>\n",
       "      <th>Train-score</th>\n",
       "      <th>Valid-score</th>\n",
       "      <th>Test-score</th>\n",
       "      <th>LB-score</th>\n",
       "    </tr>\n",
       "  </thead>\n",
       "  <tbody>\n",
       "    <tr>\n",
       "      <th>3-Hold-Out</th>\n",
       "      <td>0.902878</td>\n",
       "      <td>0.881866</td>\n",
       "      <td>0.869149</td>\n",
       "      <td>0.862459</td>\n",
       "    </tr>\n",
       "  </tbody>\n",
       "</table>\n",
       "</div>"
      ],
      "text/plain": [
       "            Train-score  Valid-score  Test-score  LB-score\n",
       "3-Hold-Out     0.902878     0.881866    0.869149  0.862459"
      ]
     },
     "execution_count": 12,
     "metadata": {},
     "output_type": "execute_result"
    }
   ],
   "source": [
    "train_score = roc_auc_score(y_train, model_xgb_numeric.predict_proba(x_train)[:, 1])\n",
    "test_score = roc_auc_score(y_test, model_xgb_numeric.predict_proba(x_test)[:, 1])\n",
    "valid_score = roc_auc_score(y_valid, model_xgb_numeric.predict_proba(x_valid)[:, 1])\n",
    "LB_score = roc_auc_score(y_lb, model_xgb_numeric.predict_proba(X_lb)[:, 1])\n",
    "\n",
    "Hold_Outpd_3 = pd.DataFrame(data=[{'Train-score': train_score,\n",
    "                                   'Valid-score': valid_score,\n",
    "                                   'Test-score': test_score,\n",
    "                                   'LB-score': LB_score}], index=['3-Hold-Out'])\n",
    "Hold_Outpd_3"
   ]
  },
  {
   "cell_type": "markdown",
   "metadata": {},
   "source": [
    "### Задание 3. Построить доверительный интервал на данных из п.2 на основе бутстреп выборок, оценить качество модели на ЛБ относительно полученного доверительного интервала. Сделать выводы."
   ]
  },
  {
   "cell_type": "code",
   "execution_count": null,
   "metadata": {},
   "outputs": [],
   "source": []
  },
  {
   "cell_type": "code",
   "execution_count": null,
   "metadata": {},
   "outputs": [],
   "source": []
  },
  {
   "cell_type": "code",
   "execution_count": null,
   "metadata": {},
   "outputs": [],
   "source": []
  },
  {
   "cell_type": "code",
   "execution_count": null,
   "metadata": {},
   "outputs": [],
   "source": []
  },
  {
   "cell_type": "code",
   "execution_count": null,
   "metadata": {},
   "outputs": [],
   "source": []
  },
  {
   "cell_type": "markdown",
   "metadata": {},
   "source": [
    "### Задание 4. Выполнить **Adversarial Validation**, подобрать объекты из обучающей выборки, которые сильно похожи на объекты из assignment_2_test.csv, и использовать их в качестве валидационного набора. Оценить качество модели на ЛБ, сделать выводы о полученных результатах."
   ]
  },
  {
   "cell_type": "markdown",
   "metadata": {},
   "source": [
    "### Задание 5. Сделать KFold / StratifiedKFold валидацию (на ваше усмотрение), оценить получаемые качество и разброс по метрике качества. Сделать выводы об устойчивости кросс-валидации, сходимости оценки на кросс-валидации и отложенном наборе данных. Оценить качество на ЛБ, сделать выводы."
   ]
  },
  {
   "cell_type": "markdown",
   "metadata": {},
   "source": [
    "### Задание 6 (опциональное). Сделать Hold-Out валидацию по времени (TransactionDT), повторить процедуры из п.1 / п.2 (на ваш выбор). Построить доверительный интервал, сравнить качество на ЛБ выборке с полученным доверительным интервалом. Сделать выводы."
   ]
  },
  {
   "cell_type": "markdown",
   "metadata": {},
   "source": [
    "### Задание 7 (совсем опциональное): в данном наборе данных у нас есть ID-транзакции (TransactionID) и время транзакции (TransactionDT), но отсутствует ID-клиента, который совершал транзакции. Кажется, что в этой задаче валидация по клиенту работала бы хорошо. Предложить критерий, по которому можно выделить клиентов и сделать п.5, используя созданное определение клиента, используя валидацию по клиенту (GroupKFold)."
   ]
  },
  {
   "cell_type": "code",
   "execution_count": null,
   "metadata": {},
   "outputs": [],
   "source": []
  }
 ],
 "metadata": {
  "hide_input": false,
  "kernelspec": {
   "display_name": "Python 3",
   "language": "python",
   "name": "python3"
  },
  "language_info": {
   "codemirror_mode": {
    "name": "ipython",
    "version": 3
   },
   "file_extension": ".py",
   "mimetype": "text/x-python",
   "name": "python",
   "nbconvert_exporter": "python",
   "pygments_lexer": "ipython3",
   "version": "3.8.5"
  },
  "toc": {
   "base_numbering": 1,
   "nav_menu": {},
   "number_sections": true,
   "sideBar": true,
   "skip_h1_title": true,
   "title_cell": "Table of Contents",
   "title_sidebar": "Contents",
   "toc_cell": false,
   "toc_position": {},
   "toc_section_display": true,
   "toc_window_display": true
  },
  "varInspector": {
   "cols": {
    "lenName": 16,
    "lenType": 16,
    "lenVar": 40
   },
   "kernels_config": {
    "python": {
     "delete_cmd_postfix": "",
     "delete_cmd_prefix": "del ",
     "library": "var_list.py",
     "varRefreshCmd": "print(var_dic_list())"
    },
    "r": {
     "delete_cmd_postfix": ") ",
     "delete_cmd_prefix": "rm(",
     "library": "var_list.r",
     "varRefreshCmd": "cat(var_dic_list()) "
    }
   },
   "types_to_exclude": [
    "module",
    "function",
    "builtin_function_or_method",
    "instance",
    "_Feature"
   ],
   "window_display": false
  }
 },
 "nbformat": 4,
 "nbformat_minor": 4
}
