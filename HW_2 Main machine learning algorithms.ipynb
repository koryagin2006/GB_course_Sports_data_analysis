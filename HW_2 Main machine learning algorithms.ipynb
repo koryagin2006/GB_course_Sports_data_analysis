{
 "cells": [
  {
   "cell_type": "markdown",
   "metadata": {},
   "source": [
    "# Урок 2. Обзор основных алгоритмов машинного обучения, используемых в соревнованиях\n",
    "Домашнее задание\n",
    "\n",
    "В домашнем задании, будем обучать разные алгоритмы машинного обучения. Для этого, нужно предварительно зафиксировать схему валидации решения (можете выбрать любую, которую знаете). Выбранную схему валидации нужно использовать во всех задачах этого домашнего задания. Метрика качества - `ROC AUC`, целевая переменная - `isFraud`.\n",
    "\n",
    "Ссылка на данные - https://drive.google.com/file/d/1gMEVl47pIoV1-AseB9doQ6DZNJrY3NkW/view?usp=sharing"
   ]
  },
  {
   "cell_type": "markdown",
   "metadata": {},
   "source": [
    "##### Импорт библиотек"
   ]
  },
  {
   "cell_type": "code",
   "execution_count": 1,
   "metadata": {
    "ExecuteTime": {
     "end_time": "2021-03-08T16:13:04.788469Z",
     "start_time": "2021-03-08T16:12:58.920760Z"
    }
   },
   "outputs": [],
   "source": [
    "import numpy as np\n",
    "import pandas as pd\n",
    "import matplotlib.pyplot as plt\n",
    "import missingno as msno\n",
    "from sklearn.model_selection import train_test_split\n",
    "%matplotlib inline"
   ]
  },
  {
   "cell_type": "code",
   "execution_count": 68,
   "metadata": {
    "ExecuteTime": {
     "end_time": "2021-03-08T18:17:44.973631Z",
     "start_time": "2021-03-08T18:17:44.965652Z"
    }
   },
   "outputs": [],
   "source": [
    "import xgboost as xgb\n",
    "import lightgbm as lgb\n",
    "import catboost as cb\n",
    "from sklearn.metrics import roc_auc_score\n",
    "from sklearn.metrics import roc_curve"
   ]
  },
  {
   "cell_type": "code",
   "execution_count": 3,
   "metadata": {
    "ExecuteTime": {
     "end_time": "2021-03-08T16:13:14.125028Z",
     "start_time": "2021-03-08T16:13:14.121039Z"
    }
   },
   "outputs": [],
   "source": [
    "import warnings\n",
    "warnings.filterwarnings('ignore')"
   ]
  },
  {
   "cell_type": "markdown",
   "metadata": {},
   "source": [
    "## Задания основные"
   ]
  },
  {
   "cell_type": "markdown",
   "metadata": {},
   "source": [
    "### Подготовка данных"
   ]
  },
  {
   "cell_type": "markdown",
   "metadata": {},
   "source": [
    "##### Загрузка данных"
   ]
  },
  {
   "cell_type": "code",
   "execution_count": 4,
   "metadata": {
    "ExecuteTime": {
     "end_time": "2021-03-08T16:13:25.530190Z",
     "start_time": "2021-03-08T16:13:17.774069Z"
    }
   },
   "outputs": [
    {
     "name": "stdout",
     "output_type": "stream",
     "text": [
      "train.shape = 180000 rows, 394 cols\n"
     ]
    }
   ],
   "source": [
    "train = pd.read_csv('./data/assignment2_data/assignment_2_train.csv')\n",
    "# test = pd.read_csv('./data/assignment2_data/assignment_2_test.csv')\n",
    "target = 'isFraud'\n",
    "\n",
    "print(\"train.shape = {} rows, {} cols\".format(*train.shape))\n",
    "# print(\"test.shape = {} rows, {} cols\".format(*test.shape))"
   ]
  },
  {
   "cell_type": "markdown",
   "metadata": {},
   "source": [
    "##### Разделим  признаки `train` на числовые и категориальные"
   ]
  },
  {
   "cell_type": "code",
   "execution_count": 5,
   "metadata": {
    "ExecuteTime": {
     "end_time": "2021-03-08T16:13:29.531939Z",
     "start_time": "2021-03-08T16:13:27.554269Z"
    }
   },
   "outputs": [
    {
     "name": "stdout",
     "output_type": "stream",
     "text": [
      "count of all features in = 393\n",
      "count of numeric features = 379\n",
      "count of categorical features = 14\n"
     ]
    }
   ],
   "source": [
    "all_features = train.drop(target, axis=1)\n",
    "numerical_features = train.select_dtypes(include=[np.number]).drop(target, axis=1)\n",
    "categorical_features = train.select_dtypes(include=[np.object])\n",
    "categorical_features = categorical_features.astype('category')\n",
    "\n",
    "print(f'count of all features in = {all_features.shape[1]}')\n",
    "print(f\"count of numeric features = {numerical_features.shape[1]}\")\n",
    "print(f\"count of categorical features = {categorical_features.shape[1]}\")"
   ]
  },
  {
   "cell_type": "markdown",
   "metadata": {},
   "source": [
    "##### Разделим numerical_features на x_train и x_valid"
   ]
  },
  {
   "cell_type": "code",
   "execution_count": 6,
   "metadata": {
    "ExecuteTime": {
     "end_time": "2021-03-08T16:13:33.102853Z",
     "start_time": "2021-03-08T16:13:32.046209Z"
    }
   },
   "outputs": [],
   "source": [
    "# x_train_num\n",
    "x_train_num, x_valid_num, y_train_num, y_valid_num = \\\n",
    "        train_test_split(numerical_features, train[target], train_size=0.8, random_state=42)"
   ]
  },
  {
   "cell_type": "code",
   "execution_count": 7,
   "metadata": {
    "ExecuteTime": {
     "end_time": "2021-03-08T16:13:42.610654Z",
     "start_time": "2021-03-08T16:13:36.786039Z"
    }
   },
   "outputs": [],
   "source": [
    "# x_train_num_cat\n",
    "num_cat_features = pd.concat([numerical_features, categorical_features], axis=1)\n",
    "\n",
    "x_train_num_cat, x_valid_num_cat, y_train_num_cat, y_valid_num_cat = \\\n",
    "        train_test_split(num_cat_features, train[target], train_size=0.8, random_state=42)"
   ]
  },
  {
   "cell_type": "markdown",
   "metadata": {},
   "source": [
    "##### Сделаем get_dummies и добавим категориальные признаки к числовым"
   ]
  },
  {
   "cell_type": "code",
   "execution_count": 8,
   "metadata": {
    "ExecuteTime": {
     "end_time": "2021-03-08T16:13:56.733791Z",
     "start_time": "2021-03-08T16:13:48.815254Z"
    }
   },
   "outputs": [],
   "source": [
    "categorical_features_2 = categorical_features.copy()\n",
    "\n",
    "for col in ['M1', 'M2', 'M3', 'M5', 'M6', 'M7', 'M8', 'M9']:\n",
    "    categorical_features_2[col] = categorical_features_2[col].map({'T': 0, 'F': 1})\n",
    "    categorical_features_2[col] = categorical_features_2[col].astype('float')\n",
    "    \n",
    "num_cat_features_dummies = pd.concat([numerical_features, \n",
    "                                      pd.get_dummies(categorical_features_2)], axis=1)\n",
    "\n",
    "x_train_num_cat_dummies, x_valid_num_cat_dummies, y_train_num_cat_dummies, y_valid_num_cat_dummies = \\\n",
    "        train_test_split(num_cat_features_dummies, train[target], train_size=0.8, random_state=42)"
   ]
  },
  {
   "cell_type": "markdown",
   "metadata": {},
   "source": [
    "### XGBoost"
   ]
  },
  {
   "cell_type": "markdown",
   "metadata": {},
   "source": [
    "#### Задание 1: отобрать только числовые признаки и обучить модель XGBoost с параметром `booster=gbtree`. Обучать алгоритм до тех пор, пока метрика качества не перестанет улучшаться на валидационной выборке в течение определенного числа итераций (выбрать значение самостоятельно)."
   ]
  },
  {
   "cell_type": "code",
   "execution_count": 9,
   "metadata": {
    "ExecuteTime": {
     "end_time": "2021-03-08T16:14:26.400027Z",
     "start_time": "2021-03-08T16:14:26.381078Z"
    },
    "code_folding": []
   },
   "outputs": [],
   "source": [
    "params = {\n",
    "    \"booster\": \"gbtree\",\n",
    "    \"objective\": \"binary:logistic\",\n",
    "    \"eval_metric\": \"auc\",\n",
    "    \"learning_rate\": 0.1,\n",
    "    \"n_estimators\": 1000,\n",
    "    \"reg_lambda\": 100,\n",
    "    \"max_depth\": 4,\n",
    "    \"gamma\": 10,\n",
    "    \"nthread\": 6,\n",
    "    \"seed\": 27\n",
    "}"
   ]
  },
  {
   "cell_type": "code",
   "execution_count": 10,
   "metadata": {
    "ExecuteTime": {
     "end_time": "2021-03-08T16:19:45.946657Z",
     "start_time": "2021-03-08T16:15:00.028521Z"
    },
    "code_folding": [],
    "scrolled": true
   },
   "outputs": [
    {
     "name": "stdout",
     "output_type": "stream",
     "text": [
      "[0]\tvalidation_0-auc:0.65232\tvalidation_1-auc:0.63974\n",
      "[20]\tvalidation_0-auc:0.82254\tvalidation_1-auc:0.81751\n",
      "[40]\tvalidation_0-auc:0.87410\tvalidation_1-auc:0.86886\n",
      "[60]\tvalidation_0-auc:0.88985\tvalidation_1-auc:0.88052\n",
      "[80]\tvalidation_0-auc:0.89506\tvalidation_1-auc:0.88571\n",
      "[100]\tvalidation_0-auc:0.89986\tvalidation_1-auc:0.89033\n",
      "[120]\tvalidation_0-auc:0.90421\tvalidation_1-auc:0.89389\n",
      "[140]\tvalidation_0-auc:0.90699\tvalidation_1-auc:0.89598\n",
      "[160]\tvalidation_0-auc:0.90934\tvalidation_1-auc:0.89814\n",
      "[180]\tvalidation_0-auc:0.91030\tvalidation_1-auc:0.89892\n",
      "[200]\tvalidation_0-auc:0.91030\tvalidation_1-auc:0.89892\n",
      "[220]\tvalidation_0-auc:0.91030\tvalidation_1-auc:0.89892\n"
     ]
    },
    {
     "data": {
      "text/plain": [
       "XGBClassifier(base_score=0.5, booster='gbtree', colsample_bylevel=1,\n",
       "              colsample_bynode=1, colsample_bytree=1, eval_metric='auc',\n",
       "              gamma=10, gpu_id=-1, importance_type='gain',\n",
       "              interaction_constraints='', learning_rate=0.1, max_delta_step=0,\n",
       "              max_depth=4, min_child_weight=1, missing=nan,\n",
       "              monotone_constraints='()', n_estimators=1000, n_jobs=6, nthread=6,\n",
       "              num_parallel_tree=1, random_state=27, reg_alpha=0, reg_lambda=100,\n",
       "              scale_pos_weight=1, seed=27, subsample=1, tree_method='exact',\n",
       "              validate_parameters=1, verbosity=None)"
      ]
     },
     "execution_count": 10,
     "metadata": {},
     "output_type": "execute_result"
    }
   ],
   "source": [
    "model_xgb_numeric = xgb.XGBClassifier(**params)\n",
    "model_xgb_numeric.fit(X=x_train_num,\n",
    "                      y=y_train_num,\n",
    "                      eval_set=[(x_train_num, y_train_num), (x_valid_num, y_valid_num)],\n",
    "                      early_stopping_rounds=50,\n",
    "                      eval_metric=\"auc\",\n",
    "                      verbose=20)"
   ]
  },
  {
   "cell_type": "markdown",
   "metadata": {},
   "source": [
    "#### Задание 2: обработать категориальные признаки любым способом (который вы знаете) и добавить их к данным. Выполнить задание 1."
   ]
  },
  {
   "cell_type": "code",
   "execution_count": 11,
   "metadata": {
    "ExecuteTime": {
     "end_time": "2021-03-08T16:24:57.841025Z",
     "start_time": "2021-03-08T16:20:25.873987Z"
    },
    "scrolled": true
   },
   "outputs": [
    {
     "name": "stdout",
     "output_type": "stream",
     "text": [
      "[0]\tvalidation_0-auc:0.65232\tvalidation_1-auc:0.63974\n",
      "[20]\tvalidation_0-auc:0.82278\tvalidation_1-auc:0.81779\n",
      "[40]\tvalidation_0-auc:0.87642\tvalidation_1-auc:0.86819\n",
      "[60]\tvalidation_0-auc:0.89552\tvalidation_1-auc:0.88377\n",
      "[80]\tvalidation_0-auc:0.90255\tvalidation_1-auc:0.89074\n",
      "[100]\tvalidation_0-auc:0.90862\tvalidation_1-auc:0.89589\n",
      "[120]\tvalidation_0-auc:0.91320\tvalidation_1-auc:0.89994\n",
      "[140]\tvalidation_0-auc:0.91603\tvalidation_1-auc:0.90254\n",
      "[160]\tvalidation_0-auc:0.91712\tvalidation_1-auc:0.90365\n",
      "[180]\tvalidation_0-auc:0.91712\tvalidation_1-auc:0.90365\n",
      "[199]\tvalidation_0-auc:0.91712\tvalidation_1-auc:0.90365\n"
     ]
    },
    {
     "data": {
      "text/plain": [
       "XGBClassifier(base_score=0.5, booster='gbtree', colsample_bylevel=1,\n",
       "              colsample_bynode=1, colsample_bytree=1, eval_metric='auc',\n",
       "              gamma=10, gpu_id=-1, importance_type='gain',\n",
       "              interaction_constraints='', learning_rate=0.1, max_delta_step=0,\n",
       "              max_depth=4, min_child_weight=1, missing=nan,\n",
       "              monotone_constraints='()', n_estimators=1000, n_jobs=6, nthread=6,\n",
       "              num_parallel_tree=1, random_state=27, reg_alpha=0, reg_lambda=100,\n",
       "              scale_pos_weight=1, seed=27, subsample=1, tree_method='exact',\n",
       "              validate_parameters=1, verbosity=None)"
      ]
     },
     "execution_count": 11,
     "metadata": {},
     "output_type": "execute_result"
    }
   ],
   "source": [
    "model_xgb_numeric_and_cat = xgb.XGBClassifier(**params)\n",
    "model_xgb_numeric_and_cat.fit(X=x_train_num_cat_dummies,\n",
    "                              y=y_train_num_cat_dummies,\n",
    "                              eval_set=[(x_train_num_cat_dummies,\n",
    "                                         y_train_num_cat_dummies),\n",
    "                                        (x_valid_num_cat_dummies,\n",
    "                                         y_valid_num_cat_dummies)],\n",
    "                              early_stopping_rounds=50,\n",
    "                              eval_metric=\"auc\",\n",
    "                              verbose=20)"
   ]
  },
  {
   "cell_type": "markdown",
   "metadata": {},
   "source": [
    "### LightGBM"
   ]
  },
  {
   "cell_type": "markdown",
   "metadata": {},
   "source": [
    "#### Задание 4: для числовых признаков обучить модель LightGBM. Обучать алгоритм до тех пор, пока метрика качества не перестанет улучшаться на валидационной выборке в течение определенного числа итераций (выбрать значение самостоятельно)."
   ]
  },
  {
   "cell_type": "code",
   "execution_count": 12,
   "metadata": {
    "ExecuteTime": {
     "end_time": "2021-03-08T16:29:41.003312Z",
     "start_time": "2021-03-08T16:29:40.993339Z"
    }
   },
   "outputs": [],
   "source": [
    "params = {\n",
    "    \"boosting_type\": \"gbdt\",\n",
    "    \"objective\": \"binary\",\n",
    "    \"metric\": \"auc\",\n",
    "    \"learning_rate\": 0.01,\n",
    "    \"n_estimators\": 5000,\n",
    "    \"n_jobs\": 6,\n",
    "    \"seed\": 27\n",
    "}"
   ]
  },
  {
   "cell_type": "code",
   "execution_count": 13,
   "metadata": {
    "ExecuteTime": {
     "end_time": "2021-03-08T16:40:16.484102Z",
     "start_time": "2021-03-08T16:29:56.767335Z"
    },
    "scrolled": true
   },
   "outputs": [
    {
     "name": "stdout",
     "output_type": "stream",
     "text": [
      "Training until validation scores don't improve for 30 rounds\n",
      "[20]\ttraining's auc: 0.841194\tvalid_1's auc: 0.833322\n",
      "[40]\ttraining's auc: 0.870331\tvalid_1's auc: 0.86328\n",
      "[60]\ttraining's auc: 0.880724\tvalid_1's auc: 0.870946\n",
      "[80]\ttraining's auc: 0.884452\tvalid_1's auc: 0.873292\n",
      "[100]\ttraining's auc: 0.890733\tvalid_1's auc: 0.880059\n",
      "[120]\ttraining's auc: 0.895094\tvalid_1's auc: 0.883657\n",
      "[140]\ttraining's auc: 0.901101\tvalid_1's auc: 0.888727\n",
      "[160]\ttraining's auc: 0.90501\tvalid_1's auc: 0.892693\n",
      "[180]\ttraining's auc: 0.907912\tvalid_1's auc: 0.895344\n",
      "[200]\ttraining's auc: 0.910985\tvalid_1's auc: 0.898356\n",
      "[220]\ttraining's auc: 0.913397\tvalid_1's auc: 0.899755\n",
      "[240]\ttraining's auc: 0.916111\tvalid_1's auc: 0.901534\n",
      "[260]\ttraining's auc: 0.918819\tvalid_1's auc: 0.903648\n",
      "[280]\ttraining's auc: 0.92173\tvalid_1's auc: 0.905785\n",
      "[300]\ttraining's auc: 0.924639\tvalid_1's auc: 0.907984\n",
      "[320]\ttraining's auc: 0.927717\tvalid_1's auc: 0.910176\n",
      "[340]\ttraining's auc: 0.931666\tvalid_1's auc: 0.911509\n",
      "[360]\ttraining's auc: 0.933982\tvalid_1's auc: 0.912982\n",
      "[380]\ttraining's auc: 0.936107\tvalid_1's auc: 0.914336\n",
      "[400]\ttraining's auc: 0.938157\tvalid_1's auc: 0.915875\n",
      "[420]\ttraining's auc: 0.939716\tvalid_1's auc: 0.917141\n",
      "[440]\ttraining's auc: 0.94127\tvalid_1's auc: 0.918509\n",
      "[460]\ttraining's auc: 0.942963\tvalid_1's auc: 0.919797\n",
      "[480]\ttraining's auc: 0.94466\tvalid_1's auc: 0.920749\n",
      "[500]\ttraining's auc: 0.946273\tvalid_1's auc: 0.921433\n",
      "[520]\ttraining's auc: 0.947536\tvalid_1's auc: 0.922216\n",
      "[540]\ttraining's auc: 0.948545\tvalid_1's auc: 0.922758\n",
      "[560]\ttraining's auc: 0.949647\tvalid_1's auc: 0.92343\n",
      "[580]\ttraining's auc: 0.950655\tvalid_1's auc: 0.92446\n",
      "[600]\ttraining's auc: 0.951665\tvalid_1's auc: 0.925137\n",
      "[620]\ttraining's auc: 0.95286\tvalid_1's auc: 0.925901\n",
      "[640]\ttraining's auc: 0.95396\tvalid_1's auc: 0.926345\n",
      "[660]\ttraining's auc: 0.954957\tvalid_1's auc: 0.926921\n",
      "[680]\ttraining's auc: 0.955734\tvalid_1's auc: 0.927495\n",
      "[700]\ttraining's auc: 0.956541\tvalid_1's auc: 0.928001\n",
      "[720]\ttraining's auc: 0.957348\tvalid_1's auc: 0.928554\n",
      "[740]\ttraining's auc: 0.958138\tvalid_1's auc: 0.929056\n",
      "[760]\ttraining's auc: 0.959008\tvalid_1's auc: 0.929484\n",
      "[780]\ttraining's auc: 0.959957\tvalid_1's auc: 0.929978\n",
      "[800]\ttraining's auc: 0.960975\tvalid_1's auc: 0.930405\n",
      "[820]\ttraining's auc: 0.961821\tvalid_1's auc: 0.930868\n",
      "[840]\ttraining's auc: 0.962763\tvalid_1's auc: 0.931323\n",
      "[860]\ttraining's auc: 0.963562\tvalid_1's auc: 0.931756\n",
      "[880]\ttraining's auc: 0.964236\tvalid_1's auc: 0.932233\n",
      "[900]\ttraining's auc: 0.964883\tvalid_1's auc: 0.932695\n",
      "[920]\ttraining's auc: 0.965636\tvalid_1's auc: 0.933284\n",
      "[940]\ttraining's auc: 0.966285\tvalid_1's auc: 0.933663\n",
      "[960]\ttraining's auc: 0.966808\tvalid_1's auc: 0.934008\n",
      "[980]\ttraining's auc: 0.967662\tvalid_1's auc: 0.934302\n",
      "[1000]\ttraining's auc: 0.9682\tvalid_1's auc: 0.934637\n",
      "[1020]\ttraining's auc: 0.968769\tvalid_1's auc: 0.935037\n",
      "[1040]\ttraining's auc: 0.969321\tvalid_1's auc: 0.935394\n",
      "[1060]\ttraining's auc: 0.969883\tvalid_1's auc: 0.935878\n",
      "[1080]\ttraining's auc: 0.970478\tvalid_1's auc: 0.936356\n",
      "[1100]\ttraining's auc: 0.97093\tvalid_1's auc: 0.936692\n",
      "[1120]\ttraining's auc: 0.971545\tvalid_1's auc: 0.936994\n",
      "[1140]\ttraining's auc: 0.971943\tvalid_1's auc: 0.937331\n",
      "[1160]\ttraining's auc: 0.972344\tvalid_1's auc: 0.937563\n",
      "[1180]\ttraining's auc: 0.972804\tvalid_1's auc: 0.937867\n",
      "[1200]\ttraining's auc: 0.973283\tvalid_1's auc: 0.938126\n",
      "[1220]\ttraining's auc: 0.973835\tvalid_1's auc: 0.938482\n",
      "[1240]\ttraining's auc: 0.974383\tvalid_1's auc: 0.93881\n",
      "[1260]\ttraining's auc: 0.974883\tvalid_1's auc: 0.939109\n",
      "[1280]\ttraining's auc: 0.975452\tvalid_1's auc: 0.93957\n",
      "[1300]\ttraining's auc: 0.975908\tvalid_1's auc: 0.939903\n",
      "[1320]\ttraining's auc: 0.976272\tvalid_1's auc: 0.9402\n",
      "[1340]\ttraining's auc: 0.976738\tvalid_1's auc: 0.940542\n",
      "[1360]\ttraining's auc: 0.977029\tvalid_1's auc: 0.940918\n",
      "[1380]\ttraining's auc: 0.977449\tvalid_1's auc: 0.941299\n",
      "[1400]\ttraining's auc: 0.977766\tvalid_1's auc: 0.94168\n",
      "[1420]\ttraining's auc: 0.978126\tvalid_1's auc: 0.942025\n",
      "[1440]\ttraining's auc: 0.97847\tvalid_1's auc: 0.94218\n",
      "[1460]\ttraining's auc: 0.978769\tvalid_1's auc: 0.942465\n",
      "[1480]\ttraining's auc: 0.979096\tvalid_1's auc: 0.94283\n",
      "[1500]\ttraining's auc: 0.979425\tvalid_1's auc: 0.9431\n",
      "[1520]\ttraining's auc: 0.979756\tvalid_1's auc: 0.943315\n",
      "[1540]\ttraining's auc: 0.98008\tvalid_1's auc: 0.943549\n",
      "[1560]\ttraining's auc: 0.980411\tvalid_1's auc: 0.943836\n",
      "[1580]\ttraining's auc: 0.980677\tvalid_1's auc: 0.944065\n",
      "[1600]\ttraining's auc: 0.980924\tvalid_1's auc: 0.944281\n",
      "[1620]\ttraining's auc: 0.981204\tvalid_1's auc: 0.94447\n",
      "[1640]\ttraining's auc: 0.981438\tvalid_1's auc: 0.944685\n",
      "[1660]\ttraining's auc: 0.98166\tvalid_1's auc: 0.944816\n",
      "[1680]\ttraining's auc: 0.981962\tvalid_1's auc: 0.945046\n",
      "[1700]\ttraining's auc: 0.982177\tvalid_1's auc: 0.94518\n",
      "[1720]\ttraining's auc: 0.982392\tvalid_1's auc: 0.945311\n",
      "[1740]\ttraining's auc: 0.982602\tvalid_1's auc: 0.945445\n",
      "[1760]\ttraining's auc: 0.982781\tvalid_1's auc: 0.945703\n",
      "[1780]\ttraining's auc: 0.983054\tvalid_1's auc: 0.945923\n",
      "[1800]\ttraining's auc: 0.983289\tvalid_1's auc: 0.946057\n",
      "[1820]\ttraining's auc: 0.98351\tvalid_1's auc: 0.946281\n",
      "[1840]\ttraining's auc: 0.983679\tvalid_1's auc: 0.946479\n",
      "[1860]\ttraining's auc: 0.983888\tvalid_1's auc: 0.946674\n",
      "[1880]\ttraining's auc: 0.98413\tvalid_1's auc: 0.946951\n",
      "[1900]\ttraining's auc: 0.984381\tvalid_1's auc: 0.947042\n",
      "[1920]\ttraining's auc: 0.984545\tvalid_1's auc: 0.947211\n",
      "[1940]\ttraining's auc: 0.984751\tvalid_1's auc: 0.947437\n",
      "[1960]\ttraining's auc: 0.984962\tvalid_1's auc: 0.94759\n",
      "[1980]\ttraining's auc: 0.985139\tvalid_1's auc: 0.947749\n",
      "[2000]\ttraining's auc: 0.985288\tvalid_1's auc: 0.947855\n",
      "[2020]\ttraining's auc: 0.985441\tvalid_1's auc: 0.947989\n",
      "[2040]\ttraining's auc: 0.985615\tvalid_1's auc: 0.948153\n",
      "[2060]\ttraining's auc: 0.985789\tvalid_1's auc: 0.948266\n",
      "[2080]\ttraining's auc: 0.986005\tvalid_1's auc: 0.948416\n",
      "[2100]\ttraining's auc: 0.986147\tvalid_1's auc: 0.948544\n",
      "[2120]\ttraining's auc: 0.98633\tvalid_1's auc: 0.948735\n",
      "[2140]\ttraining's auc: 0.986506\tvalid_1's auc: 0.948825\n",
      "[2160]\ttraining's auc: 0.986669\tvalid_1's auc: 0.94897\n",
      "[2180]\ttraining's auc: 0.986764\tvalid_1's auc: 0.949046\n",
      "[2200]\ttraining's auc: 0.986898\tvalid_1's auc: 0.949216\n",
      "[2220]\ttraining's auc: 0.987043\tvalid_1's auc: 0.949324\n",
      "[2240]\ttraining's auc: 0.987191\tvalid_1's auc: 0.949421\n",
      "[2260]\ttraining's auc: 0.987346\tvalid_1's auc: 0.949504\n",
      "[2280]\ttraining's auc: 0.987482\tvalid_1's auc: 0.949618\n",
      "[2300]\ttraining's auc: 0.987606\tvalid_1's auc: 0.949694\n",
      "[2320]\ttraining's auc: 0.987766\tvalid_1's auc: 0.949767\n",
      "[2340]\ttraining's auc: 0.987895\tvalid_1's auc: 0.949859\n",
      "[2360]\ttraining's auc: 0.987999\tvalid_1's auc: 0.949968\n",
      "[2380]\ttraining's auc: 0.988173\tvalid_1's auc: 0.950064\n",
      "[2400]\ttraining's auc: 0.988378\tvalid_1's auc: 0.950143\n",
      "[2420]\ttraining's auc: 0.988505\tvalid_1's auc: 0.950263\n",
      "[2440]\ttraining's auc: 0.988633\tvalid_1's auc: 0.95043\n",
      "[2460]\ttraining's auc: 0.988804\tvalid_1's auc: 0.950478\n",
      "[2480]\ttraining's auc: 0.988965\tvalid_1's auc: 0.95059\n",
      "[2500]\ttraining's auc: 0.989157\tvalid_1's auc: 0.950639\n",
      "[2520]\ttraining's auc: 0.989335\tvalid_1's auc: 0.950689\n",
      "[2540]\ttraining's auc: 0.989459\tvalid_1's auc: 0.950725\n",
      "[2560]\ttraining's auc: 0.989563\tvalid_1's auc: 0.950773\n",
      "[2580]\ttraining's auc: 0.989669\tvalid_1's auc: 0.950947\n",
      "[2600]\ttraining's auc: 0.98977\tvalid_1's auc: 0.951087\n",
      "[2620]\ttraining's auc: 0.989887\tvalid_1's auc: 0.951178\n",
      "[2640]\ttraining's auc: 0.990035\tvalid_1's auc: 0.951257\n",
      "[2660]\ttraining's auc: 0.990125\tvalid_1's auc: 0.951316\n",
      "[2680]\ttraining's auc: 0.990249\tvalid_1's auc: 0.951377\n",
      "[2700]\ttraining's auc: 0.990349\tvalid_1's auc: 0.951481\n",
      "[2720]\ttraining's auc: 0.990464\tvalid_1's auc: 0.951598\n",
      "[2740]\ttraining's auc: 0.990555\tvalid_1's auc: 0.95173\n",
      "[2760]\ttraining's auc: 0.990649\tvalid_1's auc: 0.951756\n",
      "[2780]\ttraining's auc: 0.990772\tvalid_1's auc: 0.951834\n",
      "[2800]\ttraining's auc: 0.990855\tvalid_1's auc: 0.951938\n",
      "[2820]\ttraining's auc: 0.990965\tvalid_1's auc: 0.952009\n",
      "[2840]\ttraining's auc: 0.99106\tvalid_1's auc: 0.952096\n",
      "[2860]\ttraining's auc: 0.991156\tvalid_1's auc: 0.95217\n",
      "[2880]\ttraining's auc: 0.991244\tvalid_1's auc: 0.952275\n",
      "[2900]\ttraining's auc: 0.991318\tvalid_1's auc: 0.952388\n",
      "[2920]\ttraining's auc: 0.99146\tvalid_1's auc: 0.952455\n",
      "[2940]\ttraining's auc: 0.99158\tvalid_1's auc: 0.952509\n"
     ]
    },
    {
     "name": "stdout",
     "output_type": "stream",
     "text": [
      "[2960]\ttraining's auc: 0.991758\tvalid_1's auc: 0.952592\n",
      "[2980]\ttraining's auc: 0.991877\tvalid_1's auc: 0.952664\n",
      "[3000]\ttraining's auc: 0.992023\tvalid_1's auc: 0.952772\n",
      "[3020]\ttraining's auc: 0.992162\tvalid_1's auc: 0.95291\n",
      "[3040]\ttraining's auc: 0.992272\tvalid_1's auc: 0.952982\n",
      "[3060]\ttraining's auc: 0.99248\tvalid_1's auc: 0.953091\n",
      "[3080]\ttraining's auc: 0.992601\tvalid_1's auc: 0.953116\n",
      "[3100]\ttraining's auc: 0.992685\tvalid_1's auc: 0.9532\n",
      "[3120]\ttraining's auc: 0.992764\tvalid_1's auc: 0.953243\n",
      "[3140]\ttraining's auc: 0.992825\tvalid_1's auc: 0.95327\n",
      "[3160]\ttraining's auc: 0.992927\tvalid_1's auc: 0.953373\n",
      "[3180]\ttraining's auc: 0.99302\tvalid_1's auc: 0.953441\n",
      "[3200]\ttraining's auc: 0.993122\tvalid_1's auc: 0.953507\n",
      "[3220]\ttraining's auc: 0.993212\tvalid_1's auc: 0.95356\n",
      "[3240]\ttraining's auc: 0.99327\tvalid_1's auc: 0.953624\n",
      "[3260]\ttraining's auc: 0.993351\tvalid_1's auc: 0.95369\n",
      "[3280]\ttraining's auc: 0.993423\tvalid_1's auc: 0.953745\n",
      "[3300]\ttraining's auc: 0.993485\tvalid_1's auc: 0.953834\n",
      "[3320]\ttraining's auc: 0.993607\tvalid_1's auc: 0.953849\n",
      "[3340]\ttraining's auc: 0.99368\tvalid_1's auc: 0.953929\n",
      "[3360]\ttraining's auc: 0.993779\tvalid_1's auc: 0.954038\n",
      "[3380]\ttraining's auc: 0.99388\tvalid_1's auc: 0.954082\n",
      "[3400]\ttraining's auc: 0.99392\tvalid_1's auc: 0.954115\n",
      "[3420]\ttraining's auc: 0.993974\tvalid_1's auc: 0.954181\n",
      "[3440]\ttraining's auc: 0.994037\tvalid_1's auc: 0.954264\n",
      "[3460]\ttraining's auc: 0.994111\tvalid_1's auc: 0.95431\n",
      "[3480]\ttraining's auc: 0.994211\tvalid_1's auc: 0.954362\n",
      "[3500]\ttraining's auc: 0.994337\tvalid_1's auc: 0.954453\n",
      "[3520]\ttraining's auc: 0.994415\tvalid_1's auc: 0.954484\n",
      "[3540]\ttraining's auc: 0.994472\tvalid_1's auc: 0.954552\n",
      "[3560]\ttraining's auc: 0.994546\tvalid_1's auc: 0.954619\n",
      "[3580]\ttraining's auc: 0.99462\tvalid_1's auc: 0.95471\n",
      "[3600]\ttraining's auc: 0.994661\tvalid_1's auc: 0.95477\n",
      "[3620]\ttraining's auc: 0.994707\tvalid_1's auc: 0.954828\n",
      "[3640]\ttraining's auc: 0.994771\tvalid_1's auc: 0.954876\n",
      "[3660]\ttraining's auc: 0.994828\tvalid_1's auc: 0.954927\n",
      "[3680]\ttraining's auc: 0.994911\tvalid_1's auc: 0.955052\n",
      "[3700]\ttraining's auc: 0.994971\tvalid_1's auc: 0.955074\n",
      "[3720]\ttraining's auc: 0.995041\tvalid_1's auc: 0.955096\n",
      "[3740]\ttraining's auc: 0.995099\tvalid_1's auc: 0.955139\n",
      "[3760]\ttraining's auc: 0.995151\tvalid_1's auc: 0.955166\n",
      "[3780]\ttraining's auc: 0.995202\tvalid_1's auc: 0.955229\n",
      "[3800]\ttraining's auc: 0.995308\tvalid_1's auc: 0.955243\n",
      "[3820]\ttraining's auc: 0.995352\tvalid_1's auc: 0.955308\n",
      "[3840]\ttraining's auc: 0.995441\tvalid_1's auc: 0.955377\n",
      "[3860]\ttraining's auc: 0.995496\tvalid_1's auc: 0.955463\n",
      "[3880]\ttraining's auc: 0.99556\tvalid_1's auc: 0.955518\n",
      "[3900]\ttraining's auc: 0.9956\tvalid_1's auc: 0.955567\n",
      "[3920]\ttraining's auc: 0.995652\tvalid_1's auc: 0.955625\n",
      "[3940]\ttraining's auc: 0.99571\tvalid_1's auc: 0.955716\n",
      "[3960]\ttraining's auc: 0.995741\tvalid_1's auc: 0.955779\n",
      "[3980]\ttraining's auc: 0.995802\tvalid_1's auc: 0.955911\n",
      "[4000]\ttraining's auc: 0.995857\tvalid_1's auc: 0.955994\n",
      "[4020]\ttraining's auc: 0.995913\tvalid_1's auc: 0.956054\n",
      "[4040]\ttraining's auc: 0.995984\tvalid_1's auc: 0.956161\n",
      "[4060]\ttraining's auc: 0.996051\tvalid_1's auc: 0.956214\n",
      "[4080]\ttraining's auc: 0.996102\tvalid_1's auc: 0.9563\n",
      "[4100]\ttraining's auc: 0.996156\tvalid_1's auc: 0.956368\n",
      "[4120]\ttraining's auc: 0.99621\tvalid_1's auc: 0.956465\n",
      "[4140]\ttraining's auc: 0.996263\tvalid_1's auc: 0.956489\n",
      "[4160]\ttraining's auc: 0.996292\tvalid_1's auc: 0.956537\n",
      "[4180]\ttraining's auc: 0.996339\tvalid_1's auc: 0.956598\n",
      "[4200]\ttraining's auc: 0.996369\tvalid_1's auc: 0.956668\n",
      "[4220]\ttraining's auc: 0.996409\tvalid_1's auc: 0.956716\n",
      "[4240]\ttraining's auc: 0.996431\tvalid_1's auc: 0.956751\n",
      "[4260]\ttraining's auc: 0.996476\tvalid_1's auc: 0.956751\n",
      "[4280]\ttraining's auc: 0.996529\tvalid_1's auc: 0.956803\n",
      "[4300]\ttraining's auc: 0.996588\tvalid_1's auc: 0.956818\n",
      "[4320]\ttraining's auc: 0.996622\tvalid_1's auc: 0.956844\n",
      "[4340]\ttraining's auc: 0.996653\tvalid_1's auc: 0.956894\n",
      "[4360]\ttraining's auc: 0.996694\tvalid_1's auc: 0.956928\n",
      "[4380]\ttraining's auc: 0.996717\tvalid_1's auc: 0.957014\n",
      "[4400]\ttraining's auc: 0.996753\tvalid_1's auc: 0.95703\n",
      "[4420]\ttraining's auc: 0.996803\tvalid_1's auc: 0.957121\n",
      "[4440]\ttraining's auc: 0.996829\tvalid_1's auc: 0.957162\n",
      "[4460]\ttraining's auc: 0.996879\tvalid_1's auc: 0.957251\n",
      "[4480]\ttraining's auc: 0.996913\tvalid_1's auc: 0.95731\n",
      "[4500]\ttraining's auc: 0.99694\tvalid_1's auc: 0.957351\n",
      "[4520]\ttraining's auc: 0.996978\tvalid_1's auc: 0.957375\n",
      "[4540]\ttraining's auc: 0.997007\tvalid_1's auc: 0.957398\n",
      "[4560]\ttraining's auc: 0.997043\tvalid_1's auc: 0.957427\n",
      "[4580]\ttraining's auc: 0.997077\tvalid_1's auc: 0.957479\n",
      "[4600]\ttraining's auc: 0.997127\tvalid_1's auc: 0.957548\n",
      "[4620]\ttraining's auc: 0.997168\tvalid_1's auc: 0.95756\n",
      "[4640]\ttraining's auc: 0.997195\tvalid_1's auc: 0.957582\n",
      "[4660]\ttraining's auc: 0.997248\tvalid_1's auc: 0.957617\n",
      "[4680]\ttraining's auc: 0.997274\tvalid_1's auc: 0.957669\n",
      "[4700]\ttraining's auc: 0.997311\tvalid_1's auc: 0.957683\n",
      "[4720]\ttraining's auc: 0.997376\tvalid_1's auc: 0.957725\n",
      "[4740]\ttraining's auc: 0.997453\tvalid_1's auc: 0.957741\n",
      "[4760]\ttraining's auc: 0.997539\tvalid_1's auc: 0.957783\n",
      "[4780]\ttraining's auc: 0.997611\tvalid_1's auc: 0.95776\n",
      "[4800]\ttraining's auc: 0.997653\tvalid_1's auc: 0.957795\n",
      "[4820]\ttraining's auc: 0.997723\tvalid_1's auc: 0.957807\n",
      "[4840]\ttraining's auc: 0.997761\tvalid_1's auc: 0.957825\n",
      "[4860]\ttraining's auc: 0.997824\tvalid_1's auc: 0.957824\n",
      "[4880]\ttraining's auc: 0.997865\tvalid_1's auc: 0.957847\n",
      "[4900]\ttraining's auc: 0.997889\tvalid_1's auc: 0.957908\n",
      "[4920]\ttraining's auc: 0.997943\tvalid_1's auc: 0.957944\n",
      "[4940]\ttraining's auc: 0.997983\tvalid_1's auc: 0.957935\n",
      "Early stopping, best iteration is:\n",
      "[4922]\ttraining's auc: 0.997947\tvalid_1's auc: 0.957954\n"
     ]
    },
    {
     "data": {
      "text/plain": [
       "LGBMClassifier(learning_rate=0.01, metric='auc', n_estimators=5000, n_jobs=6,\n",
       "               objective='binary', seed=27)"
      ]
     },
     "execution_count": 13,
     "metadata": {},
     "output_type": "execute_result"
    }
   ],
   "source": [
    "model_lgb_numeric = lgb.LGBMClassifier(**params)\n",
    "model_lgb_numeric.fit(X=x_train_num,\n",
    "                      y=y_train_num,\n",
    "                      eval_set=[(x_train_num, y_train_num), \n",
    "                                (x_valid_num, y_valid_num)],\n",
    "                      early_stopping_rounds=30,\n",
    "                      eval_metric=\"auc\",\n",
    "                      verbose=20)"
   ]
  },
  {
   "cell_type": "markdown",
   "metadata": {},
   "source": [
    "#### Задание 5: обработать категориальные признаки любым способом (который вы знаете) и добавить их к данным. Выполнить задание 4."
   ]
  },
  {
   "cell_type": "code",
   "execution_count": 14,
   "metadata": {
    "ExecuteTime": {
     "end_time": "2021-03-08T17:08:19.040903Z",
     "start_time": "2021-03-08T16:55:21.736585Z"
    },
    "scrolled": true
   },
   "outputs": [
    {
     "name": "stdout",
     "output_type": "stream",
     "text": [
      "Training until validation scores don't improve for 30 rounds\n",
      "[30]\ttraining's auc: 0.869789\tvalid_1's auc: 0.863071\n",
      "[60]\ttraining's auc: 0.880121\tvalid_1's auc: 0.871685\n",
      "[90]\ttraining's auc: 0.895375\tvalid_1's auc: 0.881217\n",
      "[120]\ttraining's auc: 0.904004\tvalid_1's auc: 0.886549\n",
      "[150]\ttraining's auc: 0.910251\tvalid_1's auc: 0.893354\n",
      "[180]\ttraining's auc: 0.915598\tvalid_1's auc: 0.897611\n",
      "[210]\ttraining's auc: 0.919685\tvalid_1's auc: 0.901539\n",
      "[240]\ttraining's auc: 0.924737\tvalid_1's auc: 0.906591\n",
      "[270]\ttraining's auc: 0.928298\tvalid_1's auc: 0.909504\n",
      "[300]\ttraining's auc: 0.932967\tvalid_1's auc: 0.912071\n",
      "[330]\ttraining's auc: 0.936517\tvalid_1's auc: 0.914606\n",
      "[360]\ttraining's auc: 0.93925\tvalid_1's auc: 0.916955\n",
      "[390]\ttraining's auc: 0.943118\tvalid_1's auc: 0.91911\n",
      "[420]\ttraining's auc: 0.946062\tvalid_1's auc: 0.921116\n",
      "[450]\ttraining's auc: 0.948237\tvalid_1's auc: 0.922898\n",
      "[480]\ttraining's auc: 0.951356\tvalid_1's auc: 0.924588\n",
      "[510]\ttraining's auc: 0.953449\tvalid_1's auc: 0.926005\n",
      "[540]\ttraining's auc: 0.955497\tvalid_1's auc: 0.927769\n",
      "[570]\ttraining's auc: 0.957514\tvalid_1's auc: 0.929181\n",
      "[600]\ttraining's auc: 0.959186\tvalid_1's auc: 0.930163\n",
      "[630]\ttraining's auc: 0.960744\tvalid_1's auc: 0.931803\n",
      "[660]\ttraining's auc: 0.962046\tvalid_1's auc: 0.932758\n",
      "[690]\ttraining's auc: 0.96323\tvalid_1's auc: 0.933534\n",
      "[720]\ttraining's auc: 0.964265\tvalid_1's auc: 0.934418\n",
      "[750]\ttraining's auc: 0.965418\tvalid_1's auc: 0.935335\n",
      "[780]\ttraining's auc: 0.966498\tvalid_1's auc: 0.936156\n",
      "[810]\ttraining's auc: 0.967524\tvalid_1's auc: 0.937139\n",
      "[840]\ttraining's auc: 0.968431\tvalid_1's auc: 0.937734\n",
      "[870]\ttraining's auc: 0.969344\tvalid_1's auc: 0.938591\n",
      "[900]\ttraining's auc: 0.970349\tvalid_1's auc: 0.939255\n",
      "[930]\ttraining's auc: 0.971254\tvalid_1's auc: 0.940036\n",
      "[960]\ttraining's auc: 0.972133\tvalid_1's auc: 0.940934\n",
      "[990]\ttraining's auc: 0.972996\tvalid_1's auc: 0.941584\n",
      "[1020]\ttraining's auc: 0.973869\tvalid_1's auc: 0.942377\n",
      "[1050]\ttraining's auc: 0.974636\tvalid_1's auc: 0.942892\n",
      "[1080]\ttraining's auc: 0.975582\tvalid_1's auc: 0.943583\n",
      "[1110]\ttraining's auc: 0.976403\tvalid_1's auc: 0.944017\n",
      "[1140]\ttraining's auc: 0.977214\tvalid_1's auc: 0.944477\n",
      "[1170]\ttraining's auc: 0.977868\tvalid_1's auc: 0.944996\n",
      "[1200]\ttraining's auc: 0.978723\tvalid_1's auc: 0.945467\n",
      "[1230]\ttraining's auc: 0.979323\tvalid_1's auc: 0.945964\n",
      "[1260]\ttraining's auc: 0.979977\tvalid_1's auc: 0.946318\n",
      "[1290]\ttraining's auc: 0.980635\tvalid_1's auc: 0.946658\n",
      "[1320]\ttraining's auc: 0.98124\tvalid_1's auc: 0.946996\n",
      "[1350]\ttraining's auc: 0.981759\tvalid_1's auc: 0.947449\n",
      "[1380]\ttraining's auc: 0.982205\tvalid_1's auc: 0.947799\n",
      "[1410]\ttraining's auc: 0.982807\tvalid_1's auc: 0.948244\n",
      "[1440]\ttraining's auc: 0.983304\tvalid_1's auc: 0.948578\n",
      "[1470]\ttraining's auc: 0.983675\tvalid_1's auc: 0.948916\n",
      "[1500]\ttraining's auc: 0.984076\tvalid_1's auc: 0.949285\n",
      "[1530]\ttraining's auc: 0.984444\tvalid_1's auc: 0.949624\n",
      "[1560]\ttraining's auc: 0.984912\tvalid_1's auc: 0.949999\n",
      "[1590]\ttraining's auc: 0.985272\tvalid_1's auc: 0.950343\n",
      "[1620]\ttraining's auc: 0.985686\tvalid_1's auc: 0.950581\n",
      "[1650]\ttraining's auc: 0.986026\tvalid_1's auc: 0.950929\n",
      "[1680]\ttraining's auc: 0.986347\tvalid_1's auc: 0.951209\n",
      "[1710]\ttraining's auc: 0.98672\tvalid_1's auc: 0.951468\n",
      "[1740]\ttraining's auc: 0.987065\tvalid_1's auc: 0.951692\n",
      "[1770]\ttraining's auc: 0.987329\tvalid_1's auc: 0.951943\n",
      "[1800]\ttraining's auc: 0.98768\tvalid_1's auc: 0.952213\n",
      "[1830]\ttraining's auc: 0.987984\tvalid_1's auc: 0.952448\n",
      "[1860]\ttraining's auc: 0.988249\tvalid_1's auc: 0.952621\n",
      "[1890]\ttraining's auc: 0.988575\tvalid_1's auc: 0.952853\n",
      "[1920]\ttraining's auc: 0.988919\tvalid_1's auc: 0.953048\n",
      "[1950]\ttraining's auc: 0.989171\tvalid_1's auc: 0.953247\n",
      "[1980]\ttraining's auc: 0.98943\tvalid_1's auc: 0.953436\n",
      "[2010]\ttraining's auc: 0.989722\tvalid_1's auc: 0.953646\n",
      "[2040]\ttraining's auc: 0.989916\tvalid_1's auc: 0.953804\n",
      "[2070]\ttraining's auc: 0.990126\tvalid_1's auc: 0.95396\n",
      "[2100]\ttraining's auc: 0.990368\tvalid_1's auc: 0.954122\n",
      "[2130]\ttraining's auc: 0.990632\tvalid_1's auc: 0.954281\n",
      "[2160]\ttraining's auc: 0.990819\tvalid_1's auc: 0.954439\n",
      "[2190]\ttraining's auc: 0.991027\tvalid_1's auc: 0.954649\n",
      "[2220]\ttraining's auc: 0.991213\tvalid_1's auc: 0.954792\n",
      "[2250]\ttraining's auc: 0.991416\tvalid_1's auc: 0.954904\n",
      "[2280]\ttraining's auc: 0.991578\tvalid_1's auc: 0.955056\n",
      "[2310]\ttraining's auc: 0.991769\tvalid_1's auc: 0.955173\n",
      "[2340]\ttraining's auc: 0.991923\tvalid_1's auc: 0.955275\n",
      "[2370]\ttraining's auc: 0.992107\tvalid_1's auc: 0.955387\n",
      "[2400]\ttraining's auc: 0.992246\tvalid_1's auc: 0.955579\n",
      "[2430]\ttraining's auc: 0.992393\tvalid_1's auc: 0.95576\n",
      "[2460]\ttraining's auc: 0.992532\tvalid_1's auc: 0.955861\n",
      "[2490]\ttraining's auc: 0.99265\tvalid_1's auc: 0.956032\n",
      "[2520]\ttraining's auc: 0.992793\tvalid_1's auc: 0.956186\n",
      "[2550]\ttraining's auc: 0.992973\tvalid_1's auc: 0.956267\n",
      "[2580]\ttraining's auc: 0.993166\tvalid_1's auc: 0.956415\n",
      "[2610]\ttraining's auc: 0.9933\tvalid_1's auc: 0.956478\n",
      "[2640]\ttraining's auc: 0.993444\tvalid_1's auc: 0.956504\n",
      "[2670]\ttraining's auc: 0.993549\tvalid_1's auc: 0.956613\n",
      "[2700]\ttraining's auc: 0.993727\tvalid_1's auc: 0.956703\n",
      "[2730]\ttraining's auc: 0.993868\tvalid_1's auc: 0.9568\n",
      "[2760]\ttraining's auc: 0.994067\tvalid_1's auc: 0.956872\n",
      "[2790]\ttraining's auc: 0.994192\tvalid_1's auc: 0.956992\n",
      "[2820]\ttraining's auc: 0.994404\tvalid_1's auc: 0.957078\n",
      "[2850]\ttraining's auc: 0.994552\tvalid_1's auc: 0.957222\n",
      "[2880]\ttraining's auc: 0.99465\tvalid_1's auc: 0.957273\n",
      "[2910]\ttraining's auc: 0.994736\tvalid_1's auc: 0.957376\n",
      "[2940]\ttraining's auc: 0.994826\tvalid_1's auc: 0.957489\n",
      "[2970]\ttraining's auc: 0.994928\tvalid_1's auc: 0.957588\n",
      "[3000]\ttraining's auc: 0.995094\tvalid_1's auc: 0.957654\n",
      "[3030]\ttraining's auc: 0.995174\tvalid_1's auc: 0.957723\n",
      "[3060]\ttraining's auc: 0.995246\tvalid_1's auc: 0.957799\n",
      "[3090]\ttraining's auc: 0.995338\tvalid_1's auc: 0.957881\n",
      "[3120]\ttraining's auc: 0.995424\tvalid_1's auc: 0.958018\n",
      "[3150]\ttraining's auc: 0.995518\tvalid_1's auc: 0.958146\n",
      "[3180]\ttraining's auc: 0.995622\tvalid_1's auc: 0.958219\n",
      "[3210]\ttraining's auc: 0.995716\tvalid_1's auc: 0.958276\n",
      "[3240]\ttraining's auc: 0.995852\tvalid_1's auc: 0.958366\n",
      "[3270]\ttraining's auc: 0.996003\tvalid_1's auc: 0.958465\n",
      "[3300]\ttraining's auc: 0.99609\tvalid_1's auc: 0.958539\n",
      "[3330]\ttraining's auc: 0.996179\tvalid_1's auc: 0.958618\n",
      "[3360]\ttraining's auc: 0.99626\tvalid_1's auc: 0.958702\n",
      "[3390]\ttraining's auc: 0.996359\tvalid_1's auc: 0.958776\n",
      "[3420]\ttraining's auc: 0.996432\tvalid_1's auc: 0.95887\n",
      "[3450]\ttraining's auc: 0.996491\tvalid_1's auc: 0.958988\n",
      "[3480]\ttraining's auc: 0.996567\tvalid_1's auc: 0.959078\n",
      "[3510]\ttraining's auc: 0.996634\tvalid_1's auc: 0.959158\n",
      "[3540]\ttraining's auc: 0.996686\tvalid_1's auc: 0.959186\n",
      "[3570]\ttraining's auc: 0.996754\tvalid_1's auc: 0.959359\n",
      "[3600]\ttraining's auc: 0.996799\tvalid_1's auc: 0.959388\n",
      "[3630]\ttraining's auc: 0.996854\tvalid_1's auc: 0.959495\n",
      "[3660]\ttraining's auc: 0.996961\tvalid_1's auc: 0.959581\n",
      "[3690]\ttraining's auc: 0.997012\tvalid_1's auc: 0.959653\n",
      "[3720]\ttraining's auc: 0.997107\tvalid_1's auc: 0.959675\n",
      "[3750]\ttraining's auc: 0.997175\tvalid_1's auc: 0.95975\n",
      "[3780]\ttraining's auc: 0.997231\tvalid_1's auc: 0.959831\n",
      "[3810]\ttraining's auc: 0.997269\tvalid_1's auc: 0.959912\n",
      "[3840]\ttraining's auc: 0.997315\tvalid_1's auc: 0.959972\n",
      "[3870]\ttraining's auc: 0.997355\tvalid_1's auc: 0.960103\n",
      "[3900]\ttraining's auc: 0.997397\tvalid_1's auc: 0.960183\n",
      "[3930]\ttraining's auc: 0.997452\tvalid_1's auc: 0.960237\n",
      "[3960]\ttraining's auc: 0.997504\tvalid_1's auc: 0.960287\n",
      "[3990]\ttraining's auc: 0.997565\tvalid_1's auc: 0.960361\n",
      "[4020]\ttraining's auc: 0.997613\tvalid_1's auc: 0.960461\n",
      "[4050]\ttraining's auc: 0.997665\tvalid_1's auc: 0.960557\n",
      "[4080]\ttraining's auc: 0.997746\tvalid_1's auc: 0.960624\n",
      "[4110]\ttraining's auc: 0.997786\tvalid_1's auc: 0.960696\n",
      "[4140]\ttraining's auc: 0.997843\tvalid_1's auc: 0.960757\n",
      "[4170]\ttraining's auc: 0.997907\tvalid_1's auc: 0.960826\n",
      "[4200]\ttraining's auc: 0.997948\tvalid_1's auc: 0.960905\n",
      "[4230]\ttraining's auc: 0.997991\tvalid_1's auc: 0.960921\n",
      "[4260]\ttraining's auc: 0.998028\tvalid_1's auc: 0.960967\n",
      "[4290]\ttraining's auc: 0.998077\tvalid_1's auc: 0.960986\n",
      "Early stopping, best iteration is:\n",
      "[4274]\ttraining's auc: 0.998062\tvalid_1's auc: 0.961014\n"
     ]
    },
    {
     "data": {
      "text/plain": [
       "LGBMClassifier(learning_rate=0.01, metric='auc', n_estimators=5000, n_jobs=6,\n",
       "               objective='binary', seed=27)"
      ]
     },
     "execution_count": 14,
     "metadata": {},
     "output_type": "execute_result"
    }
   ],
   "source": [
    "model_lgb_numeric_and_cat = lgb.LGBMClassifier(**params)\n",
    "model_lgb_numeric_and_cat.fit(X=x_train_num_cat_dummies,\n",
    "                              y=y_train_num_cat_dummies,\n",
    "                              eval_set=[(x_train_num_cat_dummies, y_train_num_cat_dummies),\n",
    "                                        (x_valid_num_cat_dummies, y_valid_num_cat_dummies)],\n",
    "                              early_stopping_rounds=30,\n",
    "                              eval_metric=\"auc\",\n",
    "                              verbose=30)"
   ]
  },
  {
   "cell_type": "markdown",
   "metadata": {},
   "source": [
    "#### Задание 6: обработать категориальные признаки встроенным методом в LightGBM. Выполнить задание 4. Сделать выводы о качестве работы алгоритма, по сравнению с пунктом 5."
   ]
  },
  {
   "cell_type": "code",
   "execution_count": 16,
   "metadata": {
    "ExecuteTime": {
     "end_time": "2021-03-08T17:37:18.387539Z",
     "start_time": "2021-03-08T17:29:31.938736Z"
    },
    "scrolled": true
   },
   "outputs": [
    {
     "name": "stdout",
     "output_type": "stream",
     "text": [
      "[LightGBM] [Info] Number of positive: 4181, number of negative: 139819\n",
      "[LightGBM] [Warning] Auto-choosing row-wise multi-threading, the overhead of testing was 0.351262 seconds.\n",
      "You can set `force_row_wise=true` to remove the overhead.\n",
      "And if memory is not enough, you can set `force_col_wise=true`.\n",
      "[LightGBM] [Info] Total Bins 32054\n",
      "[LightGBM] [Info] Number of data points in the train set: 144000, number of used features: 391\n",
      "[LightGBM] [Info] [binary:BoostFromScore]: pavg=0.029035 -> initscore=-3.509798\n",
      "[LightGBM] [Info] Start training from score -3.509798\n",
      "Training until validation scores don't improve for 30 rounds\n",
      "[20]\ttraining's auc: 0.841828\tvalid_1's auc: 0.8337\n",
      "[40]\ttraining's auc: 0.873946\tvalid_1's auc: 0.866479\n",
      "[60]\ttraining's auc: 0.881828\tvalid_1's auc: 0.873825\n",
      "[80]\ttraining's auc: 0.892386\tvalid_1's auc: 0.882204\n",
      "[100]\ttraining's auc: 0.900889\tvalid_1's auc: 0.887781\n",
      "[120]\ttraining's auc: 0.905341\tvalid_1's auc: 0.891224\n",
      "[140]\ttraining's auc: 0.909797\tvalid_1's auc: 0.895578\n",
      "[160]\ttraining's auc: 0.91351\tvalid_1's auc: 0.897908\n",
      "[180]\ttraining's auc: 0.916886\tvalid_1's auc: 0.900426\n",
      "[200]\ttraining's auc: 0.91991\tvalid_1's auc: 0.902996\n",
      "[220]\ttraining's auc: 0.922857\tvalid_1's auc: 0.905299\n",
      "[240]\ttraining's auc: 0.925156\tvalid_1's auc: 0.907154\n",
      "[260]\ttraining's auc: 0.928114\tvalid_1's auc: 0.909133\n",
      "[280]\ttraining's auc: 0.931461\tvalid_1's auc: 0.911621\n",
      "[300]\ttraining's auc: 0.933725\tvalid_1's auc: 0.913258\n",
      "[320]\ttraining's auc: 0.936135\tvalid_1's auc: 0.915225\n",
      "[340]\ttraining's auc: 0.938225\tvalid_1's auc: 0.917346\n",
      "[360]\ttraining's auc: 0.940815\tvalid_1's auc: 0.918833\n",
      "[380]\ttraining's auc: 0.943252\tvalid_1's auc: 0.920414\n",
      "[400]\ttraining's auc: 0.944971\tvalid_1's auc: 0.921675\n",
      "[420]\ttraining's auc: 0.946612\tvalid_1's auc: 0.922904\n",
      "[440]\ttraining's auc: 0.948243\tvalid_1's auc: 0.924262\n",
      "[460]\ttraining's auc: 0.950093\tvalid_1's auc: 0.925275\n",
      "[480]\ttraining's auc: 0.951818\tvalid_1's auc: 0.926558\n",
      "[500]\ttraining's auc: 0.95326\tvalid_1's auc: 0.927468\n",
      "[520]\ttraining's auc: 0.95449\tvalid_1's auc: 0.928065\n",
      "[540]\ttraining's auc: 0.955806\tvalid_1's auc: 0.929021\n",
      "[560]\ttraining's auc: 0.957375\tvalid_1's auc: 0.930087\n",
      "[580]\ttraining's auc: 0.958726\tvalid_1's auc: 0.931142\n",
      "[600]\ttraining's auc: 0.959994\tvalid_1's auc: 0.931988\n",
      "[620]\ttraining's auc: 0.961028\tvalid_1's auc: 0.932595\n",
      "[640]\ttraining's auc: 0.962072\tvalid_1's auc: 0.933072\n",
      "[660]\ttraining's auc: 0.962948\tvalid_1's auc: 0.933608\n",
      "[680]\ttraining's auc: 0.963642\tvalid_1's auc: 0.933925\n",
      "[700]\ttraining's auc: 0.964402\tvalid_1's auc: 0.934519\n",
      "[720]\ttraining's auc: 0.965244\tvalid_1's auc: 0.93505\n",
      "[740]\ttraining's auc: 0.96601\tvalid_1's auc: 0.935515\n",
      "[760]\ttraining's auc: 0.966739\tvalid_1's auc: 0.936094\n",
      "[780]\ttraining's auc: 0.967601\tvalid_1's auc: 0.936651\n",
      "[800]\ttraining's auc: 0.968203\tvalid_1's auc: 0.937388\n",
      "[820]\ttraining's auc: 0.968857\tvalid_1's auc: 0.938104\n",
      "[840]\ttraining's auc: 0.969403\tvalid_1's auc: 0.93852\n",
      "[860]\ttraining's auc: 0.970152\tvalid_1's auc: 0.938962\n",
      "[880]\ttraining's auc: 0.970829\tvalid_1's auc: 0.93936\n",
      "[900]\ttraining's auc: 0.971521\tvalid_1's auc: 0.939925\n",
      "[920]\ttraining's auc: 0.972033\tvalid_1's auc: 0.940359\n",
      "[940]\ttraining's auc: 0.972656\tvalid_1's auc: 0.94064\n",
      "[960]\ttraining's auc: 0.973201\tvalid_1's auc: 0.941119\n",
      "[980]\ttraining's auc: 0.973819\tvalid_1's auc: 0.94157\n",
      "[1000]\ttraining's auc: 0.974404\tvalid_1's auc: 0.941956\n",
      "[1020]\ttraining's auc: 0.974931\tvalid_1's auc: 0.942301\n",
      "[1040]\ttraining's auc: 0.975429\tvalid_1's auc: 0.942699\n",
      "[1060]\ttraining's auc: 0.975958\tvalid_1's auc: 0.943122\n",
      "[1080]\ttraining's auc: 0.976646\tvalid_1's auc: 0.943289\n",
      "[1100]\ttraining's auc: 0.97714\tvalid_1's auc: 0.943573\n",
      "[1120]\ttraining's auc: 0.977617\tvalid_1's auc: 0.943936\n",
      "[1140]\ttraining's auc: 0.978147\tvalid_1's auc: 0.944316\n",
      "[1160]\ttraining's auc: 0.978517\tvalid_1's auc: 0.944554\n",
      "[1180]\ttraining's auc: 0.978955\tvalid_1's auc: 0.9448\n",
      "[1200]\ttraining's auc: 0.979437\tvalid_1's auc: 0.945047\n",
      "[1220]\ttraining's auc: 0.97979\tvalid_1's auc: 0.945277\n",
      "[1240]\ttraining's auc: 0.98014\tvalid_1's auc: 0.945526\n",
      "[1260]\ttraining's auc: 0.980441\tvalid_1's auc: 0.945731\n",
      "[1280]\ttraining's auc: 0.98078\tvalid_1's auc: 0.945922\n",
      "[1300]\ttraining's auc: 0.981091\tvalid_1's auc: 0.946062\n",
      "[1320]\ttraining's auc: 0.981382\tvalid_1's auc: 0.946201\n",
      "[1340]\ttraining's auc: 0.98178\tvalid_1's auc: 0.946353\n",
      "[1360]\ttraining's auc: 0.982084\tvalid_1's auc: 0.946647\n",
      "[1380]\ttraining's auc: 0.982337\tvalid_1's auc: 0.946795\n",
      "[1400]\ttraining's auc: 0.982612\tvalid_1's auc: 0.946975\n",
      "[1420]\ttraining's auc: 0.982908\tvalid_1's auc: 0.947123\n",
      "[1440]\ttraining's auc: 0.983297\tvalid_1's auc: 0.947291\n",
      "[1460]\ttraining's auc: 0.983582\tvalid_1's auc: 0.947494\n",
      "[1480]\ttraining's auc: 0.983979\tvalid_1's auc: 0.947718\n",
      "[1500]\ttraining's auc: 0.98421\tvalid_1's auc: 0.94786\n",
      "[1520]\ttraining's auc: 0.984528\tvalid_1's auc: 0.948116\n",
      "[1540]\ttraining's auc: 0.984865\tvalid_1's auc: 0.948383\n",
      "[1560]\ttraining's auc: 0.985115\tvalid_1's auc: 0.948688\n",
      "[1580]\ttraining's auc: 0.985432\tvalid_1's auc: 0.948913\n",
      "[1600]\ttraining's auc: 0.985673\tvalid_1's auc: 0.949095\n",
      "[1620]\ttraining's auc: 0.985956\tvalid_1's auc: 0.949212\n",
      "[1640]\ttraining's auc: 0.9862\tvalid_1's auc: 0.94962\n",
      "[1660]\ttraining's auc: 0.986459\tvalid_1's auc: 0.949837\n",
      "[1680]\ttraining's auc: 0.98664\tvalid_1's auc: 0.950061\n",
      "[1700]\ttraining's auc: 0.986886\tvalid_1's auc: 0.950298\n",
      "[1720]\ttraining's auc: 0.987137\tvalid_1's auc: 0.950507\n",
      "[1740]\ttraining's auc: 0.987358\tvalid_1's auc: 0.950699\n",
      "[1760]\ttraining's auc: 0.987539\tvalid_1's auc: 0.950918\n",
      "[1780]\ttraining's auc: 0.98777\tvalid_1's auc: 0.951075\n",
      "[1800]\ttraining's auc: 0.987962\tvalid_1's auc: 0.951239\n",
      "[1820]\ttraining's auc: 0.988165\tvalid_1's auc: 0.951359\n",
      "[1840]\ttraining's auc: 0.98836\tvalid_1's auc: 0.9515\n",
      "[1860]\ttraining's auc: 0.988612\tvalid_1's auc: 0.951796\n",
      "[1880]\ttraining's auc: 0.9888\tvalid_1's auc: 0.951953\n",
      "[1900]\ttraining's auc: 0.989057\tvalid_1's auc: 0.952166\n",
      "[1920]\ttraining's auc: 0.989225\tvalid_1's auc: 0.952325\n",
      "[1940]\ttraining's auc: 0.989427\tvalid_1's auc: 0.952475\n",
      "[1960]\ttraining's auc: 0.989598\tvalid_1's auc: 0.952557\n",
      "[1980]\ttraining's auc: 0.98982\tvalid_1's auc: 0.952663\n",
      "[2000]\ttraining's auc: 0.990001\tvalid_1's auc: 0.952739\n",
      "[2020]\ttraining's auc: 0.990156\tvalid_1's auc: 0.952885\n",
      "[2040]\ttraining's auc: 0.990335\tvalid_1's auc: 0.953017\n",
      "[2060]\ttraining's auc: 0.990468\tvalid_1's auc: 0.953089\n",
      "[2080]\ttraining's auc: 0.990667\tvalid_1's auc: 0.953198\n",
      "[2100]\ttraining's auc: 0.990854\tvalid_1's auc: 0.953298\n",
      "[2120]\ttraining's auc: 0.991034\tvalid_1's auc: 0.953376\n",
      "[2140]\ttraining's auc: 0.991176\tvalid_1's auc: 0.953457\n",
      "[2160]\ttraining's auc: 0.9913\tvalid_1's auc: 0.953597\n",
      "[2180]\ttraining's auc: 0.991504\tvalid_1's auc: 0.95373\n",
      "[2200]\ttraining's auc: 0.991667\tvalid_1's auc: 0.953839\n",
      "[2220]\ttraining's auc: 0.991795\tvalid_1's auc: 0.953974\n",
      "[2240]\ttraining's auc: 0.992012\tvalid_1's auc: 0.954007\n",
      "[2260]\ttraining's auc: 0.992154\tvalid_1's auc: 0.954139\n",
      "[2280]\ttraining's auc: 0.992273\tvalid_1's auc: 0.954249\n",
      "[2300]\ttraining's auc: 0.992469\tvalid_1's auc: 0.954349\n",
      "[2320]\ttraining's auc: 0.992649\tvalid_1's auc: 0.954612\n",
      "[2340]\ttraining's auc: 0.992782\tvalid_1's auc: 0.954722\n",
      "[2360]\ttraining's auc: 0.992903\tvalid_1's auc: 0.954719\n",
      "[2380]\ttraining's auc: 0.993008\tvalid_1's auc: 0.954824\n",
      "[2400]\ttraining's auc: 0.993113\tvalid_1's auc: 0.954929\n",
      "[2420]\ttraining's auc: 0.993194\tvalid_1's auc: 0.954982\n",
      "[2440]\ttraining's auc: 0.993319\tvalid_1's auc: 0.955123\n",
      "[2460]\ttraining's auc: 0.993443\tvalid_1's auc: 0.955213\n",
      "[2480]\ttraining's auc: 0.993548\tvalid_1's auc: 0.955323\n",
      "[2500]\ttraining's auc: 0.993634\tvalid_1's auc: 0.955409\n",
      "[2520]\ttraining's auc: 0.993778\tvalid_1's auc: 0.955596\n",
      "[2540]\ttraining's auc: 0.99391\tvalid_1's auc: 0.955712\n",
      "[2560]\ttraining's auc: 0.994014\tvalid_1's auc: 0.955784\n",
      "[2580]\ttraining's auc: 0.994116\tvalid_1's auc: 0.955897\n",
      "[2600]\ttraining's auc: 0.994238\tvalid_1's auc: 0.956111\n",
      "[2620]\ttraining's auc: 0.994317\tvalid_1's auc: 0.956215\n",
      "[2640]\ttraining's auc: 0.994392\tvalid_1's auc: 0.956293\n",
      "[2660]\ttraining's auc: 0.994435\tvalid_1's auc: 0.956336\n",
      "[2680]\ttraining's auc: 0.994507\tvalid_1's auc: 0.956425\n",
      "[2700]\ttraining's auc: 0.994588\tvalid_1's auc: 0.956453\n",
      "[2720]\ttraining's auc: 0.994736\tvalid_1's auc: 0.956506\n",
      "[2740]\ttraining's auc: 0.994806\tvalid_1's auc: 0.956497\n"
     ]
    },
    {
     "name": "stdout",
     "output_type": "stream",
     "text": [
      "[2760]\ttraining's auc: 0.994867\tvalid_1's auc: 0.956552\n",
      "[2780]\ttraining's auc: 0.994944\tvalid_1's auc: 0.956661\n",
      "[2800]\ttraining's auc: 0.995018\tvalid_1's auc: 0.956798\n",
      "[2820]\ttraining's auc: 0.995091\tvalid_1's auc: 0.956897\n",
      "[2840]\ttraining's auc: 0.995172\tvalid_1's auc: 0.957081\n",
      "[2860]\ttraining's auc: 0.995244\tvalid_1's auc: 0.9572\n",
      "[2880]\ttraining's auc: 0.995307\tvalid_1's auc: 0.957261\n",
      "[2900]\ttraining's auc: 0.99538\tvalid_1's auc: 0.95732\n",
      "[2920]\ttraining's auc: 0.995451\tvalid_1's auc: 0.957374\n",
      "[2940]\ttraining's auc: 0.995534\tvalid_1's auc: 0.95751\n",
      "[2960]\ttraining's auc: 0.995597\tvalid_1's auc: 0.957588\n",
      "[2980]\ttraining's auc: 0.995656\tvalid_1's auc: 0.957628\n",
      "[3000]\ttraining's auc: 0.995762\tvalid_1's auc: 0.95772\n",
      "[3020]\ttraining's auc: 0.995852\tvalid_1's auc: 0.957774\n",
      "[3040]\ttraining's auc: 0.995916\tvalid_1's auc: 0.957849\n",
      "[3060]\ttraining's auc: 0.995985\tvalid_1's auc: 0.957867\n",
      "[3080]\ttraining's auc: 0.996049\tvalid_1's auc: 0.957867\n",
      "[3100]\ttraining's auc: 0.996119\tvalid_1's auc: 0.957918\n",
      "[3120]\ttraining's auc: 0.996181\tvalid_1's auc: 0.958043\n",
      "[3140]\ttraining's auc: 0.996229\tvalid_1's auc: 0.958059\n",
      "[3160]\ttraining's auc: 0.996272\tvalid_1's auc: 0.958104\n",
      "[3180]\ttraining's auc: 0.996358\tvalid_1's auc: 0.958198\n",
      "[3200]\ttraining's auc: 0.996441\tvalid_1's auc: 0.958329\n",
      "[3220]\ttraining's auc: 0.99649\tvalid_1's auc: 0.958435\n",
      "[3240]\ttraining's auc: 0.996539\tvalid_1's auc: 0.958521\n",
      "[3260]\ttraining's auc: 0.996576\tvalid_1's auc: 0.958615\n",
      "[3280]\ttraining's auc: 0.996618\tvalid_1's auc: 0.958715\n",
      "[3300]\ttraining's auc: 0.996669\tvalid_1's auc: 0.958795\n",
      "[3320]\ttraining's auc: 0.996717\tvalid_1's auc: 0.958882\n",
      "[3340]\ttraining's auc: 0.99675\tvalid_1's auc: 0.958921\n",
      "[3360]\ttraining's auc: 0.9968\tvalid_1's auc: 0.958984\n",
      "[3380]\ttraining's auc: 0.996843\tvalid_1's auc: 0.959033\n",
      "[3400]\ttraining's auc: 0.996877\tvalid_1's auc: 0.95907\n",
      "[3420]\ttraining's auc: 0.996931\tvalid_1's auc: 0.959122\n",
      "[3440]\ttraining's auc: 0.996966\tvalid_1's auc: 0.959161\n",
      "[3460]\ttraining's auc: 0.996996\tvalid_1's auc: 0.95918\n",
      "[3480]\ttraining's auc: 0.99703\tvalid_1's auc: 0.959227\n",
      "[3500]\ttraining's auc: 0.99706\tvalid_1's auc: 0.95931\n",
      "[3520]\ttraining's auc: 0.997084\tvalid_1's auc: 0.959378\n",
      "[3540]\ttraining's auc: 0.997114\tvalid_1's auc: 0.959467\n",
      "[3560]\ttraining's auc: 0.997142\tvalid_1's auc: 0.95948\n",
      "[3580]\ttraining's auc: 0.997171\tvalid_1's auc: 0.959536\n",
      "[3600]\ttraining's auc: 0.997202\tvalid_1's auc: 0.959606\n",
      "[3620]\ttraining's auc: 0.997244\tvalid_1's auc: 0.959653\n",
      "[3640]\ttraining's auc: 0.997278\tvalid_1's auc: 0.959701\n",
      "[3660]\ttraining's auc: 0.997312\tvalid_1's auc: 0.959777\n",
      "[3680]\ttraining's auc: 0.997384\tvalid_1's auc: 0.959827\n",
      "[3700]\ttraining's auc: 0.997437\tvalid_1's auc: 0.959872\n",
      "[3720]\ttraining's auc: 0.9975\tvalid_1's auc: 0.959911\n",
      "[3740]\ttraining's auc: 0.997547\tvalid_1's auc: 0.95994\n",
      "[3760]\ttraining's auc: 0.997577\tvalid_1's auc: 0.959999\n",
      "[3780]\ttraining's auc: 0.99762\tvalid_1's auc: 0.96008\n",
      "[3800]\ttraining's auc: 0.99765\tvalid_1's auc: 0.960118\n",
      "[3820]\ttraining's auc: 0.997705\tvalid_1's auc: 0.960167\n",
      "[3840]\ttraining's auc: 0.997732\tvalid_1's auc: 0.960239\n",
      "[3860]\ttraining's auc: 0.99776\tvalid_1's auc: 0.960303\n",
      "[3880]\ttraining's auc: 0.997789\tvalid_1's auc: 0.96036\n",
      "[3900]\ttraining's auc: 0.997822\tvalid_1's auc: 0.960427\n",
      "[3920]\ttraining's auc: 0.997862\tvalid_1's auc: 0.960515\n",
      "[3940]\ttraining's auc: 0.997898\tvalid_1's auc: 0.960575\n",
      "[3960]\ttraining's auc: 0.997942\tvalid_1's auc: 0.960628\n",
      "[3980]\ttraining's auc: 0.997993\tvalid_1's auc: 0.960679\n",
      "[4000]\ttraining's auc: 0.998031\tvalid_1's auc: 0.960713\n",
      "[4020]\ttraining's auc: 0.998062\tvalid_1's auc: 0.960768\n",
      "[4040]\ttraining's auc: 0.998086\tvalid_1's auc: 0.960786\n",
      "[4060]\ttraining's auc: 0.998124\tvalid_1's auc: 0.960857\n",
      "[4080]\ttraining's auc: 0.998149\tvalid_1's auc: 0.96091\n",
      "[4100]\ttraining's auc: 0.998201\tvalid_1's auc: 0.960948\n",
      "[4120]\ttraining's auc: 0.998218\tvalid_1's auc: 0.961027\n",
      "[4140]\ttraining's auc: 0.998253\tvalid_1's auc: 0.961062\n",
      "[4160]\ttraining's auc: 0.998281\tvalid_1's auc: 0.961153\n",
      "[4180]\ttraining's auc: 0.998306\tvalid_1's auc: 0.961202\n",
      "[4200]\ttraining's auc: 0.998322\tvalid_1's auc: 0.961236\n",
      "[4220]\ttraining's auc: 0.998341\tvalid_1's auc: 0.961264\n",
      "[4240]\ttraining's auc: 0.998366\tvalid_1's auc: 0.961317\n",
      "[4260]\ttraining's auc: 0.998397\tvalid_1's auc: 0.96137\n",
      "[4280]\ttraining's auc: 0.998427\tvalid_1's auc: 0.96139\n",
      "[4300]\ttraining's auc: 0.99846\tvalid_1's auc: 0.961447\n",
      "[4320]\ttraining's auc: 0.998481\tvalid_1's auc: 0.961493\n",
      "[4340]\ttraining's auc: 0.998508\tvalid_1's auc: 0.961504\n",
      "[4360]\ttraining's auc: 0.998527\tvalid_1's auc: 0.961539\n",
      "[4380]\ttraining's auc: 0.998564\tvalid_1's auc: 0.961582\n",
      "[4400]\ttraining's auc: 0.998589\tvalid_1's auc: 0.961605\n",
      "[4420]\ttraining's auc: 0.998607\tvalid_1's auc: 0.961608\n",
      "[4440]\ttraining's auc: 0.998626\tvalid_1's auc: 0.961661\n",
      "[4460]\ttraining's auc: 0.998654\tvalid_1's auc: 0.961648\n",
      "Early stopping, best iteration is:\n",
      "[4440]\ttraining's auc: 0.998626\tvalid_1's auc: 0.961661\n"
     ]
    }
   ],
   "source": [
    "dtrain = lgb.Dataset(data=x_train_num_cat, label=y_train_num_cat)\n",
    "dvalid = lgb.Dataset(data=x_valid_num_cat, label=y_valid_num_cat)\n",
    "\n",
    "model_lgb_numeric_and_cat_auto = lgb.train(params=params,\n",
    "                                           train_set=dtrain,\n",
    "                                           num_boost_round=200,\n",
    "                                           valid_sets=[dtrain, dvalid],\n",
    "                                           categorical_feature=[\n",
    "                                               'ProductCD', 'card4', 'card6',\n",
    "                                               'P_emaildomain',\n",
    "                                               'R_emaildomain', 'M1', 'M2',\n",
    "                                               'M3', 'M4', 'M5', 'M6', 'M7',\n",
    "                                               'M8', 'M9'\n",
    "                                           ],\n",
    "                                           early_stopping_rounds=30,\n",
    "                                           verbose_eval=20)"
   ]
  },
  {
   "cell_type": "markdown",
   "metadata": {},
   "source": [
    "### CatBoost"
   ]
  },
  {
   "cell_type": "markdown",
   "metadata": {},
   "source": [
    "#### Задание 7: для числовых признаков обучить модель CatBoost. Обучать алгоритм до тех пор, пока метрика качества не перестанет улучшаться на валидационной выборке в течение определенного числа итераций (выбрать значение самостоятельно)."
   ]
  },
  {
   "cell_type": "code",
   "execution_count": 17,
   "metadata": {
    "ExecuteTime": {
     "end_time": "2021-03-08T17:39:43.015934Z",
     "start_time": "2021-03-08T17:39:43.001937Z"
    }
   },
   "outputs": [],
   "source": [
    "cb_params = {\n",
    "    \"n_estimators\": 1000,\n",
    "    \"loss_function\": \"Logloss\",\n",
    "    \"eval_metric\": \"AUC\",\n",
    "    \"task_type\": \"CPU\",\n",
    "    \"max_bin\": 20,\n",
    "    \"verbose\": 10,\n",
    "    \"max_depth\": 6,\n",
    "    \"l2_leaf_reg\": 100,\n",
    "    \"early_stopping_rounds\": 50,\n",
    "    \"thread_count\": 6,\n",
    "    \"random_seed\": 42\n",
    "}"
   ]
  },
  {
   "cell_type": "code",
   "execution_count": 18,
   "metadata": {
    "ExecuteTime": {
     "end_time": "2021-03-08T17:41:55.249427Z",
     "start_time": "2021-03-08T17:40:10.567334Z"
    },
    "scrolled": true
   },
   "outputs": [
    {
     "name": "stdout",
     "output_type": "stream",
     "text": [
      "0:\ttest: 0.6078174\ttest1: 0.5982434\tbest: 0.5982434 (0)\ttotal: 267ms\tremaining: 4m 27s\n",
      "10:\ttest: 0.8097848\ttest1: 0.8041798\tbest: 0.8041798 (10)\ttotal: 2.37s\tremaining: 3m 33s\n",
      "20:\ttest: 0.8421310\ttest1: 0.8375875\tbest: 0.8375875 (20)\ttotal: 4.22s\tremaining: 3m 16s\n",
      "30:\ttest: 0.8473744\ttest1: 0.8425462\tbest: 0.8442404 (28)\ttotal: 5.95s\tremaining: 3m 5s\n",
      "40:\ttest: 0.8522767\ttest1: 0.8493952\tbest: 0.8493952 (40)\ttotal: 7.82s\tremaining: 3m 2s\n",
      "50:\ttest: 0.8539223\ttest1: 0.8509889\tbest: 0.8510936 (48)\ttotal: 9.71s\tremaining: 3m\n",
      "60:\ttest: 0.8578633\ttest1: 0.8538976\tbest: 0.8538976 (60)\ttotal: 11.5s\tremaining: 2m 56s\n",
      "70:\ttest: 0.8588414\ttest1: 0.8562350\tbest: 0.8565210 (68)\ttotal: 13.3s\tremaining: 2m 53s\n",
      "80:\ttest: 0.8589787\ttest1: 0.8561418\tbest: 0.8565210 (68)\ttotal: 15s\tremaining: 2m 50s\n",
      "90:\ttest: 0.8634505\ttest1: 0.8614021\tbest: 0.8614021 (90)\ttotal: 16.9s\tremaining: 2m 49s\n",
      "100:\ttest: 0.8647816\ttest1: 0.8633603\tbest: 0.8634235 (99)\ttotal: 18.9s\tremaining: 2m 48s\n",
      "110:\ttest: 0.8665610\ttest1: 0.8649453\tbest: 0.8649453 (110)\ttotal: 20.7s\tremaining: 2m 46s\n",
      "120:\ttest: 0.8685614\ttest1: 0.8664658\tbest: 0.8664864 (119)\ttotal: 22.7s\tremaining: 2m 44s\n",
      "130:\ttest: 0.8697045\ttest1: 0.8668909\tbest: 0.8668945 (123)\ttotal: 24.6s\tremaining: 2m 43s\n",
      "140:\ttest: 0.8709040\ttest1: 0.8683391\tbest: 0.8683391 (140)\ttotal: 26.6s\tremaining: 2m 42s\n",
      "150:\ttest: 0.8719970\ttest1: 0.8691283\tbest: 0.8691283 (150)\ttotal: 28.6s\tremaining: 2m 40s\n",
      "160:\ttest: 0.8733689\ttest1: 0.8698691\tbest: 0.8698933 (159)\ttotal: 30.5s\tremaining: 2m 39s\n",
      "170:\ttest: 0.8746786\ttest1: 0.8711719\tbest: 0.8711719 (170)\ttotal: 32.4s\tremaining: 2m 37s\n",
      "180:\ttest: 0.8760909\ttest1: 0.8721268\tbest: 0.8721371 (179)\ttotal: 34.3s\tremaining: 2m 35s\n",
      "190:\ttest: 0.8775753\ttest1: 0.8736078\tbest: 0.8736078 (190)\ttotal: 36.3s\tremaining: 2m 33s\n",
      "200:\ttest: 0.8797205\ttest1: 0.8748939\tbest: 0.8749024 (199)\ttotal: 38.3s\tremaining: 2m 32s\n",
      "210:\ttest: 0.8804653\ttest1: 0.8755380\tbest: 0.8755380 (210)\ttotal: 40.3s\tremaining: 2m 30s\n",
      "220:\ttest: 0.8814488\ttest1: 0.8762556\tbest: 0.8762556 (220)\ttotal: 42.2s\tremaining: 2m 28s\n",
      "230:\ttest: 0.8821194\ttest1: 0.8768857\tbest: 0.8768857 (230)\ttotal: 44.1s\tremaining: 2m 26s\n",
      "240:\ttest: 0.8829431\ttest1: 0.8775807\tbest: 0.8775807 (240)\ttotal: 46.2s\tremaining: 2m 25s\n",
      "250:\ttest: 0.8832729\ttest1: 0.8778833\tbest: 0.8778833 (250)\ttotal: 48.3s\tremaining: 2m 24s\n",
      "260:\ttest: 0.8837496\ttest1: 0.8784537\tbest: 0.8784537 (260)\ttotal: 50.2s\tremaining: 2m 22s\n",
      "270:\ttest: 0.8845849\ttest1: 0.8790905\tbest: 0.8790905 (270)\ttotal: 52.1s\tremaining: 2m 20s\n",
      "280:\ttest: 0.8854136\ttest1: 0.8799739\tbest: 0.8799739 (280)\ttotal: 54s\tremaining: 2m 18s\n",
      "290:\ttest: 0.8857852\ttest1: 0.8803250\tbest: 0.8803250 (290)\ttotal: 55.8s\tremaining: 2m 16s\n",
      "300:\ttest: 0.8861620\ttest1: 0.8806794\tbest: 0.8806794 (300)\ttotal: 57.6s\tremaining: 2m 13s\n",
      "310:\ttest: 0.8870286\ttest1: 0.8813928\tbest: 0.8813928 (310)\ttotal: 59.5s\tremaining: 2m 11s\n",
      "320:\ttest: 0.8874988\ttest1: 0.8817613\tbest: 0.8817613 (320)\ttotal: 1m 1s\tremaining: 2m 9s\n",
      "330:\ttest: 0.8878666\ttest1: 0.8822785\tbest: 0.8822785 (330)\ttotal: 1m 3s\tremaining: 2m 7s\n",
      "340:\ttest: 0.8883011\ttest1: 0.8827919\tbest: 0.8827919 (340)\ttotal: 1m 4s\tremaining: 2m 5s\n",
      "350:\ttest: 0.8886902\ttest1: 0.8831274\tbest: 0.8831274 (350)\ttotal: 1m 6s\tremaining: 2m 3s\n",
      "360:\ttest: 0.8889494\ttest1: 0.8834189\tbest: 0.8834189 (360)\ttotal: 1m 8s\tremaining: 2m 1s\n",
      "370:\ttest: 0.8893778\ttest1: 0.8837203\tbest: 0.8837203 (370)\ttotal: 1m 10s\tremaining: 1m 59s\n",
      "380:\ttest: 0.8896180\ttest1: 0.8838766\tbest: 0.8838876 (379)\ttotal: 1m 12s\tremaining: 1m 57s\n",
      "390:\ttest: 0.8897611\ttest1: 0.8840196\tbest: 0.8840212 (389)\ttotal: 1m 13s\tremaining: 1m 55s\n",
      "400:\ttest: 0.8902277\ttest1: 0.8843720\tbest: 0.8843720 (400)\ttotal: 1m 15s\tremaining: 1m 53s\n",
      "410:\ttest: 0.8904625\ttest1: 0.8845427\tbest: 0.8845427 (410)\ttotal: 1m 17s\tremaining: 1m 51s\n",
      "420:\ttest: 0.8904882\ttest1: 0.8845822\tbest: 0.8845830 (418)\ttotal: 1m 19s\tremaining: 1m 49s\n",
      "430:\ttest: 0.8906850\ttest1: 0.8848192\tbest: 0.8848192 (430)\ttotal: 1m 21s\tremaining: 1m 46s\n",
      "440:\ttest: 0.8907312\ttest1: 0.8848617\tbest: 0.8848707 (436)\ttotal: 1m 22s\tremaining: 1m 45s\n",
      "450:\ttest: 0.8907780\ttest1: 0.8848841\tbest: 0.8848957 (445)\ttotal: 1m 24s\tremaining: 1m 42s\n",
      "460:\ttest: 0.8910173\ttest1: 0.8850241\tbest: 0.8850241 (460)\ttotal: 1m 26s\tremaining: 1m 41s\n",
      "470:\ttest: 0.8910530\ttest1: 0.8850810\tbest: 0.8850884 (469)\ttotal: 1m 28s\tremaining: 1m 39s\n",
      "480:\ttest: 0.8913165\ttest1: 0.8852615\tbest: 0.8852620 (479)\ttotal: 1m 30s\tremaining: 1m 37s\n",
      "490:\ttest: 0.8913762\ttest1: 0.8852931\tbest: 0.8852944 (482)\ttotal: 1m 31s\tremaining: 1m 35s\n",
      "500:\ttest: 0.8913956\ttest1: 0.8852898\tbest: 0.8852944 (482)\ttotal: 1m 33s\tremaining: 1m 33s\n",
      "510:\ttest: 0.8914160\ttest1: 0.8852877\tbest: 0.8852944 (482)\ttotal: 1m 35s\tremaining: 1m 31s\n",
      "520:\ttest: 0.8914280\ttest1: 0.8852880\tbest: 0.8852944 (482)\ttotal: 1m 37s\tremaining: 1m 29s\n",
      "530:\ttest: 0.8914383\ttest1: 0.8852897\tbest: 0.8852944 (482)\ttotal: 1m 38s\tremaining: 1m 27s\n",
      "Stopped by overfitting detector  (50 iterations wait)\n",
      "\n",
      "bestTest = 0.8852943957\n",
      "bestIteration = 482\n",
      "\n",
      "Shrink model to first 483 iterations.\n"
     ]
    },
    {
     "data": {
      "text/plain": [
       "<catboost.core.CatBoostClassifier at 0x1b569f4ebb0>"
      ]
     },
     "execution_count": 18,
     "metadata": {},
     "output_type": "execute_result"
    }
   ],
   "source": [
    "model_CatBoost_numeric = cb.CatBoostClassifier(**cb_params)\n",
    "model_CatBoost_numeric.fit(X=x_train_num,\n",
    "                           y=y_train_num,\n",
    "                           eval_set=[(x_train_num, y_train_num), \n",
    "                                     (x_valid_num, y_valid_num)],\n",
    "                           plot=False)"
   ]
  },
  {
   "cell_type": "markdown",
   "metadata": {},
   "source": [
    "#### Задание 8: обработать категориальные признаки любым способом (который вы знаете) и добавить их к данным. Выполнить задание 7."
   ]
  },
  {
   "cell_type": "code",
   "execution_count": 19,
   "metadata": {
    "ExecuteTime": {
     "end_time": "2021-03-08T17:46:11.845828Z",
     "start_time": "2021-03-08T17:44:02.774328Z"
    },
    "scrolled": true
   },
   "outputs": [
    {
     "name": "stdout",
     "output_type": "stream",
     "text": [
      "0:\ttest: 0.6648886\ttest1: 0.6606680\tbest: 0.6606680 (0)\ttotal: 229ms\tremaining: 3m 48s\n",
      "10:\ttest: 0.7955784\ttest1: 0.7911064\tbest: 0.7916537 (9)\ttotal: 2.86s\tremaining: 4m 17s\n",
      "20:\ttest: 0.8196437\ttest1: 0.8151487\tbest: 0.8151487 (20)\ttotal: 4.8s\tremaining: 3m 43s\n",
      "30:\ttest: 0.8414864\ttest1: 0.8327337\tbest: 0.8327337 (30)\ttotal: 6.79s\tremaining: 3m 32s\n",
      "40:\ttest: 0.8476456\ttest1: 0.8396030\tbest: 0.8396030 (40)\ttotal: 8.95s\tremaining: 3m 29s\n",
      "50:\ttest: 0.8513228\ttest1: 0.8438474\tbest: 0.8438474 (50)\ttotal: 10.9s\tremaining: 3m 22s\n",
      "60:\ttest: 0.8553347\ttest1: 0.8482668\tbest: 0.8482668 (60)\ttotal: 13.1s\tremaining: 3m 21s\n",
      "70:\ttest: 0.8616007\ttest1: 0.8557637\tbest: 0.8557637 (70)\ttotal: 15.3s\tremaining: 3m 20s\n",
      "80:\ttest: 0.8651001\ttest1: 0.8585353\tbest: 0.8585353 (80)\ttotal: 17.6s\tremaining: 3m 19s\n",
      "90:\ttest: 0.8666830\ttest1: 0.8603090\tbest: 0.8603090 (90)\ttotal: 19.6s\tremaining: 3m 15s\n",
      "100:\ttest: 0.8697558\ttest1: 0.8633606\tbest: 0.8633606 (100)\ttotal: 21.6s\tremaining: 3m 12s\n",
      "110:\ttest: 0.8717722\ttest1: 0.8654673\tbest: 0.8654673 (110)\ttotal: 23.7s\tremaining: 3m 9s\n",
      "120:\ttest: 0.8735584\ttest1: 0.8669700\tbest: 0.8670592 (119)\ttotal: 25.8s\tremaining: 3m 7s\n",
      "130:\ttest: 0.8745755\ttest1: 0.8679216\tbest: 0.8679838 (129)\ttotal: 27.9s\tremaining: 3m 5s\n",
      "140:\ttest: 0.8769273\ttest1: 0.8702181\tbest: 0.8702181 (140)\ttotal: 30.1s\tremaining: 3m 3s\n",
      "150:\ttest: 0.8800141\ttest1: 0.8736281\tbest: 0.8736281 (150)\ttotal: 32.4s\tremaining: 3m 2s\n",
      "160:\ttest: 0.8816126\ttest1: 0.8750217\tbest: 0.8750217 (160)\ttotal: 34.7s\tremaining: 3m\n",
      "170:\ttest: 0.8831133\ttest1: 0.8761439\tbest: 0.8761439 (170)\ttotal: 36.9s\tremaining: 2m 58s\n",
      "180:\ttest: 0.8845611\ttest1: 0.8773082\tbest: 0.8773082 (180)\ttotal: 39.1s\tremaining: 2m 57s\n",
      "190:\ttest: 0.8852071\ttest1: 0.8778786\tbest: 0.8778786 (190)\ttotal: 41.2s\tremaining: 2m 54s\n",
      "200:\ttest: 0.8859834\ttest1: 0.8787133\tbest: 0.8787133 (200)\ttotal: 43.2s\tremaining: 2m 51s\n",
      "210:\ttest: 0.8866987\ttest1: 0.8794455\tbest: 0.8794455 (210)\ttotal: 45.5s\tremaining: 2m 50s\n",
      "220:\ttest: 0.8881652\ttest1: 0.8804696\tbest: 0.8804696 (220)\ttotal: 47.9s\tremaining: 2m 48s\n",
      "230:\ttest: 0.8889941\ttest1: 0.8811013\tbest: 0.8811013 (230)\ttotal: 49.9s\tremaining: 2m 46s\n",
      "240:\ttest: 0.8899160\ttest1: 0.8820342\tbest: 0.8820342 (240)\ttotal: 52.2s\tremaining: 2m 44s\n",
      "250:\ttest: 0.8906332\ttest1: 0.8828215\tbest: 0.8828215 (250)\ttotal: 54.7s\tremaining: 2m 43s\n",
      "260:\ttest: 0.8915847\ttest1: 0.8838951\tbest: 0.8838951 (260)\ttotal: 57.6s\tremaining: 2m 43s\n",
      "270:\ttest: 0.8923321\ttest1: 0.8845145\tbest: 0.8845145 (270)\ttotal: 59.9s\tremaining: 2m 41s\n",
      "280:\ttest: 0.8935812\ttest1: 0.8852001\tbest: 0.8852001 (280)\ttotal: 1m 2s\tremaining: 2m 39s\n",
      "290:\ttest: 0.8945850\ttest1: 0.8859116\tbest: 0.8859116 (290)\ttotal: 1m 4s\tremaining: 2m 37s\n",
      "300:\ttest: 0.8949340\ttest1: 0.8862323\tbest: 0.8862323 (300)\ttotal: 1m 7s\tremaining: 2m 35s\n",
      "310:\ttest: 0.8955535\ttest1: 0.8868314\tbest: 0.8868314 (310)\ttotal: 1m 9s\tremaining: 2m 34s\n",
      "320:\ttest: 0.8959845\ttest1: 0.8871583\tbest: 0.8871583 (320)\ttotal: 1m 11s\tremaining: 2m 32s\n",
      "330:\ttest: 0.8967608\ttest1: 0.8877478\tbest: 0.8877478 (330)\ttotal: 1m 14s\tremaining: 2m 31s\n",
      "340:\ttest: 0.8973048\ttest1: 0.8882086\tbest: 0.8882086 (340)\ttotal: 1m 17s\tremaining: 2m 28s\n",
      "350:\ttest: 0.8977493\ttest1: 0.8885076\tbest: 0.8885076 (350)\ttotal: 1m 19s\tremaining: 2m 26s\n",
      "360:\ttest: 0.8980447\ttest1: 0.8887992\tbest: 0.8887992 (360)\ttotal: 1m 21s\tremaining: 2m 23s\n",
      "370:\ttest: 0.8986351\ttest1: 0.8892429\tbest: 0.8892429 (370)\ttotal: 1m 23s\tremaining: 2m 21s\n",
      "380:\ttest: 0.8991342\ttest1: 0.8897052\tbest: 0.8897052 (380)\ttotal: 1m 26s\tremaining: 2m 19s\n",
      "390:\ttest: 0.8994452\ttest1: 0.8900093\tbest: 0.8900093 (390)\ttotal: 1m 28s\tremaining: 2m 17s\n",
      "400:\ttest: 0.8996486\ttest1: 0.8901414\tbest: 0.8901417 (399)\ttotal: 1m 30s\tremaining: 2m 15s\n",
      "410:\ttest: 0.8998429\ttest1: 0.8903376\tbest: 0.8903376 (410)\ttotal: 1m 32s\tremaining: 2m 12s\n",
      "420:\ttest: 0.8999537\ttest1: 0.8904336\tbest: 0.8904336 (420)\ttotal: 1m 34s\tremaining: 2m 10s\n",
      "430:\ttest: 0.8999984\ttest1: 0.8904678\tbest: 0.8904678 (430)\ttotal: 1m 36s\tremaining: 2m 7s\n",
      "440:\ttest: 0.9000280\ttest1: 0.8905229\tbest: 0.8905229 (440)\ttotal: 1m 38s\tremaining: 2m 4s\n",
      "450:\ttest: 0.9000367\ttest1: 0.8905207\tbest: 0.8905229 (440)\ttotal: 1m 39s\tremaining: 2m 1s\n",
      "460:\ttest: 0.9000502\ttest1: 0.8905420\tbest: 0.8905426 (454)\ttotal: 1m 41s\tremaining: 1m 58s\n",
      "470:\ttest: 0.9000680\ttest1: 0.8905581\tbest: 0.8905585 (466)\ttotal: 1m 43s\tremaining: 1m 56s\n",
      "480:\ttest: 0.9000820\ttest1: 0.8905616\tbest: 0.8905616 (480)\ttotal: 1m 45s\tremaining: 1m 53s\n",
      "490:\ttest: 0.9000887\ttest1: 0.8905625\tbest: 0.8905629 (484)\ttotal: 1m 47s\tremaining: 1m 50s\n",
      "500:\ttest: 0.9000956\ttest1: 0.8905633\tbest: 0.8905634 (498)\ttotal: 1m 48s\tremaining: 1m 48s\n",
      "510:\ttest: 0.9001009\ttest1: 0.8905648\tbest: 0.8905648 (510)\ttotal: 1m 50s\tremaining: 1m 45s\n",
      "520:\ttest: 0.9001339\ttest1: 0.8905895\tbest: 0.8905895 (520)\ttotal: 1m 52s\tremaining: 1m 43s\n",
      "530:\ttest: 0.9001395\ttest1: 0.8905905\tbest: 0.8905906 (529)\ttotal: 1m 53s\tremaining: 1m 40s\n",
      "540:\ttest: 0.9001533\ttest1: 0.8906041\tbest: 0.8906041 (540)\ttotal: 1m 55s\tremaining: 1m 38s\n",
      "550:\ttest: 0.9001559\ttest1: 0.8906022\tbest: 0.8906041 (540)\ttotal: 1m 57s\tremaining: 1m 35s\n",
      "560:\ttest: 0.9001603\ttest1: 0.8906010\tbest: 0.8906041 (540)\ttotal: 1m 59s\tremaining: 1m 33s\n",
      "570:\ttest: 0.9001649\ttest1: 0.8906019\tbest: 0.8906041 (540)\ttotal: 2m\tremaining: 1m 30s\n",
      "580:\ttest: 0.9001672\ttest1: 0.8905996\tbest: 0.8906041 (540)\ttotal: 2m 2s\tremaining: 1m 28s\n",
      "590:\ttest: 0.9001834\ttest1: 0.8906032\tbest: 0.8906041 (540)\ttotal: 2m 3s\tremaining: 1m 25s\n",
      "Stopped by overfitting detector  (50 iterations wait)\n",
      "\n",
      "bestTest = 0.8906041013\n",
      "bestIteration = 540\n",
      "\n",
      "Shrink model to first 541 iterations.\n"
     ]
    },
    {
     "data": {
      "text/plain": [
       "<catboost.core.CatBoostClassifier at 0x1b5a83955b0>"
      ]
     },
     "execution_count": 19,
     "metadata": {},
     "output_type": "execute_result"
    }
   ],
   "source": [
    "model_CatBoost_numeric_and_cat = cb.CatBoostClassifier(**cb_params)\n",
    "model_CatBoost_numeric_and_cat.fit(X=x_train_num_cat_dummies,\n",
    "                                   y=y_train_num_cat_dummies,\n",
    "                                   eval_set=[(x_train_num_cat_dummies,\n",
    "                                              y_train_num_cat_dummies),\n",
    "                                             (x_valid_num_cat_dummies,\n",
    "                                              y_valid_num_cat_dummies)],\n",
    "                                   plot=False)"
   ]
  },
  {
   "cell_type": "markdown",
   "metadata": {},
   "source": [
    "#### Задание 9: обработать категориальные признаки встроенным методом в CatBoost. Выполнить задание 7. Сделать выводы о качестве работы алгоритма, по сравнению с пунктом 8."
   ]
  },
  {
   "cell_type": "code",
   "execution_count": 63,
   "metadata": {
    "ExecuteTime": {
     "end_time": "2021-03-08T18:12:04.538494Z",
     "start_time": "2021-03-08T18:12:04.529517Z"
    }
   },
   "outputs": [],
   "source": [
    "# TODO Не получилось почему-то преобразовать NaN\n",
    "\n",
    "# model_CatBoost_numeric_and_cat_auto = cb.CatBoostClassifier(**cb_params)\n",
    "# model_CatBoost_numeric_and_cat_auto.fit(X=x_train_num_cat,\n",
    "#                                         y=y_train_num_cat,\n",
    "#                                         eval_set=[\n",
    "#                                             (x_train_num_cat, y_train_num_cat),\n",
    "#                                             (x_valid_num_cat, y_valid_num_cat)\n",
    "#                                         ],\n",
    "#                                         cat_features=[\n",
    "#                                             'ProductCD', 'card4', 'card6',\n",
    "#                                             'P_emaildomain', 'R_emaildomain',\n",
    "#                                             'M1', 'M2', 'M3', 'M4', 'M5', 'M6',\n",
    "#                                             'M7', 'M8', 'M9'\n",
    "#                                         ],\n",
    "#                                         plot=False)"
   ]
  },
  {
   "cell_type": "markdown",
   "metadata": {},
   "source": [
    "### Задание 10: построить ROC-кривую для всех построенных алгоритмов на обучающей и тестовой выборке. Сделать выводы о работе алгоритмов с точки зрения качества на тестовой выборке и с точки зрения переобучения."
   ]
  },
  {
   "cell_type": "code",
   "execution_count": 71,
   "metadata": {
    "ExecuteTime": {
     "end_time": "2021-03-08T18:22:21.447892Z",
     "start_time": "2021-03-08T18:22:17.400643Z"
    }
   },
   "outputs": [
    {
     "data": {
      "text/plain": [
       "array([0, 0, 0, ..., 0, 0, 0], dtype=int64)"
      ]
     },
     "execution_count": 71,
     "metadata": {},
     "output_type": "execute_result"
    }
   ],
   "source": [
    "# Не смог. Видимо нужно изначально совсем избавляться от NaN значаний"
   ]
  },
  {
   "cell_type": "code",
   "execution_count": null,
   "metadata": {},
   "outputs": [],
   "source": []
  },
  {
   "cell_type": "markdown",
   "metadata": {},
   "source": [
    "## Задание на повторение:\n",
    "Задание не обязательно к выполнению, но очень рекомендуется для понимания набора данных, этот набор данных будет использован и для следующего домашнего задания."
   ]
  },
  {
   "cell_type": "code",
   "execution_count": 12,
   "metadata": {
    "ExecuteTime": {
     "end_time": "2021-03-08T08:45:04.540404Z",
     "start_time": "2021-03-08T08:45:04.534421Z"
    }
   },
   "outputs": [],
   "source": [
    "# TODO. пока к сроку сдачи не успеваю. Планирую доделать. Считаю важным"
   ]
  },
  {
   "cell_type": "markdown",
   "metadata": {},
   "source": [
    "#### Задание 1: Построить график распределения времени совершения транзакции для обучающей / тестовой выборки, сделать выводы о том, как разбиты данные и какие виды валидации могут подойти для данной задачи."
   ]
  },
  {
   "cell_type": "code",
   "execution_count": 82,
   "metadata": {
    "ExecuteTime": {
     "end_time": "2021-03-08T18:28:23.700731Z",
     "start_time": "2021-03-08T18:28:23.282526Z"
    }
   },
   "outputs": [
    {
     "data": {
      "image/png": "[encoded data removed]",
      "text/plain": [
       "<Figure size 432x288 with 1 Axes>"
      ]
     },
     "metadata": {
      "needs_background": "light"
     },
     "output_type": "display_data"
    }
   ],
   "source": [
    "train.TransactionDT.hist(bins=25);"
   ]
  },
  {
   "cell_type": "markdown",
   "metadata": {},
   "source": [
    "#### Задание 2: построить scatter-plot зависимости суммы транзакции от времени совершения транзакции. Построить графики для обучающей выборки и для тестовой выборки, для обучающей выборки - построить как для целевой переменной = 0, так и для переменной = 1. Сделать выводы."
   ]
  },
  {
   "cell_type": "code",
   "execution_count": null,
   "metadata": {},
   "outputs": [],
   "source": []
  },
  {
   "cell_type": "markdown",
   "metadata": {},
   "source": [
    "#### Задание 3: построить распределение признака TransactionAmt в логарифмическом масштабе, сделать выводы о близости распредления к нормальному распределению. Построить распределение признака в логарифмическому масштабе для обучающей выборк и для тестовой выборки, сделать выводы."
   ]
  },
  {
   "cell_type": "code",
   "execution_count": null,
   "metadata": {},
   "outputs": [],
   "source": []
  },
  {
   "cell_type": "markdown",
   "metadata": {},
   "source": [
    "#### Задание 4: построить распределение признака целевой переменной в зависимости от значений категориальных признаков ProductCD, card4, card6. Сделать выводы."
   ]
  },
  {
   "cell_type": "markdown",
   "metadata": {},
   "source": []
  },
  {
   "cell_type": "code",
   "execution_count": null,
   "metadata": {},
   "outputs": [],
   "source": []
  }
 ],
 "metadata": {
  "hide_input": false,
  "kernelspec": {
   "display_name": "Python 3",
   "language": "python",
   "name": "python3"
  },
  "toc": {
   "base_numbering": 1,
   "nav_menu": {},
   "number_sections": true,
   "sideBar": true,
   "skip_h1_title": true,
   "title_cell": "Table of Contents",
   "title_sidebar": "Contents",
   "toc_cell": false,
   "toc_position": {
    "height": "calc(100% - 180px)",
    "left": "10px",
    "top": "150px",
    "width": "256px"
   },
   "toc_section_display": true,
   "toc_window_display": true
  },
  "varInspector": {
   "cols": {
    "lenName": 16,
    "lenType": 16,
    "lenVar": 40
   },
   "kernels_config": {
    "python": {
     "delete_cmd_postfix": "",
     "delete_cmd_prefix": "del ",
     "library": "var_list.py",
     "varRefreshCmd": "print(var_dic_list())"
    },
    "r": {
     "delete_cmd_postfix": ") ",
     "delete_cmd_prefix": "rm(",
     "library": "var_list.r",
     "varRefreshCmd": "cat(var_dic_list()) "
    }
   },
   "types_to_exclude": [
    "module",
    "function",
    "builtin_function_or_method",
    "instance",
    "_Feature"
   ],
   "window_display": false
  }
 },
 "nbformat": 4,
 "nbformat_minor": 4
}
