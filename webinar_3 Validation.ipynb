{
 "cells": [
  {
   "cell_type": "markdown",
   "metadata": {},
   "source": [
    "## Построение надежной локальной валидации\n",
    "\n",
    "* описание проблем локальной валидации;\n",
    "* последствий построения ненадежной валидации;\n",
    "* стратегии валидации: hold-out валидация, kfold-валидация, groupkfold-валидация, adversarial-валидация\n",
    "* построение доверительных интервалов для оценки надежности валидации\n",
    "* сравнение моделей при шумных результатах кросс-валидации\n",
    "* стратегии выбора схемы валидации\n",
    "* валидация для задач с временной структурой в данных\n",
    "\n",
    "## Важность локальной валидации\n",
    "\n",
    "Нередко, в соревнованиях мы видим, как люди прыгают вниз по лидерборду после раскрытия приватного лидерборда. У нас может возникнуть вопрос, __что произошло?__ У таких скачков есть 2 основные причины: \n",
    "\n",
    "* участники соревнования не очень доверяли своей локальной валидации и выбрали финальные решения, основываясь на их  производительности на публичном лидерборде, то есть они выбрали наилучшие решения по публичному лидерборду;\n",
    "\n",
    "* иногда в соревнованиях разбиение на приватную и публичную часть лидерборда произведено неконсистентно:\n",
    "\n",
    "    * распределение на публичной и приватной части лидерборда отличаются;\n",
    "    * разбиение проведено неслучайным образом;\n",
    "    * разбиение проведено так, что публичная или приватная часть лидерборда состоит очень маленького объема, что делает оценки на этой выборке несостоятельными / нерепрезентативными.\n",
    "    \n",
    "Со второй проблемой, мы как участники, не можем ничего сделать, так как этот вопрос лежит на совести организаторов соревнования. Но, мы определенно, можем убедиться, что выбрали наиболее подходящее решение для финального выбора. Итак, __цель сегодняшней лекции__ - систематизировать способы настройки валидации на соревновании и решения наиболее распространенных проблем, связанных с локальной валидацией. \n",
    "\n",
    "Давайте теперь поговорим об общей концепции валидации, это одна из ключевых проблем во всем машинном обучении, поэтому имеет смысл поговорить о ней детально. Если говорить коротко, то мы хотим проверить, __работает ли модель так же качественно на новых, ранее невидимых данных__. Например, если мы решаем задачу из медицины: мы хотим определить вероятность диагностирования определенного заболевания у пациента в ближайшем будущем. Мы должны быть уверены, что модель, которую мы построили, будет применима в будущем. И не только применима, мы должны быть уверены в качестве, с которым модель работает и в количестве ошибок каждого типа, которые модель допускает. Проблема заключается в том, что качество модели может отличаться на обучающих данных, которые являются историческими, и на невидимых тестовых данных из будущего. При этом, модель может запомнить всех пациентов из обучающих данных, хорошо работать на обучающих данных, но быть совершенно бесполезной на тестовых данных. Мы хотим избегать таких ситуация :) Мы хотим, чтобы модель могла выявить закономернности в данных, которые хорошо обобщаются как на обучающей выборке, так и на валидационной выборке, и на тестовой выборке. Давайте разберем этот процесс с точки зрения недооюучения модели и переобучения модели. Рассмотрим эту концепцию, на примере задачи бинарной классификации: здесь на левом рисунке мы видим слишком простую модель, которая не может уловить закономернности в данных, и мы получаем __плохие результаты на всех выборках__. Такая ситуация называется __недообучением__. Если качество модели плохое на всех выборках, то нужно увеличить сложность модели. Если мы сделаем модель слишком сложной, как на картинке справа, она начнет описывать шум из обучающих данных, которые не обощаются на тестовые данные. Это приведет к снижению качества модели. Такая ситуация называется __переобучением__. Переобученная модель обеспечивает высокую точность на обучающих данных, но плохие результаты на новых данных. Такая модель бесполезна в реальном мире и в соревнованиях, так как не может предсказать результаты для новых случаев. Таким образом, мы хотим получить что-то среднее между переобучением и недообучением, но для этого нам важно иметь возможность корректно оценивать наши результаты. \n",
    "\n",
    "<img src=\"./images/web2_fit.png\" width=800 height=600 />\n",
    "\n",
    "__Важное замечание!__ Переобучение в машинном обучении (в целом) и переобучение в соревнованиях по анализу данных немного отличаются. В общем, мы говорим, что модель переобучена, если значение метрики качества на обучающих данных значимо лучше, чем на тестовых данных. Но в соревнованиях, мы часто говорим, что модели переобучаются только в том случае, если качество на лидерборде будет хуже, чем мы ожидали (чем на локальной валидации). \n",
    "\n",
    "__Пример:__ мы используем __модель градиетного бустинга на основе решающих деревьев__ для решения соревнования, целевая метрика - ROC-AUC. Часто мы можем наблюдать, что качество на обучающих данных __близко к 1__, тогда как на тестовых данных оно может быть меньше, например, __0.9__. В общем смысле, модель здесь переобучена, но в контексте соревнования, если __ROC-AUC = 0.9__ как на тестовых данных, так и на публичной части лидерборда, мы не можем говорить, что модель переобучена. Но только в контексте соревнования по анализу данных, для промышленной модели разница в метриках слишком большая, имеет смысл сделать модель менее сложной."
   ]
  },
  {
   "cell_type": "code",
   "execution_count": 3,
   "metadata": {
    "ExecuteTime": {
     "end_time": "2021-03-19T10:57:00.170738Z",
     "start_time": "2021-03-19T10:56:48.747292Z"
    }
   },
   "outputs": [],
   "source": [
    "from tqdm import tqdm\n",
    "from typing import List, Tuple\n",
    "\n",
    "import numpy as np\n",
    "import pandas as pd\n",
    "import seaborn as sns\n",
    "import xgboost as xgb\n",
    "import matplotlib.pyplot as plt\n",
    "from scipy.stats import ttest_rel\n",
    "\n",
    "from sklearn.metrics import r2_score\n",
    "from sklearn.ensemble import RandomForestRegressor\n",
    "from sklearn.model_selection import KFold, StratifiedKFold, train_test_split, cross_val_score\n",
    "%matplotlib inline"
   ]
  },
  {
   "cell_type": "code",
   "execution_count": 4,
   "metadata": {
    "ExecuteTime": {
     "end_time": "2021-03-19T10:57:01.162087Z",
     "start_time": "2021-03-19T10:57:01.156104Z"
    }
   },
   "outputs": [],
   "source": [
    "import warnings\n",
    "# warnings.simplefilter(\"ignore\")\n",
    "warnings.filterwarnings('ignore')"
   ]
  },
  {
   "cell_type": "code",
   "execution_count": 6,
   "metadata": {
    "ExecuteTime": {
     "end_time": "2021-03-19T10:57:21.442843Z",
     "start_time": "2021-03-19T10:57:20.697834Z"
    }
   },
   "outputs": [
    {
     "data": {
      "text/html": [
       "<div>\n",
       "<style scoped>\n",
       "    .dataframe tbody tr th:only-of-type {\n",
       "        vertical-align: middle;\n",
       "    }\n",
       "\n",
       "    .dataframe tbody tr th {\n",
       "        vertical-align: top;\n",
       "    }\n",
       "\n",
       "    .dataframe thead th {\n",
       "        text-align: right;\n",
       "    }\n",
       "</style>\n",
       "<table border=\"1\" class=\"dataframe\">\n",
       "  <thead>\n",
       "    <tr style=\"text-align: right;\">\n",
       "      <th></th>\n",
       "      <th>ID</th>\n",
       "      <th>y</th>\n",
       "      <th>X0</th>\n",
       "      <th>X1</th>\n",
       "      <th>X2</th>\n",
       "      <th>X3</th>\n",
       "      <th>X4</th>\n",
       "      <th>X5</th>\n",
       "      <th>X6</th>\n",
       "      <th>X8</th>\n",
       "      <th>...</th>\n",
       "      <th>X375</th>\n",
       "      <th>X376</th>\n",
       "      <th>X377</th>\n",
       "      <th>X378</th>\n",
       "      <th>X379</th>\n",
       "      <th>X380</th>\n",
       "      <th>X382</th>\n",
       "      <th>X383</th>\n",
       "      <th>X384</th>\n",
       "      <th>X385</th>\n",
       "    </tr>\n",
       "  </thead>\n",
       "  <tbody>\n",
       "    <tr>\n",
       "      <th>0</th>\n",
       "      <td>0</td>\n",
       "      <td>130.81</td>\n",
       "      <td>k</td>\n",
       "      <td>v</td>\n",
       "      <td>at</td>\n",
       "      <td>a</td>\n",
       "      <td>d</td>\n",
       "      <td>u</td>\n",
       "      <td>j</td>\n",
       "      <td>o</td>\n",
       "      <td>...</td>\n",
       "      <td>0</td>\n",
       "      <td>0</td>\n",
       "      <td>1</td>\n",
       "      <td>0</td>\n",
       "      <td>0</td>\n",
       "      <td>0</td>\n",
       "      <td>0</td>\n",
       "      <td>0</td>\n",
       "      <td>0</td>\n",
       "      <td>0</td>\n",
       "    </tr>\n",
       "    <tr>\n",
       "      <th>1</th>\n",
       "      <td>6</td>\n",
       "      <td>88.53</td>\n",
       "      <td>k</td>\n",
       "      <td>t</td>\n",
       "      <td>av</td>\n",
       "      <td>e</td>\n",
       "      <td>d</td>\n",
       "      <td>y</td>\n",
       "      <td>l</td>\n",
       "      <td>o</td>\n",
       "      <td>...</td>\n",
       "      <td>1</td>\n",
       "      <td>0</td>\n",
       "      <td>0</td>\n",
       "      <td>0</td>\n",
       "      <td>0</td>\n",
       "      <td>0</td>\n",
       "      <td>0</td>\n",
       "      <td>0</td>\n",
       "      <td>0</td>\n",
       "      <td>0</td>\n",
       "    </tr>\n",
       "  </tbody>\n",
       "</table>\n",
       "<p>2 rows × 378 columns</p>\n",
       "</div>"
      ],
      "text/plain": [
       "   ID       y X0 X1  X2 X3 X4 X5 X6 X8  ...  X375  X376  X377  X378  X379  \\\n",
       "0   0  130.81  k  v  at  a  d  u  j  o  ...     0     0     1     0     0   \n",
       "1   6   88.53  k  t  av  e  d  y  l  o  ...     1     0     0     0     0   \n",
       "\n",
       "   X380  X382  X383  X384  X385  \n",
       "0     0     0     0     0     0  \n",
       "1     0     0     0     0     0  \n",
       "\n",
       "[2 rows x 378 columns]"
      ]
     },
     "execution_count": 6,
     "metadata": {},
     "output_type": "execute_result"
    }
   ],
   "source": [
    "data = pd.read_csv(\"./data/train.csv\")\n",
    "data.head(n=2)"
   ]
  },
  {
   "cell_type": "markdown",
   "metadata": {},
   "source": [
    "## Hold-Out валидация (валидация на отложенной выборке)\n",
    "\n",
    "Итак, начнем, говорить о валидации более предметно :)\n",
    "Самая простая стратегия, которую мы можем использовать, это разделить данные на две части: для обучения и для проверки. Наша задача заключается в том, чтобы подобрать __репрезентативное разбиение__, которое максимально совпадало бы с тестовыми данными / данными из будущего, и настроить модель на хорошую работу на обучающей / на проверочной выборке. __Качественной и устойчивой валидацией__ считается валидация, при которой значение метрики качества на проверочной выборке и на лидерборде __близко совпадают__. __ВАЖНО__, что один объект может идти либо в обучающую выборку, либо в тестовую выборку, таким образом выборки не должны пересекаться. В противном случае, мы не можем доверять нашей валидации. Иногда это случается, если в данных есть зависимые наблюдения. __Примером зависимых наблюдений__ может являться задача обнаружения мошеннических транзакций, транзакции привязаны к определенному клиенту, один клиент может совершать много транзакций, транзакции одного клиента являются зависимыми наблюдениями. Если связанные наблюдения попали в разные выборки, то мы получим более точные прогнозы на таких объектах и более оптимистические оценки качества в целом, что может помешать нам выбрать лучшую модель. Кроме того, оценки качества модели в таком случае, сильно зависит от разбиения и от того, сколько связанных объектов попало в выборку для валидации.\n",
    "\n",
    "<img src=\"./images/web2_holdout_2sample.png\" width=600 height=300 />\n"
   ]
  },
  {
   "cell_type": "code",
   "execution_count": 7,
   "metadata": {
    "ExecuteTime": {
     "end_time": "2021-03-19T10:57:30.073759Z",
     "start_time": "2021-03-19T10:57:30.000953Z"
    }
   },
   "outputs": [],
   "source": [
    "x_train, x_test = train_test_split(data.drop([\"ID\", \"y\"], axis=1), train_size=0.75, shuffle=True, random_state=1)\n",
    "y_train, y_test = train_test_split(data[\"y\"], train_size=0.75, shuffle=True, random_state=1)"
   ]
  },
  {
   "cell_type": "code",
   "execution_count": 8,
   "metadata": {
    "ExecuteTime": {
     "end_time": "2021-03-19T10:57:33.826719Z",
     "start_time": "2021-03-19T10:57:33.777858Z"
    }
   },
   "outputs": [
    {
     "name": "stdout",
     "output_type": "stream",
     "text": [
      "x_train.shape = 3156 rows, 368 cols\n",
      "x_test.shape = 1053 rows, 368 cols\n"
     ]
    }
   ],
   "source": [
    "numerical_features = x_train.select_dtypes(exclude=[\"object\"])\n",
    "numerical_features = numerical_features.columns.tolist()\n",
    "\n",
    "x_train = x_train[numerical_features]\n",
    "x_test = x_test[numerical_features]\n",
    "\n",
    "print(\"x_train.shape = {} rows, {} cols\".format(*x_train.shape))\n",
    "print(\"x_test.shape = {} rows, {} cols\".format(*x_test.shape))"
   ]
  },
  {
   "cell_type": "code",
   "execution_count": 9,
   "metadata": {
    "ExecuteTime": {
     "end_time": "2021-03-19T10:58:07.955442Z",
     "start_time": "2021-03-19T10:57:36.480622Z"
    }
   },
   "outputs": [
    {
     "data": {
      "text/plain": [
       "XGBRegressor(base_score=0.5, booster='gbtree', colsample_bylevel=1,\n",
       "             colsample_bynode=1, colsample_bytree=1, gamma=0, gpu_id=-1,\n",
       "             importance_type='gain', interaction_constraints='',\n",
       "             learning_rate=0.300000012, max_delta_step=0, max_depth=6,\n",
       "             min_child_weight=1, missing=nan, monotone_constraints='()',\n",
       "             n_estimators=100, n_jobs=4, num_parallel_tree=1, random_state=1,\n",
       "             reg_alpha=0, reg_lambda=1, scale_pos_weight=1, subsample=1,\n",
       "             tree_method='exact', validate_parameters=1, verbosity=None)"
      ]
     },
     "execution_count": 9,
     "metadata": {},
     "output_type": "execute_result"
    }
   ],
   "source": [
    "model = xgb.XGBRegressor(random_state=1)\n",
    "model.fit(x_train, y_train)"
   ]
  },
  {
   "cell_type": "code",
   "execution_count": 10,
   "metadata": {
    "ExecuteTime": {
     "end_time": "2021-03-19T10:58:18.792449Z",
     "start_time": "2021-03-19T10:58:18.787464Z"
    }
   },
   "outputs": [],
   "source": [
    "# недообучение - 5\n",
    "# переобучение +\n",
    "# все ок = 2"
   ]
  },
  {
   "cell_type": "code",
   "execution_count": 11,
   "metadata": {
    "ExecuteTime": {
     "end_time": "2021-03-19T10:58:21.666761Z",
     "start_time": "2021-03-19T10:58:21.216965Z"
    }
   },
   "outputs": [
    {
     "name": "stdout",
     "output_type": "stream",
     "text": [
      "Train-score: 0.79, Test-score: 0.524\n"
     ]
    }
   ],
   "source": [
    "train_score = r2_score(y_train, model.predict(x_train))\n",
    "test_score = r2_score(y_test, model.predict(x_test))\n",
    "\n",
    "print(f\"Train-score: {round(train_score, 3)}, Test-score: {round(test_score, 3)}\")"
   ]
  },
  {
   "cell_type": "markdown",
   "metadata": {},
   "source": [
    "После того, как мы зафиксируем разбиение, мы строим модели и неоднократно проверяем качество модели на валидационном наборе данных, некоторые модели, в силу случайности, будут иметь более высокие результаты, чем другие. Если мы продолжим отбирать лучшие модели, модифицировать их и сновать выбирать лучшие модели, мы будем видеть постоянное улучшение метрики качества. Но это не означает, что модель действительно стала лучше, и мы увидим улучшения метрики качества на лидерборде. Используя такой подход, мы можем подогнаться под валидационнй набор данных, и публичный лидерборд, а потом откатиться назад на приватной части лидерборда. Это называется __переобучением на соревнованиях__.\n",
    "\n",
    "<img src=\"./images/web2_holdout_3sample.png\" width=600 height=300 />\n",
    "\n",
    "Представим, что мы работаем с данными объемом 5000 строк. При использовании Hold-Out валидации нам нужно решить, сколько строк попадет в обучающий набор, а сколько - в тестовый. Чем больше набор для тестирования, тем надежнее будут оценки качества и тем выше вероятность, что мы выберем наиболее оптимальную модель. Обычно мы оставляем около 20% наблюдений в тестовой части, но даже имея 1000 наблюдений в тестовой части, мы можем столкнуться с некоторой случайностью при интерпретации результатов. Модель может хорошо работать с одним набором из 1000 наблюдений, при этом быть неточной для другой 1000 наблюдений. Таким образом, чем более объемный тестовый набор данных, тем меньше эффект случайности в получаемых значениях метрики качества. С другой стороны, мы можем получить большой тестовый набор, только удалив данные из обучающего набора, а чем меньше набор данных для обучения - тем слабее модели. "
   ]
  },
  {
   "cell_type": "code",
   "execution_count": 12,
   "metadata": {
    "ExecuteTime": {
     "end_time": "2021-03-19T10:58:30.086243Z",
     "start_time": "2021-03-19T10:58:29.955592Z"
    }
   },
   "outputs": [
    {
     "name": "stdout",
     "output_type": "stream",
     "text": [
      "x_train.shape = 2946 rows, 368 cols\n",
      "x_valid.shape = 884 rows, 368 cols\n",
      "x_test.shape = 379 rows, 368 cols\n"
     ]
    }
   ],
   "source": [
    "x_train, x_valid = train_test_split(data.drop([\"ID\", \"y\"], axis=1), train_size=0.7, shuffle=True, random_state=1)\n",
    "y_train, y_valid = train_test_split(data[\"y\"], train_size=0.7, shuffle=True, random_state=1)\n",
    "\n",
    "x_train = x_train[numerical_features]\n",
    "x_valid = x_valid[numerical_features]\n",
    "\n",
    "x_valid, x_test = train_test_split(x_valid, train_size=0.7, shuffle=True, random_state=27)\n",
    "y_valid, y_test = train_test_split(y_valid, train_size=0.7, shuffle=True, random_state=27)\n",
    "\n",
    "print(\"x_train.shape = {} rows, {} cols\".format(*x_train.shape))\n",
    "print(\"x_valid.shape = {} rows, {} cols\".format(*x_valid.shape))\n",
    "print(\"x_test.shape = {} rows, {} cols\".format(*x_test.shape))"
   ]
  },
  {
   "cell_type": "code",
   "execution_count": 13,
   "metadata": {
    "ExecuteTime": {
     "end_time": "2021-03-19T10:59:07.853240Z",
     "start_time": "2021-03-19T10:58:33.146058Z"
    }
   },
   "outputs": [
    {
     "data": {
      "text/plain": [
       "XGBRegressor(base_score=0.5, booster='gbtree', colsample_bylevel=1,\n",
       "             colsample_bynode=1, colsample_bytree=1, gamma=0, gpu_id=-1,\n",
       "             importance_type='gain', interaction_constraints='',\n",
       "             learning_rate=0.300000012, max_delta_step=0, max_depth=6,\n",
       "             min_child_weight=1, missing=nan, monotone_constraints='()',\n",
       "             n_estimators=100, n_jobs=4, num_parallel_tree=1, random_state=1,\n",
       "             reg_alpha=0, reg_lambda=1, scale_pos_weight=1, subsample=1,\n",
       "             tree_method='exact', validate_parameters=1, verbosity=None)"
      ]
     },
     "execution_count": 13,
     "metadata": {},
     "output_type": "execute_result"
    }
   ],
   "source": [
    "model = xgb.XGBRegressor(random_state=1)\n",
    "model.fit(x_train, y_train)"
   ]
  },
  {
   "cell_type": "code",
   "execution_count": 14,
   "metadata": {
    "ExecuteTime": {
     "end_time": "2021-03-19T10:59:08.881477Z",
     "start_time": "2021-03-19T10:59:08.427690Z"
    }
   },
   "outputs": [
    {
     "name": "stdout",
     "output_type": "stream",
     "text": [
      "Train-score: 0.8, Valid-score: 0.521, Test-score: 0.517\n"
     ]
    }
   ],
   "source": [
    "train_score = r2_score(y_train, model.predict(x_train))\n",
    "valid_score = r2_score(y_valid, model.predict(x_valid))\n",
    "test_score = r2_score(y_test, model.predict(x_test))\n",
    "\n",
    "print(f\"Train-score: {round(train_score, 3)}, Valid-score: {round(valid_score, 3)}, Test-score: {round(test_score, 3)}\")"
   ]
  },
  {
   "cell_type": "code",
   "execution_count": 15,
   "metadata": {
    "ExecuteTime": {
     "end_time": "2021-03-19T10:59:09.465913Z",
     "start_time": "2021-03-19T10:59:09.459929Z"
    }
   },
   "outputs": [],
   "source": [
    "# недообучение - 2\n",
    "# переобучение + 0\n",
    "# все ок = 7"
   ]
  },
  {
   "cell_type": "markdown",
   "metadata": {},
   "source": [
    "## Bootstrap\n",
    "\n",
    "Цель анализа данных, как и валидации - получить __максимально точные выборочные оценки__ и распространить результаты на всю генеральную совокупность. При этом, в реальном мире, мы работает с выборками конечного объема, и на этой выборке можем вычислить выборочные статистики, примерами которых являются среднее, медиана, precision, recall, ROC-AUC и другие. Значение каждой из выборочных статистик будет меняться от выборки к выборке, и мы хотели бы знать размер этих отклонений в зависимости от популяции. Один из подходов к оценке таких отклонений - техника бутстрепа, которая заключается в извлечении данных из имеющейся выборки случайным образом и вычисление целевой метрики по таким фиктивным выборкам с целью определить выборочные распределение статистики. Таким образом, мы анализируем большое число \"фантомных\" выборок, которые называются бутстреп-выборками. Обычно, случайным образом генерируется несколько тысяч таких выборок, из этих выборок можно найти бутстреп-распределение интересующей нас статистики. \n",
    "\n",
    "Бустреп-выборки генерируются случайным выбором с возвращением, выбранные элементы исходной выборки возвращаются в выборку и могут быть выбраны повторно. Формально, на каждом шаге мы выбираем элемент исходной выборки с вероятностью $\\frac{1}{n}$. Таким способ мы строим несколько сотен / тысяч выборок, далее мы можем построить эмпирическую функцию распределеня оценок, посчитать квантили и доверительные интервалы."
   ]
  },
  {
   "cell_type": "code",
   "execution_count": 16,
   "metadata": {
    "ExecuteTime": {
     "end_time": "2021-03-19T10:59:10.112184Z",
     "start_time": "2021-03-19T10:59:10.092237Z"
    },
    "code_folding": []
   },
   "outputs": [],
   "source": [
    "def create_bootstrap_samples(data: np.array, n_samples: int = 1000) -> np.array:\n",
    "    \"\"\"\n",
    "    Создание бутстреп-выборок.\n",
    "\n",
    "    Parameters\n",
    "    ----------\n",
    "    data: np.array\n",
    "        Исходная выборка, которая будет использоваться для\n",
    "        создания бутстреп выборок.\n",
    "\n",
    "    n_samples: int, optional, default = 1000\n",
    "        Количество создаваемых бутстреп выборок.\n",
    "        Опциональный параметр, по умолчанию, равен 1000.\n",
    "\n",
    "    Returns\n",
    "    -------\n",
    "    bootstrap_idx: np.array\n",
    "        Матрица индексов, для создания бутстреп выборок.\n",
    "    \"\"\"\n",
    "    bootstrap_idx = np.random.randint(low=0, high=len(data), \n",
    "                                      size=(n_samples, len(data)))\n",
    "    return bootstrap_idx\n",
    "\n",
    "\n",
    "def create_bootstrap_metrics(y_true: np.array, y_pred: np.array,\n",
    "                             metric: callable,\n",
    "                             n_samples: int = 1000) -> List[float]:\n",
    "    \"\"\"\n",
    "    Вычисление бутстреп оценок.\n",
    "\n",
    "    Parameters\n",
    "    ----------\n",
    "    y_true: np.array\n",
    "        Вектор целевой переменной.\n",
    "\n",
    "    y_pred: np.array\n",
    "        Вектор прогнозов.\n",
    "\n",
    "    metric: callable\n",
    "        Функция для вычисления метрики.\n",
    "        Функция должна принимать 2 аргумента: y_true, y_pred.\n",
    "\n",
    "    n_samples: int, optional, default = 1000\n",
    "        Количество создаваемых бутстреп выборок.\n",
    "        Опциональный параметр, по умолчанию, равен 1000.\n",
    "\n",
    "    Returns\n",
    "    -------\n",
    "    bootstrap_metrics: List[float]\n",
    "        Список со значениями метрики качества на каждой бустреп выборке.\n",
    "    \"\"\"\n",
    "    scores = []\n",
    "\n",
    "    if isinstance(y_true, pd.Series):\n",
    "        y_true = y_true.values\n",
    "\n",
    "    bootstrap_idx = create_bootstrap_samples(y_true, n_samples=n_samples)\n",
    "\n",
    "    for idx in bootstrap_idx:\n",
    "        y_true_bootstrap, y_pred_bootstrap = y_true[idx], y_pred[idx]\n",
    "\n",
    "        score = metric(y_true_bootstrap, y_pred_bootstrap)\n",
    "        scores.append(score)\n",
    "\n",
    "    return scores\n",
    "\n",
    "\n",
    "def calculate_confidence_interval(scores: list, conf_interval: float = 0.95) -> Tuple[float, float]:\n",
    "    \"\"\"\n",
    "    Вычисление доверительного интервала.\n",
    "\n",
    "    Parameters\n",
    "    ----------\n",
    "    scores: List[float / int]\n",
    "        Список с оценками изучаемой величины.\n",
    "\n",
    "    conf_interval: float, optional, default = 0.95\n",
    "        Уровень доверия для построения интервала.\n",
    "        Опциональный параметр, по умолчанию, равен 0.95.\n",
    "\n",
    "    Returns\n",
    "    -------\n",
    "    conf_interval: Tuple[float]\n",
    "        Кортеж с границами доверительного интервала.\n",
    "    \"\"\"\n",
    "    left_bound = np.percentile(scores, ((1 - conf_interval) / 2) * 100)\n",
    "    right_bound = np.percentile(scores, (conf_interval + ((1 - conf_interval) / 2)) * 100)\n",
    "\n",
    "    return left_bound, right_bound"
   ]
  },
  {
   "cell_type": "code",
   "execution_count": 20,
   "metadata": {
    "ExecuteTime": {
     "end_time": "2021-03-19T11:00:38.907682Z",
     "start_time": "2021-03-19T11:00:37.861481Z"
    }
   },
   "outputs": [
    {
     "data": {
      "text/plain": [
       "(0.4276853061363892, 0.5975927372030436)"
      ]
     },
     "execution_count": 20,
     "metadata": {},
     "output_type": "execute_result"
    }
   ],
   "source": [
    "np.random.seed(27)\n",
    "scores = create_bootstrap_metrics(y_test, model.predict(x_test), r2_score)\n",
    "\n",
    "calculate_confidence_interval(scores)"
   ]
  },
  {
   "cell_type": "code",
   "execution_count": 21,
   "metadata": {
    "ExecuteTime": {
     "end_time": "2021-03-19T11:00:42.056264Z",
     "start_time": "2021-03-19T11:00:42.052275Z"
    }
   },
   "outputs": [],
   "source": [
    "# Hold-Out\n",
    "# оценил качество на HO\n",
    "# доверительный интервал на HO\n",
    "# отправляю решение на LB\n",
    "# если качество на public LB лежит внутри CI -> валидация хорошая"
   ]
  },
  {
   "cell_type": "code",
   "execution_count": 22,
   "metadata": {
    "ExecuteTime": {
     "end_time": "2021-03-19T11:00:44.564552Z",
     "start_time": "2021-03-19T11:00:43.086505Z"
    }
   },
   "outputs": [
    {
     "data": {
      "text/plain": [
       "Text(0.5, 0, 'sampel number')"
      ]
     },
     "execution_count": 22,
     "metadata": {},
     "output_type": "execute_result"
    },
    {
     "data": {
      "image/png": "[encoded data removed]",
      "text/plain": [
       "<Figure size 1080x360 with 2 Axes>"
      ]
     },
     "metadata": {
      "needs_background": "light"
     },
     "output_type": "display_data"
    }
   ],
   "source": [
    "fig, axes = plt.subplots(1, 2, figsize=(15, 5))\n",
    "plt.suptitle(\"Bootstrap for evaluating validation stability\", size=15)\n",
    "axes[1].scatter(range(len(scores)), scores, alpha=0.25, color=\"blue\")\n",
    "axes[1].set_xlabel(\"sampel number\", size=15)\n",
    "axes[1].set_ylabel(\"$R^2$ score\", size=15)\n",
    "\n",
    "sns.distplot(scores, ax=axes[0], color=\"green\", bins=20)\n",
    "axes[0].set_xlabel(\"sampel number\", size=15)"
   ]
  },
  {
   "cell_type": "markdown",
   "metadata": {},
   "source": [
    "## KFold валидация\n",
    "\n",
    "Рассмотрим вторую стратегию валидации, которая называется __K-Fold__, этот вид можно рассматривать как повторную Hold-Out валидацию, потому что мы разбиваем данные на несколько непересекающихся блоков, используя каждый блок как тестовую выборку только один раз. После этой процедуры мы можем посчитать среднее метрики качества по всем блокам, а также дисперсию метрики качества. Здесь важно остановится на разнице между K-Fold и несколькими Hold-Out валидациями. Если мы сделаем несколько независимых Hold-Out валидаций, мы также можем получить K различных оценок, но некоторые наблюдения могут никогда не попасть в валидационную выборку, а некоторые наблюдения могут быть использованы несколько раз. В то же время, основное преимущество K-Fold валидации состоит в том, что мы используем каждый независимый блок для проверки только один раз. Этот метод валидации - хороший выбор, когда у нас есть относительно небольшой объем данных, и мы можем получить достаточно большое отличие в качестве на каждом блоке.\n",
    "\n",
    "<img src=\"./images/web2_kfold.png\" width=800 height=600/>\n",
    "\n",
    "__Как определить значение $K$?__\n",
    "Значение $K$ выбирается таким образом, чтобы каждая обучающая / тестовая группа данных была достаточно большой, чтобы быть статистически репрезентативной пот отношению к исходному датасету. Значение $K$ = 10 очень распространено в области прикладного машинного обучения и рекомендуется, если вы пытаетесь выбрать значение для своего набора данных. Обычно, чем выше $K$, тем более высокое качество мы можем получить, в силу того, что лагориты обучаются на более крупном наборе данных. Также хорошим стартом будет $K$ = 5.\n"
   ]
  },
  {
   "cell_type": "code",
   "execution_count": 23,
   "metadata": {
    "ExecuteTime": {
     "end_time": "2021-03-19T11:03:51.290701Z",
     "start_time": "2021-03-19T11:00:48.710462Z"
    }
   },
   "outputs": [
    {
     "name": "stdout",
     "output_type": "stream",
     "text": [
      "CV-results: 0.4969 +/- 0.054\n"
     ]
    }
   ],
   "source": [
    "cv = cross_val_score(estimator=model,\n",
    "    X=data[numerical_features],\n",
    "    y=data[\"y\"],\n",
    "    scoring=\"r2\",\n",
    "    cv=5\n",
    ")\n",
    "\n",
    "print(f\"CV-results: {round(np.mean(cv), 4)} +/- {round(np.std(cv), 3)}\")"
   ]
  },
  {
   "cell_type": "code",
   "execution_count": 216,
   "metadata": {
    "ExecuteTime": {
     "end_time": "2021-03-19T12:28:59.999871Z",
     "start_time": "2021-03-19T12:28:59.981918Z"
    }
   },
   "outputs": [],
   "source": [
    "def make_cross_validation(X: pd.DataFrame,\n",
    "                          y: pd.Series,\n",
    "                          estimator: object,\n",
    "                          metric: callable,\n",
    "                          cv_strategy):\n",
    "    \"\"\"\n",
    "    Кросс-валидация.\n",
    "\n",
    "    Parameters\n",
    "    ----------\n",
    "    X: pd.DataFrame\n",
    "        Матрица признаков.\n",
    "\n",
    "    y: pd.Series\n",
    "        Вектор целевой переменной.\n",
    "\n",
    "    estimator: callable\n",
    "        Объект модели для обучения.\n",
    "\n",
    "    metric: callable\n",
    "        Метрика для оценки качества решения.\n",
    "        Ожидается, что на вход будет передана функция,\n",
    "        которая принимает 2 аргумента: y_true, y_pred.\n",
    "\n",
    "    cv_strategy: cross-validation generator\n",
    "        Объект для описания стратегии кросс-валидации.\n",
    "        Ожидается, что на вход будет передан объект типа\n",
    "        KFold или StratifiedKFold.\n",
    "\n",
    "    Returns\n",
    "    -------\n",
    "    oof_score: float\n",
    "        Значение метрики качества на OOF-прогнозах.\n",
    "\n",
    "    fold_train_scores: List[float]\n",
    "        Значение метрики качества на каждом обучающем датасете кросс-валидации.\n",
    "\n",
    "    fold_valid_scores: List[float]\n",
    "        Значение метрики качества на каждом валидационном датасете кросс-валидации.\n",
    "\n",
    "    oof_predictions: np.array\n",
    "        Прогнозы на OOF.\n",
    "\n",
    "    \"\"\"\n",
    "    estimators, fold_train_scores, fold_valid_scores = [], [], []\n",
    "    oof_predictions = np.zeros(X.shape[0])\n",
    "    results = []\n",
    "\n",
    "    for fold_number, (train_idx, valid_idx) in enumerate(cv_strategy.split(X, y)):\n",
    "        x_train, x_valid = X.loc[train_idx], X.loc[valid_idx]\n",
    "        y_train, y_valid = y.loc[train_idx], y.loc[valid_idx]\n",
    "\n",
    "        estimator.fit(x_train, y_train)\n",
    "        y_train_pred = estimator.predict(x_train)\n",
    "        y_valid_pred = estimator.predict(x_valid)\n",
    "\n",
    "        fold_train_scores.append(metric(y_train, y_train_pred))\n",
    "        fold_valid_scores.append(metric(y_valid, y_valid_pred))\n",
    "        oof_predictions[valid_idx] = y_valid_pred\n",
    "\n",
    "#         msg = (f\"Fold: {fold_number+1}, train-observations = {len(train_idx)}, \"\n",
    "#                f\"valid-observations = {len(valid_idx)}\\n\"\n",
    "#                f\"train-score = {round(fold_train_scores[fold_number], 4)}, \"\n",
    "#                f\"valid-score = {round(fold_valid_scores[fold_number], 4)}\")\n",
    "#         print(msg)\n",
    "#         print(\"=\"*69)\n",
    "        print(f\"Fold: {fold_number+1}\", end='| ')\n",
    "        results.append(\n",
    "            [\n",
    "                fold_number+1, len(train_idx), len(valid_idx),\n",
    "                round(fold_train_scores[fold_number], 4),\n",
    "                round(fold_valid_scores[fold_number], 4)\n",
    "            ])\n",
    "        estimators.append(estimator)\n",
    "\n",
    "    oof_score = metric(y, oof_predictions)\n",
    "    \n",
    "    display(pd.DataFrame(results, columns=['Fold', 'train-observations', 'valid-observations', \n",
    "                                           'train-score', 'valid-score']))\n",
    "\n",
    "    print(f\"CV-results train: {round(np.mean(fold_train_scores), 4)} +/- {round(np.std(fold_train_scores), 3)}\")\n",
    "    print(f\"CV-results valid: {round(np.mean(fold_valid_scores), 4)} +/- {round(np.std(fold_valid_scores), 3)}\")\n",
    "    print(f\"OOF-score = {round(oof_score, 4)}\")\n",
    "    \n",
    "    \n",
    "\n",
    "    return estimators, oof_score, fold_train_scores, fold_valid_scores, oof_predictions, results"
   ]
  },
  {
   "cell_type": "code",
   "execution_count": 217,
   "metadata": {
    "ExecuteTime": {
     "end_time": "2021-03-19T12:29:19.778694Z",
     "start_time": "2021-03-19T12:29:03.582015Z"
    }
   },
   "outputs": [
    {
     "name": "stdout",
     "output_type": "stream",
     "text": [
      "Fold: 1| Fold: 2| Fold: 3| Fold: 4| Fold: 5| "
     ]
    },
    {
     "data": {
      "text/html": [
       "<div>\n",
       "<style scoped>\n",
       "    .dataframe tbody tr th:only-of-type {\n",
       "        vertical-align: middle;\n",
       "    }\n",
       "\n",
       "    .dataframe tbody tr th {\n",
       "        vertical-align: top;\n",
       "    }\n",
       "\n",
       "    .dataframe thead th {\n",
       "        text-align: right;\n",
       "    }\n",
       "</style>\n",
       "<table border=\"1\" class=\"dataframe\">\n",
       "  <thead>\n",
       "    <tr style=\"text-align: right;\">\n",
       "      <th></th>\n",
       "      <th>Fold</th>\n",
       "      <th>train-observations</th>\n",
       "      <th>valid-observations</th>\n",
       "      <th>train-score</th>\n",
       "      <th>valid-score</th>\n",
       "    </tr>\n",
       "  </thead>\n",
       "  <tbody>\n",
       "    <tr>\n",
       "      <th>0</th>\n",
       "      <td>1</td>\n",
       "      <td>3367</td>\n",
       "      <td>842</td>\n",
       "      <td>0.7907</td>\n",
       "      <td>0.5300</td>\n",
       "    </tr>\n",
       "    <tr>\n",
       "      <th>1</th>\n",
       "      <td>2</td>\n",
       "      <td>3367</td>\n",
       "      <td>842</td>\n",
       "      <td>0.7904</td>\n",
       "      <td>0.3949</td>\n",
       "    </tr>\n",
       "    <tr>\n",
       "      <th>2</th>\n",
       "      <td>3</td>\n",
       "      <td>3367</td>\n",
       "      <td>842</td>\n",
       "      <td>0.7835</td>\n",
       "      <td>0.5330</td>\n",
       "    </tr>\n",
       "    <tr>\n",
       "      <th>3</th>\n",
       "      <td>4</td>\n",
       "      <td>3367</td>\n",
       "      <td>842</td>\n",
       "      <td>0.8031</td>\n",
       "      <td>0.4861</td>\n",
       "    </tr>\n",
       "    <tr>\n",
       "      <th>4</th>\n",
       "      <td>5</td>\n",
       "      <td>3368</td>\n",
       "      <td>841</td>\n",
       "      <td>0.7841</td>\n",
       "      <td>0.5403</td>\n",
       "    </tr>\n",
       "  </tbody>\n",
       "</table>\n",
       "</div>"
      ],
      "text/plain": [
       "   Fold  train-observations  valid-observations  train-score  valid-score\n",
       "0     1                3367                 842       0.7907       0.5300\n",
       "1     2                3367                 842       0.7904       0.3949\n",
       "2     3                3367                 842       0.7835       0.5330\n",
       "3     4                3367                 842       0.8031       0.4861\n",
       "4     5                3368                 841       0.7841       0.5403"
      ]
     },
     "metadata": {},
     "output_type": "display_data"
    },
    {
     "name": "stdout",
     "output_type": "stream",
     "text": [
      "CV-results train: 0.7904 +/- 0.007\n",
      "CV-results valid: 0.4969 +/- 0.054\n",
      "OOF-score = 0.4915\n"
     ]
    }
   ],
   "source": [
    "cv_strategy = KFold(n_splits=5, random_state=1)\n",
    "\n",
    "estimators, oof_score, fold_train_scores, fold_valid_scores, oof_predictions, results = make_cross_validation(\n",
    "    data[numerical_features], data[\"y\"], \n",
    "    model, metric=r2_score, \n",
    "    cv_strategy=cv_strategy)"
   ]
  },
  {
   "cell_type": "markdown",
   "metadata": {},
   "source": [
    "## Stratified KFold валидация\n",
    "\n",
    "Способ валидации очень похожий на KFold, только с небольшим дополнением. Разделение данных на фолды происходит так, чтобы в каждом фолде было одинаковое распределение целевой переменной. Такой подход полезен, если у нас слишком мало данных для обучения модели, а также для сильно несбалансированных наборов данных для задачи классификации. Кроме того, такой подход полезен при решении задачи многоклассовой классификации с очень большим количество классов.\n",
    "\n",
    "<img src=\"./images/web2_stratified_kfold.png\" width=800 height=600 />\n"
   ]
  },
  {
   "cell_type": "markdown",
   "metadata": {},
   "source": [
    "## Trade-Off между Hold-Out и CV\n",
    "\n",
    "Кросс-валидация дает более точную оценку качества модели, что особенно важно, если мы принимаем множество решений по моделированию: \n",
    "\n",
    "* как обработать выбросы;\n",
    "* как заполнить пропуски;\n",
    "* какие признаки использовать при обучении;\n",
    "* какой тип алгоритмов использовать;\n",
    "* какой набор гиперпараметров использовать.\n",
    "\n",
    "Однако запуск кросс-валидации может занять больше времени. Учитывая эти компромиссы, когда следует использовать каждый подход? Для небольших наборов данных дополнительная вычислительная нагрузка при выполнении кросс-валидации не имеет большого значения. На маленьких датасетах качество может сильно варьироваться в зависимости от разбиения данных. Итак, если __набор данных маленький__, то следует использовать __кросс-валидацию__.\n",
    "\n",
    "По тем же причинам для больших наборов данных достаточно использовать Hold-Out. Он будет работать быстрее, и у вас может быть достаточно данных, поэтому нет необходимости повторно использовать некоторые из них для повторного тестирования. Проблема в том, что не существует простого порогового значения для определения большого и маленького набора данных. Если для обучения вашей модели требуется пара минут или меньше, вероятно, стоит перейти на кросс-валидацию. Если обучение вашей модели занимает гораздо больше времени, кросс-валидация может замедлить рабочий процесс. Кроме того, вы можете запустить кросс-валидацию в начале работы надо задачей и посмотреть, близки ли оценки для каждого фолда. Если каждый эксперимент дает одинаковые результаты, вероятно, достаточно разделить данные на обучение / тест."
   ]
  },
  {
   "cell_type": "markdown",
   "metadata": {},
   "source": [
    "## Что делать, если результаты кросс-валидации неустойчивые?"
   ]
  },
  {
   "cell_type": "code",
   "execution_count": 26,
   "metadata": {
    "ExecuteTime": {
     "end_time": "2021-03-19T11:06:29.826664Z",
     "start_time": "2021-03-19T11:06:29.314035Z"
    }
   },
   "outputs": [
    {
     "data": {
      "text/plain": [
       "<AxesSubplot:xlabel='y'>"
      ]
     },
     "execution_count": 26,
     "metadata": {},
     "output_type": "execute_result"
    },
    {
     "data": {
      "image/png": "[encoded data removed]",
      "text/plain": [
       "<Figure size 1080x360 with 1 Axes>"
      ]
     },
     "metadata": {
      "needs_background": "light"
     },
     "output_type": "display_data"
    }
   ],
   "source": [
    "fig, axes = plt.subplots(1, 1, figsize=(15, 5))\n",
    "sns.boxplot(data[\"y\"], ax=axes)"
   ]
  },
  {
   "cell_type": "code",
   "execution_count": 27,
   "metadata": {
    "ExecuteTime": {
     "end_time": "2021-03-19T11:06:30.499863Z",
     "start_time": "2021-03-19T11:06:30.494878Z"
    }
   },
   "outputs": [],
   "source": [
    "# постановка задачи\n",
    "# модель 1 - RF\n",
    "# модель 2 - XGB"
   ]
  },
  {
   "cell_type": "code",
   "execution_count": 28,
   "metadata": {
    "ExecuteTime": {
     "end_time": "2021-03-19T11:06:50.259013Z",
     "start_time": "2021-03-19T11:06:31.157105Z"
    }
   },
   "outputs": [
    {
     "name": "stdout",
     "output_type": "stream",
     "text": [
      "[0.59717674 0.42730924 0.58603809 0.54180877 0.62831393]\n",
      "CV-mean: 0.5561, CV-std: 0.0701\n"
     ]
    }
   ],
   "source": [
    "cv_rf = cross_val_score(estimator=RandomForestRegressor(n_estimators=25,\n",
    "                                                        max_depth=8,\n",
    "                                                        random_state=27,\n",
    "                                                        n_jobs=-1),\n",
    "                        X=data[numerical_features],\n",
    "                        y=data[\"y\"],\n",
    "                        scoring=\"r2\",\n",
    "                        cv=5)\n",
    "print(cv_rf)\n",
    "print(f\"CV-mean: {round(np.mean(cv_rf), 4)}, CV-std: {round(np.std(cv_rf), 4)}\")"
   ]
  },
  {
   "cell_type": "code",
   "execution_count": 29,
   "metadata": {
    "ExecuteTime": {
     "end_time": "2021-03-19T11:09:35.357266Z",
     "start_time": "2021-03-19T11:06:50.976096Z"
    }
   },
   "outputs": [
    {
     "name": "stdout",
     "output_type": "stream",
     "text": [
      "[0.53000827 0.39487407 0.53296351 0.4860948  0.54031169]\n",
      "CV-mean: 0.4969, CV-std: 0.0544\n"
     ]
    }
   ],
   "source": [
    "cv = cross_val_score(estimator=model,\n",
    "                     X=data[numerical_features],\n",
    "                     y=data[\"y\"],\n",
    "                     scoring=\"r2\",\n",
    "                     cv=5)\n",
    "\n",
    "print(cv)\n",
    "print(f\"CV-mean: {round(np.mean(cv), 4)}, CV-std: {round(np.std(cv), 4)}\")"
   ]
  },
  {
   "cell_type": "markdown",
   "metadata": {},
   "source": [
    "__Проблема__ заключается в том, cтандартное отклонение по фолдам настолько велико, что сравнение среднего значения метрики на кросс-валидации теряет смысл, так как в подавляющем большинстве случаев средние будут отличаться менее чем на стандартное отклонение.\n",
    "\n",
    "Для чего вообще нам нужна кросс-валидация? Когда мы решаем соревнование, мы пробуем огромное количество разных моделей / гипотез и хотим найти лучшую. Таким образом, нам нужен способ сравнить две модели и достоверно выбрать из этой пары чемпиона. Именно для этого мы используем кросс-валидацию. При этом модель может состоять не только из модели, как таковой, а также из признаков, которые используются для обучения модели, способов обработки выбросов и пропусков и так далее. Любой из этих шагов является по сути гиперпараметром нашего пайплайна, и мы хотим найти лучшие гиперпараметры для нашей задачи. А для этого необходимо уметь сравнивать две разные модели. Попробуем решить эту задачу.\n",
    "\n",
    "__Будем использовать такой подход:__\n",
    "\n",
    "* Сделаем не одно разбиение на 5 фолдов, а 10. Теперь у нас есть 50 фолдов, но размер фолда остался прежним. В массиве scores мы получим 50 скоров на пятидесяти тестовых фолдах.\n",
    "\n",
    "* Будем сравнивать не средний скор моделей, а то, насколько каждая из моделей лучше или хуже другой на соответствующем фолде. Или, что то же самое, будем сравнивать с нулем среднее попарных разностей результатов двух моделей на соответствующих фолдах.\n",
    "\n",
    "\n",
    "Таким образом, мы больше не будем зависеть от того, что в первом фолде у нас попался выброс, и качество там всегда низкое. Теперь качество на первом фолде не усредняется с остальными, он сравнивается исключительно с качеством на том же фолде второй модели. Соответственно, нам больше не мешает то, что первый фолд всегда хуже второго, поскольку мы сравниваем не качество в среднем, а качество на каждом фолде и только потом усредняем.\n",
    "\n",
    "Теперь перейдем к оценке статистической значимости. Мы хотим ответить на вопрос: значимо ли отличаются скоры наших двух моделей на наших 50 тестовых фолдах. Скоры наших моделей представляют собой связанные выборки, и будем использовать статистические критерии, специально предназначенным для таких случаев. Это __t-критерий Стьюдента__ для связанных выборок. Статистика t-критерия имеет следующий вид:\n",
    "\n",
    "$$ T(X_1^n,X_2^n) = \\frac{E(X_1)-E(X_2)}{S/\\sqrt{n}} $$\n",
    "\n",
    "* $X_1^n$, $X_2^n$ – списки значений метрики по тестовым фолдам для первой и второй модели соответственно;\n",
    "* $S$ – дисперсия попарных разностей;\n",
    "* $n$ – число фолдов. \n",
    "\n",
    "Итак, наша нулевая гипотеза состоит в том, что обе модели дают одинаковые результаты. В этом случае t-статистика распределена по Стьюденту с математическим ожиданием в 0. Соответственно, чем больше она отклоняется от 0, тем меньше вероятность того, что нулевая гипотеза выполняется, а средние в числителе дроби не совпали чисто случайно. Обратите внимание на знаменатель: S – это дисперсия попарных разностей. То есть, нас совершенно не интересует дисперсия скоров на фолдах для каждой модели в отдельности, нас интересует лишь насколько «стабильно» лучше или хуже одна модель другой. Именно за это и отвечает S, находясь в знаменателе. Чем больше t-статистика по модулю, и чем меньше p-value, тем существеннее отличия. Наиболее распространенной практикой является считать, что отличия значимы если p-value < 0.05. Давайте посмотрим, как это работает на практике:"
   ]
  },
  {
   "cell_type": "code",
   "execution_count": 30,
   "metadata": {
    "ExecuteTime": {
     "end_time": "2021-03-19T11:14:55.160503Z",
     "start_time": "2021-03-19T11:09:38.219113Z"
    }
   },
   "outputs": [
    {
     "ename": "KeyboardInterrupt",
     "evalue": "",
     "output_type": "error",
     "traceback": [
      "\u001b[1;31m---------------------------------------------------------------------------\u001b[0m",
      "\u001b[1;31mKeyboardInterrupt\u001b[0m                         Traceback (most recent call last)",
      "\u001b[1;32m<ipython-input-30-a95b75a1e9fd>\u001b[0m in \u001b[0;36m<module>\u001b[1;34m\u001b[0m\n\u001b[0;32m      3\u001b[0m \u001b[1;32mfor\u001b[0m \u001b[0mi\u001b[0m \u001b[1;32min\u001b[0m \u001b[0mrange\u001b[0m\u001b[1;33m(\u001b[0m\u001b[1;36m10\u001b[0m\u001b[1;33m)\u001b[0m\u001b[1;33m:\u001b[0m\u001b[1;33m\u001b[0m\u001b[1;33m\u001b[0m\u001b[0m\n\u001b[0;32m      4\u001b[0m     \u001b[0mfold\u001b[0m \u001b[1;33m=\u001b[0m \u001b[0mKFold\u001b[0m\u001b[1;33m(\u001b[0m\u001b[0mn_splits\u001b[0m\u001b[1;33m=\u001b[0m\u001b[1;36m5\u001b[0m\u001b[1;33m,\u001b[0m \u001b[0mshuffle\u001b[0m\u001b[1;33m=\u001b[0m\u001b[1;32mTrue\u001b[0m\u001b[1;33m,\u001b[0m \u001b[0mrandom_state\u001b[0m\u001b[1;33m=\u001b[0m\u001b[0mi\u001b[0m\u001b[1;33m)\u001b[0m\u001b[1;33m\u001b[0m\u001b[1;33m\u001b[0m\u001b[0m\n\u001b[1;32m----> 5\u001b[1;33m     cv_m1 = cross_val_score(estimator=xgb.XGBRegressor(n_estimators=50),\n\u001b[0m\u001b[0;32m      6\u001b[0m                             \u001b[0mX\u001b[0m\u001b[1;33m=\u001b[0m\u001b[0mdata\u001b[0m\u001b[1;33m[\u001b[0m\u001b[0mnumerical_features\u001b[0m\u001b[1;33m]\u001b[0m\u001b[1;33m,\u001b[0m\u001b[1;33m\u001b[0m\u001b[1;33m\u001b[0m\u001b[0m\n\u001b[0;32m      7\u001b[0m                             \u001b[0my\u001b[0m\u001b[1;33m=\u001b[0m\u001b[0mdata\u001b[0m\u001b[1;33m[\u001b[0m\u001b[1;34m\"y\"\u001b[0m\u001b[1;33m]\u001b[0m\u001b[1;33m,\u001b[0m\u001b[1;33m\u001b[0m\u001b[1;33m\u001b[0m\u001b[0m\n",
      "\u001b[1;32m~\\Anaconda3\\lib\\site-packages\\sklearn\\utils\\validation.py\u001b[0m in \u001b[0;36minner_f\u001b[1;34m(*args, **kwargs)\u001b[0m\n\u001b[0;32m     70\u001b[0m                           FutureWarning)\n\u001b[0;32m     71\u001b[0m         \u001b[0mkwargs\u001b[0m\u001b[1;33m.\u001b[0m\u001b[0mupdate\u001b[0m\u001b[1;33m(\u001b[0m\u001b[1;33m{\u001b[0m\u001b[0mk\u001b[0m\u001b[1;33m:\u001b[0m \u001b[0marg\u001b[0m \u001b[1;32mfor\u001b[0m \u001b[0mk\u001b[0m\u001b[1;33m,\u001b[0m \u001b[0marg\u001b[0m \u001b[1;32min\u001b[0m \u001b[0mzip\u001b[0m\u001b[1;33m(\u001b[0m\u001b[0msig\u001b[0m\u001b[1;33m.\u001b[0m\u001b[0mparameters\u001b[0m\u001b[1;33m,\u001b[0m \u001b[0margs\u001b[0m\u001b[1;33m)\u001b[0m\u001b[1;33m}\u001b[0m\u001b[1;33m)\u001b[0m\u001b[1;33m\u001b[0m\u001b[1;33m\u001b[0m\u001b[0m\n\u001b[1;32m---> 72\u001b[1;33m         \u001b[1;32mreturn\u001b[0m \u001b[0mf\u001b[0m\u001b[1;33m(\u001b[0m\u001b[1;33m**\u001b[0m\u001b[0mkwargs\u001b[0m\u001b[1;33m)\u001b[0m\u001b[1;33m\u001b[0m\u001b[1;33m\u001b[0m\u001b[0m\n\u001b[0m\u001b[0;32m     73\u001b[0m     \u001b[1;32mreturn\u001b[0m \u001b[0minner_f\u001b[0m\u001b[1;33m\u001b[0m\u001b[1;33m\u001b[0m\u001b[0m\n\u001b[0;32m     74\u001b[0m \u001b[1;33m\u001b[0m\u001b[0m\n",
      "\u001b[1;32m~\\Anaconda3\\lib\\site-packages\\sklearn\\model_selection\\_validation.py\u001b[0m in \u001b[0;36mcross_val_score\u001b[1;34m(estimator, X, y, groups, scoring, cv, n_jobs, verbose, fit_params, pre_dispatch, error_score)\u001b[0m\n\u001b[0;32m    399\u001b[0m     \u001b[0mscorer\u001b[0m \u001b[1;33m=\u001b[0m \u001b[0mcheck_scoring\u001b[0m\u001b[1;33m(\u001b[0m\u001b[0mestimator\u001b[0m\u001b[1;33m,\u001b[0m \u001b[0mscoring\u001b[0m\u001b[1;33m=\u001b[0m\u001b[0mscoring\u001b[0m\u001b[1;33m)\u001b[0m\u001b[1;33m\u001b[0m\u001b[1;33m\u001b[0m\u001b[0m\n\u001b[0;32m    400\u001b[0m \u001b[1;33m\u001b[0m\u001b[0m\n\u001b[1;32m--> 401\u001b[1;33m     cv_results = cross_validate(estimator=estimator, X=X, y=y, groups=groups,\n\u001b[0m\u001b[0;32m    402\u001b[0m                                 \u001b[0mscoring\u001b[0m\u001b[1;33m=\u001b[0m\u001b[1;33m{\u001b[0m\u001b[1;34m'score'\u001b[0m\u001b[1;33m:\u001b[0m \u001b[0mscorer\u001b[0m\u001b[1;33m}\u001b[0m\u001b[1;33m,\u001b[0m \u001b[0mcv\u001b[0m\u001b[1;33m=\u001b[0m\u001b[0mcv\u001b[0m\u001b[1;33m,\u001b[0m\u001b[1;33m\u001b[0m\u001b[1;33m\u001b[0m\u001b[0m\n\u001b[0;32m    403\u001b[0m                                 \u001b[0mn_jobs\u001b[0m\u001b[1;33m=\u001b[0m\u001b[0mn_jobs\u001b[0m\u001b[1;33m,\u001b[0m \u001b[0mverbose\u001b[0m\u001b[1;33m=\u001b[0m\u001b[0mverbose\u001b[0m\u001b[1;33m,\u001b[0m\u001b[1;33m\u001b[0m\u001b[1;33m\u001b[0m\u001b[0m\n",
      "\u001b[1;32m~\\Anaconda3\\lib\\site-packages\\sklearn\\utils\\validation.py\u001b[0m in \u001b[0;36minner_f\u001b[1;34m(*args, **kwargs)\u001b[0m\n\u001b[0;32m     70\u001b[0m                           FutureWarning)\n\u001b[0;32m     71\u001b[0m         \u001b[0mkwargs\u001b[0m\u001b[1;33m.\u001b[0m\u001b[0mupdate\u001b[0m\u001b[1;33m(\u001b[0m\u001b[1;33m{\u001b[0m\u001b[0mk\u001b[0m\u001b[1;33m:\u001b[0m \u001b[0marg\u001b[0m \u001b[1;32mfor\u001b[0m \u001b[0mk\u001b[0m\u001b[1;33m,\u001b[0m \u001b[0marg\u001b[0m \u001b[1;32min\u001b[0m \u001b[0mzip\u001b[0m\u001b[1;33m(\u001b[0m\u001b[0msig\u001b[0m\u001b[1;33m.\u001b[0m\u001b[0mparameters\u001b[0m\u001b[1;33m,\u001b[0m \u001b[0margs\u001b[0m\u001b[1;33m)\u001b[0m\u001b[1;33m}\u001b[0m\u001b[1;33m)\u001b[0m\u001b[1;33m\u001b[0m\u001b[1;33m\u001b[0m\u001b[0m\n\u001b[1;32m---> 72\u001b[1;33m         \u001b[1;32mreturn\u001b[0m \u001b[0mf\u001b[0m\u001b[1;33m(\u001b[0m\u001b[1;33m**\u001b[0m\u001b[0mkwargs\u001b[0m\u001b[1;33m)\u001b[0m\u001b[1;33m\u001b[0m\u001b[1;33m\u001b[0m\u001b[0m\n\u001b[0m\u001b[0;32m     73\u001b[0m     \u001b[1;32mreturn\u001b[0m \u001b[0minner_f\u001b[0m\u001b[1;33m\u001b[0m\u001b[1;33m\u001b[0m\u001b[0m\n\u001b[0;32m     74\u001b[0m \u001b[1;33m\u001b[0m\u001b[0m\n",
      "\u001b[1;32m~\\Anaconda3\\lib\\site-packages\\sklearn\\model_selection\\_validation.py\u001b[0m in \u001b[0;36mcross_validate\u001b[1;34m(estimator, X, y, groups, scoring, cv, n_jobs, verbose, fit_params, pre_dispatch, return_train_score, return_estimator, error_score)\u001b[0m\n\u001b[0;32m    240\u001b[0m     parallel = Parallel(n_jobs=n_jobs, verbose=verbose,\n\u001b[0;32m    241\u001b[0m                         pre_dispatch=pre_dispatch)\n\u001b[1;32m--> 242\u001b[1;33m     scores = parallel(\n\u001b[0m\u001b[0;32m    243\u001b[0m         delayed(_fit_and_score)(\n\u001b[0;32m    244\u001b[0m             \u001b[0mclone\u001b[0m\u001b[1;33m(\u001b[0m\u001b[0mestimator\u001b[0m\u001b[1;33m)\u001b[0m\u001b[1;33m,\u001b[0m \u001b[0mX\u001b[0m\u001b[1;33m,\u001b[0m \u001b[0my\u001b[0m\u001b[1;33m,\u001b[0m \u001b[0mscorers\u001b[0m\u001b[1;33m,\u001b[0m \u001b[0mtrain\u001b[0m\u001b[1;33m,\u001b[0m \u001b[0mtest\u001b[0m\u001b[1;33m,\u001b[0m \u001b[0mverbose\u001b[0m\u001b[1;33m,\u001b[0m \u001b[1;32mNone\u001b[0m\u001b[1;33m,\u001b[0m\u001b[1;33m\u001b[0m\u001b[1;33m\u001b[0m\u001b[0m\n",
      "\u001b[1;32m~\\Anaconda3\\lib\\site-packages\\joblib\\parallel.py\u001b[0m in \u001b[0;36m__call__\u001b[1;34m(self, iterable)\u001b[0m\n\u001b[0;32m   1049\u001b[0m                 \u001b[0mself\u001b[0m\u001b[1;33m.\u001b[0m\u001b[0m_iterating\u001b[0m \u001b[1;33m=\u001b[0m \u001b[0mself\u001b[0m\u001b[1;33m.\u001b[0m\u001b[0m_original_iterator\u001b[0m \u001b[1;32mis\u001b[0m \u001b[1;32mnot\u001b[0m \u001b[1;32mNone\u001b[0m\u001b[1;33m\u001b[0m\u001b[1;33m\u001b[0m\u001b[0m\n\u001b[0;32m   1050\u001b[0m \u001b[1;33m\u001b[0m\u001b[0m\n\u001b[1;32m-> 1051\u001b[1;33m             \u001b[1;32mwhile\u001b[0m \u001b[0mself\u001b[0m\u001b[1;33m.\u001b[0m\u001b[0mdispatch_one_batch\u001b[0m\u001b[1;33m(\u001b[0m\u001b[0miterator\u001b[0m\u001b[1;33m)\u001b[0m\u001b[1;33m:\u001b[0m\u001b[1;33m\u001b[0m\u001b[1;33m\u001b[0m\u001b[0m\n\u001b[0m\u001b[0;32m   1052\u001b[0m                 \u001b[1;32mpass\u001b[0m\u001b[1;33m\u001b[0m\u001b[1;33m\u001b[0m\u001b[0m\n\u001b[0;32m   1053\u001b[0m \u001b[1;33m\u001b[0m\u001b[0m\n",
      "\u001b[1;32m~\\Anaconda3\\lib\\site-packages\\joblib\\parallel.py\u001b[0m in \u001b[0;36mdispatch_one_batch\u001b[1;34m(self, iterator)\u001b[0m\n\u001b[0;32m    864\u001b[0m                 \u001b[1;32mreturn\u001b[0m \u001b[1;32mFalse\u001b[0m\u001b[1;33m\u001b[0m\u001b[1;33m\u001b[0m\u001b[0m\n\u001b[0;32m    865\u001b[0m             \u001b[1;32melse\u001b[0m\u001b[1;33m:\u001b[0m\u001b[1;33m\u001b[0m\u001b[1;33m\u001b[0m\u001b[0m\n\u001b[1;32m--> 866\u001b[1;33m                 \u001b[0mself\u001b[0m\u001b[1;33m.\u001b[0m\u001b[0m_dispatch\u001b[0m\u001b[1;33m(\u001b[0m\u001b[0mtasks\u001b[0m\u001b[1;33m)\u001b[0m\u001b[1;33m\u001b[0m\u001b[1;33m\u001b[0m\u001b[0m\n\u001b[0m\u001b[0;32m    867\u001b[0m                 \u001b[1;32mreturn\u001b[0m \u001b[1;32mTrue\u001b[0m\u001b[1;33m\u001b[0m\u001b[1;33m\u001b[0m\u001b[0m\n\u001b[0;32m    868\u001b[0m \u001b[1;33m\u001b[0m\u001b[0m\n",
      "\u001b[1;32m~\\Anaconda3\\lib\\site-packages\\joblib\\parallel.py\u001b[0m in \u001b[0;36m_dispatch\u001b[1;34m(self, batch)\u001b[0m\n\u001b[0;32m    782\u001b[0m         \u001b[1;32mwith\u001b[0m \u001b[0mself\u001b[0m\u001b[1;33m.\u001b[0m\u001b[0m_lock\u001b[0m\u001b[1;33m:\u001b[0m\u001b[1;33m\u001b[0m\u001b[1;33m\u001b[0m\u001b[0m\n\u001b[0;32m    783\u001b[0m             \u001b[0mjob_idx\u001b[0m \u001b[1;33m=\u001b[0m \u001b[0mlen\u001b[0m\u001b[1;33m(\u001b[0m\u001b[0mself\u001b[0m\u001b[1;33m.\u001b[0m\u001b[0m_jobs\u001b[0m\u001b[1;33m)\u001b[0m\u001b[1;33m\u001b[0m\u001b[1;33m\u001b[0m\u001b[0m\n\u001b[1;32m--> 784\u001b[1;33m             \u001b[0mjob\u001b[0m \u001b[1;33m=\u001b[0m \u001b[0mself\u001b[0m\u001b[1;33m.\u001b[0m\u001b[0m_backend\u001b[0m\u001b[1;33m.\u001b[0m\u001b[0mapply_async\u001b[0m\u001b[1;33m(\u001b[0m\u001b[0mbatch\u001b[0m\u001b[1;33m,\u001b[0m \u001b[0mcallback\u001b[0m\u001b[1;33m=\u001b[0m\u001b[0mcb\u001b[0m\u001b[1;33m)\u001b[0m\u001b[1;33m\u001b[0m\u001b[1;33m\u001b[0m\u001b[0m\n\u001b[0m\u001b[0;32m    785\u001b[0m             \u001b[1;31m# A job can complete so quickly than its callback is\u001b[0m\u001b[1;33m\u001b[0m\u001b[1;33m\u001b[0m\u001b[1;33m\u001b[0m\u001b[0m\n\u001b[0;32m    786\u001b[0m             \u001b[1;31m# called before we get here, causing self._jobs to\u001b[0m\u001b[1;33m\u001b[0m\u001b[1;33m\u001b[0m\u001b[1;33m\u001b[0m\u001b[0m\n",
      "\u001b[1;32m~\\Anaconda3\\lib\\site-packages\\joblib\\_parallel_backends.py\u001b[0m in \u001b[0;36mapply_async\u001b[1;34m(self, func, callback)\u001b[0m\n\u001b[0;32m    206\u001b[0m     \u001b[1;32mdef\u001b[0m \u001b[0mapply_async\u001b[0m\u001b[1;33m(\u001b[0m\u001b[0mself\u001b[0m\u001b[1;33m,\u001b[0m \u001b[0mfunc\u001b[0m\u001b[1;33m,\u001b[0m \u001b[0mcallback\u001b[0m\u001b[1;33m=\u001b[0m\u001b[1;32mNone\u001b[0m\u001b[1;33m)\u001b[0m\u001b[1;33m:\u001b[0m\u001b[1;33m\u001b[0m\u001b[1;33m\u001b[0m\u001b[0m\n\u001b[0;32m    207\u001b[0m         \u001b[1;34m\"\"\"Schedule a func to be run\"\"\"\u001b[0m\u001b[1;33m\u001b[0m\u001b[1;33m\u001b[0m\u001b[0m\n\u001b[1;32m--> 208\u001b[1;33m         \u001b[0mresult\u001b[0m \u001b[1;33m=\u001b[0m \u001b[0mImmediateResult\u001b[0m\u001b[1;33m(\u001b[0m\u001b[0mfunc\u001b[0m\u001b[1;33m)\u001b[0m\u001b[1;33m\u001b[0m\u001b[1;33m\u001b[0m\u001b[0m\n\u001b[0m\u001b[0;32m    209\u001b[0m         \u001b[1;32mif\u001b[0m \u001b[0mcallback\u001b[0m\u001b[1;33m:\u001b[0m\u001b[1;33m\u001b[0m\u001b[1;33m\u001b[0m\u001b[0m\n\u001b[0;32m    210\u001b[0m             \u001b[0mcallback\u001b[0m\u001b[1;33m(\u001b[0m\u001b[0mresult\u001b[0m\u001b[1;33m)\u001b[0m\u001b[1;33m\u001b[0m\u001b[1;33m\u001b[0m\u001b[0m\n",
      "\u001b[1;32m~\\Anaconda3\\lib\\site-packages\\joblib\\_parallel_backends.py\u001b[0m in \u001b[0;36m__init__\u001b[1;34m(self, batch)\u001b[0m\n\u001b[0;32m    570\u001b[0m         \u001b[1;31m# Don't delay the application, to avoid keeping the input\u001b[0m\u001b[1;33m\u001b[0m\u001b[1;33m\u001b[0m\u001b[1;33m\u001b[0m\u001b[0m\n\u001b[0;32m    571\u001b[0m         \u001b[1;31m# arguments in memory\u001b[0m\u001b[1;33m\u001b[0m\u001b[1;33m\u001b[0m\u001b[1;33m\u001b[0m\u001b[0m\n\u001b[1;32m--> 572\u001b[1;33m         \u001b[0mself\u001b[0m\u001b[1;33m.\u001b[0m\u001b[0mresults\u001b[0m \u001b[1;33m=\u001b[0m \u001b[0mbatch\u001b[0m\u001b[1;33m(\u001b[0m\u001b[1;33m)\u001b[0m\u001b[1;33m\u001b[0m\u001b[1;33m\u001b[0m\u001b[0m\n\u001b[0m\u001b[0;32m    573\u001b[0m \u001b[1;33m\u001b[0m\u001b[0m\n\u001b[0;32m    574\u001b[0m     \u001b[1;32mdef\u001b[0m \u001b[0mget\u001b[0m\u001b[1;33m(\u001b[0m\u001b[0mself\u001b[0m\u001b[1;33m)\u001b[0m\u001b[1;33m:\u001b[0m\u001b[1;33m\u001b[0m\u001b[1;33m\u001b[0m\u001b[0m\n",
      "\u001b[1;32m~\\Anaconda3\\lib\\site-packages\\joblib\\parallel.py\u001b[0m in \u001b[0;36m__call__\u001b[1;34m(self)\u001b[0m\n\u001b[0;32m    260\u001b[0m         \u001b[1;31m# change the default number of processes to -1\u001b[0m\u001b[1;33m\u001b[0m\u001b[1;33m\u001b[0m\u001b[1;33m\u001b[0m\u001b[0m\n\u001b[0;32m    261\u001b[0m         \u001b[1;32mwith\u001b[0m \u001b[0mparallel_backend\u001b[0m\u001b[1;33m(\u001b[0m\u001b[0mself\u001b[0m\u001b[1;33m.\u001b[0m\u001b[0m_backend\u001b[0m\u001b[1;33m,\u001b[0m \u001b[0mn_jobs\u001b[0m\u001b[1;33m=\u001b[0m\u001b[0mself\u001b[0m\u001b[1;33m.\u001b[0m\u001b[0m_n_jobs\u001b[0m\u001b[1;33m)\u001b[0m\u001b[1;33m:\u001b[0m\u001b[1;33m\u001b[0m\u001b[1;33m\u001b[0m\u001b[0m\n\u001b[1;32m--> 262\u001b[1;33m             return [func(*args, **kwargs)\n\u001b[0m\u001b[0;32m    263\u001b[0m                     for func, args, kwargs in self.items]\n\u001b[0;32m    264\u001b[0m \u001b[1;33m\u001b[0m\u001b[0m\n",
      "\u001b[1;32m~\\Anaconda3\\lib\\site-packages\\joblib\\parallel.py\u001b[0m in \u001b[0;36m<listcomp>\u001b[1;34m(.0)\u001b[0m\n\u001b[0;32m    260\u001b[0m         \u001b[1;31m# change the default number of processes to -1\u001b[0m\u001b[1;33m\u001b[0m\u001b[1;33m\u001b[0m\u001b[1;33m\u001b[0m\u001b[0m\n\u001b[0;32m    261\u001b[0m         \u001b[1;32mwith\u001b[0m \u001b[0mparallel_backend\u001b[0m\u001b[1;33m(\u001b[0m\u001b[0mself\u001b[0m\u001b[1;33m.\u001b[0m\u001b[0m_backend\u001b[0m\u001b[1;33m,\u001b[0m \u001b[0mn_jobs\u001b[0m\u001b[1;33m=\u001b[0m\u001b[0mself\u001b[0m\u001b[1;33m.\u001b[0m\u001b[0m_n_jobs\u001b[0m\u001b[1;33m)\u001b[0m\u001b[1;33m:\u001b[0m\u001b[1;33m\u001b[0m\u001b[1;33m\u001b[0m\u001b[0m\n\u001b[1;32m--> 262\u001b[1;33m             return [func(*args, **kwargs)\n\u001b[0m\u001b[0;32m    263\u001b[0m                     for func, args, kwargs in self.items]\n\u001b[0;32m    264\u001b[0m \u001b[1;33m\u001b[0m\u001b[0m\n",
      "\u001b[1;32m~\\Anaconda3\\lib\\site-packages\\sklearn\\model_selection\\_validation.py\u001b[0m in \u001b[0;36m_fit_and_score\u001b[1;34m(estimator, X, y, scorer, train, test, verbose, parameters, fit_params, return_train_score, return_parameters, return_n_test_samples, return_times, return_estimator, error_score)\u001b[0m\n\u001b[0;32m    529\u001b[0m             \u001b[0mestimator\u001b[0m\u001b[1;33m.\u001b[0m\u001b[0mfit\u001b[0m\u001b[1;33m(\u001b[0m\u001b[0mX_train\u001b[0m\u001b[1;33m,\u001b[0m \u001b[1;33m**\u001b[0m\u001b[0mfit_params\u001b[0m\u001b[1;33m)\u001b[0m\u001b[1;33m\u001b[0m\u001b[1;33m\u001b[0m\u001b[0m\n\u001b[0;32m    530\u001b[0m         \u001b[1;32melse\u001b[0m\u001b[1;33m:\u001b[0m\u001b[1;33m\u001b[0m\u001b[1;33m\u001b[0m\u001b[0m\n\u001b[1;32m--> 531\u001b[1;33m             \u001b[0mestimator\u001b[0m\u001b[1;33m.\u001b[0m\u001b[0mfit\u001b[0m\u001b[1;33m(\u001b[0m\u001b[0mX_train\u001b[0m\u001b[1;33m,\u001b[0m \u001b[0my_train\u001b[0m\u001b[1;33m,\u001b[0m \u001b[1;33m**\u001b[0m\u001b[0mfit_params\u001b[0m\u001b[1;33m)\u001b[0m\u001b[1;33m\u001b[0m\u001b[1;33m\u001b[0m\u001b[0m\n\u001b[0m\u001b[0;32m    532\u001b[0m \u001b[1;33m\u001b[0m\u001b[0m\n\u001b[0;32m    533\u001b[0m     \u001b[1;32mexcept\u001b[0m \u001b[0mException\u001b[0m \u001b[1;32mas\u001b[0m \u001b[0me\u001b[0m\u001b[1;33m:\u001b[0m\u001b[1;33m\u001b[0m\u001b[1;33m\u001b[0m\u001b[0m\n",
      "\u001b[1;32m~\\Anaconda3\\lib\\site-packages\\xgboost\\core.py\u001b[0m in \u001b[0;36minner_f\u001b[1;34m(*args, **kwargs)\u001b[0m\n\u001b[0;32m    420\u001b[0m         \u001b[1;32mfor\u001b[0m \u001b[0mk\u001b[0m\u001b[1;33m,\u001b[0m \u001b[0marg\u001b[0m \u001b[1;32min\u001b[0m \u001b[0mzip\u001b[0m\u001b[1;33m(\u001b[0m\u001b[0msig\u001b[0m\u001b[1;33m.\u001b[0m\u001b[0mparameters\u001b[0m\u001b[1;33m,\u001b[0m \u001b[0margs\u001b[0m\u001b[1;33m)\u001b[0m\u001b[1;33m:\u001b[0m\u001b[1;33m\u001b[0m\u001b[1;33m\u001b[0m\u001b[0m\n\u001b[0;32m    421\u001b[0m             \u001b[0mkwargs\u001b[0m\u001b[1;33m[\u001b[0m\u001b[0mk\u001b[0m\u001b[1;33m]\u001b[0m \u001b[1;33m=\u001b[0m \u001b[0marg\u001b[0m\u001b[1;33m\u001b[0m\u001b[1;33m\u001b[0m\u001b[0m\n\u001b[1;32m--> 422\u001b[1;33m         \u001b[1;32mreturn\u001b[0m \u001b[0mf\u001b[0m\u001b[1;33m(\u001b[0m\u001b[1;33m**\u001b[0m\u001b[0mkwargs\u001b[0m\u001b[1;33m)\u001b[0m\u001b[1;33m\u001b[0m\u001b[1;33m\u001b[0m\u001b[0m\n\u001b[0m\u001b[0;32m    423\u001b[0m \u001b[1;33m\u001b[0m\u001b[0m\n\u001b[0;32m    424\u001b[0m     \u001b[1;32mreturn\u001b[0m \u001b[0minner_f\u001b[0m\u001b[1;33m\u001b[0m\u001b[1;33m\u001b[0m\u001b[0m\n",
      "\u001b[1;32m~\\Anaconda3\\lib\\site-packages\\xgboost\\sklearn.py\u001b[0m in \u001b[0;36mfit\u001b[1;34m(self, X, y, sample_weight, base_margin, eval_set, eval_metric, early_stopping_rounds, verbose, xgb_model, sample_weight_eval_set, feature_weights, callbacks)\u001b[0m\n\u001b[0;32m    595\u001b[0m                 \u001b[0mparams\u001b[0m\u001b[1;33m.\u001b[0m\u001b[0mupdate\u001b[0m\u001b[1;33m(\u001b[0m\u001b[1;33m{\u001b[0m\u001b[1;34m'eval_metric'\u001b[0m\u001b[1;33m:\u001b[0m \u001b[0meval_metric\u001b[0m\u001b[1;33m}\u001b[0m\u001b[1;33m)\u001b[0m\u001b[1;33m\u001b[0m\u001b[1;33m\u001b[0m\u001b[0m\n\u001b[0;32m    596\u001b[0m \u001b[1;33m\u001b[0m\u001b[0m\n\u001b[1;32m--> 597\u001b[1;33m         self._Booster = train(params, train_dmatrix,\n\u001b[0m\u001b[0;32m    598\u001b[0m                               \u001b[0mself\u001b[0m\u001b[1;33m.\u001b[0m\u001b[0mget_num_boosting_rounds\u001b[0m\u001b[1;33m(\u001b[0m\u001b[1;33m)\u001b[0m\u001b[1;33m,\u001b[0m \u001b[0mevals\u001b[0m\u001b[1;33m=\u001b[0m\u001b[0mevals\u001b[0m\u001b[1;33m,\u001b[0m\u001b[1;33m\u001b[0m\u001b[1;33m\u001b[0m\u001b[0m\n\u001b[0;32m    599\u001b[0m                               \u001b[0mearly_stopping_rounds\u001b[0m\u001b[1;33m=\u001b[0m\u001b[0mearly_stopping_rounds\u001b[0m\u001b[1;33m,\u001b[0m\u001b[1;33m\u001b[0m\u001b[1;33m\u001b[0m\u001b[0m\n",
      "\u001b[1;32m~\\Anaconda3\\lib\\site-packages\\xgboost\\training.py\u001b[0m in \u001b[0;36mtrain\u001b[1;34m(params, dtrain, num_boost_round, evals, obj, feval, maximize, early_stopping_rounds, evals_result, verbose_eval, xgb_model, callbacks)\u001b[0m\n\u001b[0;32m    225\u001b[0m     \u001b[0mBooster\u001b[0m \u001b[1;33m:\u001b[0m \u001b[0ma\u001b[0m \u001b[0mtrained\u001b[0m \u001b[0mbooster\u001b[0m \u001b[0mmodel\u001b[0m\u001b[1;33m\u001b[0m\u001b[1;33m\u001b[0m\u001b[0m\n\u001b[0;32m    226\u001b[0m     \"\"\"\n\u001b[1;32m--> 227\u001b[1;33m     bst = _train_internal(params, dtrain,\n\u001b[0m\u001b[0;32m    228\u001b[0m                           \u001b[0mnum_boost_round\u001b[0m\u001b[1;33m=\u001b[0m\u001b[0mnum_boost_round\u001b[0m\u001b[1;33m,\u001b[0m\u001b[1;33m\u001b[0m\u001b[1;33m\u001b[0m\u001b[0m\n\u001b[0;32m    229\u001b[0m                           \u001b[0mevals\u001b[0m\u001b[1;33m=\u001b[0m\u001b[0mevals\u001b[0m\u001b[1;33m,\u001b[0m\u001b[1;33m\u001b[0m\u001b[1;33m\u001b[0m\u001b[0m\n",
      "\u001b[1;32m~\\Anaconda3\\lib\\site-packages\\xgboost\\training.py\u001b[0m in \u001b[0;36m_train_internal\u001b[1;34m(params, dtrain, num_boost_round, evals, obj, feval, xgb_model, callbacks, evals_result, maximize, verbose_eval, early_stopping_rounds)\u001b[0m\n\u001b[0;32m    100\u001b[0m         \u001b[1;31m# Skip the first update if it is a recovery step.\u001b[0m\u001b[1;33m\u001b[0m\u001b[1;33m\u001b[0m\u001b[1;33m\u001b[0m\u001b[0m\n\u001b[0;32m    101\u001b[0m         \u001b[1;32mif\u001b[0m \u001b[0mversion\u001b[0m \u001b[1;33m%\u001b[0m \u001b[1;36m2\u001b[0m \u001b[1;33m==\u001b[0m \u001b[1;36m0\u001b[0m\u001b[1;33m:\u001b[0m\u001b[1;33m\u001b[0m\u001b[1;33m\u001b[0m\u001b[0m\n\u001b[1;32m--> 102\u001b[1;33m             \u001b[0mbst\u001b[0m\u001b[1;33m.\u001b[0m\u001b[0mupdate\u001b[0m\u001b[1;33m(\u001b[0m\u001b[0mdtrain\u001b[0m\u001b[1;33m,\u001b[0m \u001b[0mi\u001b[0m\u001b[1;33m,\u001b[0m \u001b[0mobj\u001b[0m\u001b[1;33m)\u001b[0m\u001b[1;33m\u001b[0m\u001b[1;33m\u001b[0m\u001b[0m\n\u001b[0m\u001b[0;32m    103\u001b[0m             \u001b[0mbst\u001b[0m\u001b[1;33m.\u001b[0m\u001b[0msave_rabit_checkpoint\u001b[0m\u001b[1;33m(\u001b[0m\u001b[1;33m)\u001b[0m\u001b[1;33m\u001b[0m\u001b[1;33m\u001b[0m\u001b[0m\n\u001b[0;32m    104\u001b[0m             \u001b[0mversion\u001b[0m \u001b[1;33m+=\u001b[0m \u001b[1;36m1\u001b[0m\u001b[1;33m\u001b[0m\u001b[1;33m\u001b[0m\u001b[0m\n",
      "\u001b[1;32m~\\Anaconda3\\lib\\site-packages\\xgboost\\core.py\u001b[0m in \u001b[0;36mupdate\u001b[1;34m(self, dtrain, iteration, fobj)\u001b[0m\n\u001b[0;32m   1278\u001b[0m \u001b[1;33m\u001b[0m\u001b[0m\n\u001b[0;32m   1279\u001b[0m         \u001b[1;32mif\u001b[0m \u001b[0mfobj\u001b[0m \u001b[1;32mis\u001b[0m \u001b[1;32mNone\u001b[0m\u001b[1;33m:\u001b[0m\u001b[1;33m\u001b[0m\u001b[1;33m\u001b[0m\u001b[0m\n\u001b[1;32m-> 1280\u001b[1;33m             _check_call(_LIB.XGBoosterUpdateOneIter(self.handle,\n\u001b[0m\u001b[0;32m   1281\u001b[0m                                                     \u001b[0mctypes\u001b[0m\u001b[1;33m.\u001b[0m\u001b[0mc_int\u001b[0m\u001b[1;33m(\u001b[0m\u001b[0miteration\u001b[0m\u001b[1;33m)\u001b[0m\u001b[1;33m,\u001b[0m\u001b[1;33m\u001b[0m\u001b[1;33m\u001b[0m\u001b[0m\n\u001b[0;32m   1282\u001b[0m                                                     dtrain.handle))\n",
      "\u001b[1;31mKeyboardInterrupt\u001b[0m: "
     ]
    }
   ],
   "source": [
    "scores_m1, scores_m2 = np.array([]), np.array([])\n",
    "\n",
    "for i in range(10):\n",
    "    fold = KFold(n_splits=5, shuffle=True, random_state=i)\n",
    "    cv_m1 = cross_val_score(estimator=xgb.XGBRegressor(n_estimators=50),\n",
    "                            X=data[numerical_features],\n",
    "                            y=data[\"y\"],\n",
    "                            cv=fold,\n",
    "                            scoring=\"r2\")\n",
    "    cv_m2 = cross_val_score(estimator=xgb.XGBRegressor(n_estimators=100),\n",
    "                            X=data[numerical_features],\n",
    "                            y=data[\"y\"],\n",
    "                            cv=fold,\n",
    "                            scoring=\"r2\")\n",
    "\n",
    "    scores_m1 = np.append(scores_m1, cv_m1)\n",
    "    scores_m2 = np.append(scores_m2, cv_m2)"
   ]
  },
  {
   "cell_type": "code",
   "execution_count": null,
   "metadata": {
    "ExecuteTime": {
     "end_time": "2021-03-19T11:14:55.232313Z",
     "start_time": "2021-03-19T11:01:14.775Z"
    }
   },
   "outputs": [],
   "source": [
    "ttest_rel(scores_m1, scores_m2)"
   ]
  },
  {
   "cell_type": "markdown",
   "metadata": {},
   "source": [
    "Статистика положительна, это значит, что числитель дроби положителен и соответственно среднее $X_1^n$ больше среднего $X_2^n$. Вспомним, что мы максимизируем целевую метрику R2 и поймем, что первый алгоритм лучше, то есть 100 деревьев на этих данных проигрывают 50. P-value значительно меньше 0.05, поэтому мы смело отвергаем нулевую гипотезу, утверждая что модели существенно различны."
   ]
  },
  {
   "cell_type": "code",
   "execution_count": null,
   "metadata": {
    "ExecuteTime": {
     "end_time": "2021-03-19T11:14:55.240291Z",
     "start_time": "2021-03-19T11:01:16.244Z"
    }
   },
   "outputs": [],
   "source": [
    "print(f\"1st model, CV-result: {round(np.mean(scores_m1[:5]), 4)} +/- {round(np.std(scores_m1[:5]), 4)}\")\n",
    "print(f\"2st model, CV-result: {round(np.mean(scores_m2[:5]), 4)} +/- {round(np.std(scores_m2[:5]), 4)}\")"
   ]
  },
  {
   "cell_type": "markdown",
   "metadata": {},
   "source": [
    "Мы посчитали среднее и стандартное отклонение, видно, что просто сравнение средних здесь не работает, поскольку отличия очень маленькие, и они лежат в пределах стандартного отклонения. А между тем модели отличаются, причем отличаются очень сильно, и t-критерий Стьюдента для связанных выборок помог нам это показать."
   ]
  },
  {
   "cell_type": "markdown",
   "metadata": {},
   "source": [
    "## Подберем количество деревьев, используя такой же подход"
   ]
  },
  {
   "cell_type": "code",
   "execution_count": null,
   "metadata": {
    "ExecuteTime": {
     "end_time": "2021-03-19T11:14:55.248270Z",
     "start_time": "2021-03-19T11:01:17.877Z"
    }
   },
   "outputs": [],
   "source": [
    "base_score = np.array([])\n",
    "model = xgb.XGBRegressor(n_estimators=100)\n",
    "\n",
    "for i in range(5):\n",
    "    fold = KFold(n_splits=3, shuffle=True, random_state=i)\n",
    "    scores = cross_val_score(estimator=xgb.XGBRegressor(n_estimators=j),\n",
    "                             X=data[numerical_features],\n",
    "                             y=data[\"y\"],\n",
    "                             scoring='r2',\n",
    "                             cv=fold)\n",
    "    base_score = np.append(base_score, scores)"
   ]
  },
  {
   "cell_type": "code",
   "execution_count": null,
   "metadata": {
    "ExecuteTime": {
     "end_time": "2021-03-19T11:14:55.261234Z",
     "start_time": "2021-03-19T11:01:18.830Z"
    },
    "scrolled": false
   },
   "outputs": [],
   "source": [
    "# Переобучить с шагом по деревьям 1\n",
    "# 10 разбиений\n",
    "# в каждом разбиении по 5 фолдов\n",
    "\n",
    "t_stats, n_trees = [], []\n",
    "\n",
    "for j in tqdm(range(50, 100, 1)):\n",
    "    current_score = np.array([])\n",
    "    for i in range(10):\n",
    "        fold = KFold(n_splits=5, shuffle=True, random_state=i)\n",
    "        scores = cross_val_score(estimator=xgb.XGBRegressor(n_estimators=j,\n",
    "                                                            n_jobs=1),\n",
    "                                 X=data[numerical_features],\n",
    "                                 y=data[\"y\"],\n",
    "                                 scoring='r2',\n",
    "                                 cv=fold,\n",
    "                                 n_jobs=-1)\n",
    "        current_score = np.append(current_score, scores)\n",
    "\n",
    "    t_stat, p_value = ttest_rel(current_score, base_score)\n",
    "    t_stats.append(t_stat)\n",
    "    n_trees.append(j)\n",
    "\n",
    "plt.plot(n_trees, t_stats)\n",
    "plt.xlabel('n_estimators')\n",
    "plt.ylabel('t-statistic')"
   ]
  },
  {
   "cell_type": "markdown",
   "metadata": {},
   "source": [
    "## Опасность переобучения на выбросы\n",
    "\n",
    "Мы делаем кросс-валидацию снова и снова, выбирая только те модели, которые лучше работают на тестовых фолдах. И даже если мы периодически меняем `random_state` у `KFold`, делая тем самым фолды различными, они все равно, в конечном итоге, собираются из объектов обучающей выборки. И, улучшая решение, мы натаскиваете алгоритм именно на этих объектах. Если данные хорошие, и мы все делали аккуратно, то это может привести к тому, что алгоритм будет работать чуть лучше и на новых объектах, но одинакового перформанса в общем случае ждать не стоит. А в случае, когда данные достаточно шумные, есть риск столкнуться с неприятной ситуацией, что нам не на чем проверить работу алгоритма, кроме публичного лидерборда.\n",
    "\n",
    "Поэтому, очень хорошей рекомендацией будет - иметь отложенную выборку. Я бы предложил делать так: получили задачу — сразу сделали отложенную выборку и выкинули ее из обучающей выборки. Посчитали, какой результат дает бейзлайн на этой выборке. Потом можно долго и упорно улучшать модель и наконец, когда уже самая лучшая модель готова, пришло время посмотреть качество на отложенной выборке. В случае kaggle роль отложенной выборки может играть паблик лидерборд. Но важно помнить, что чем чаще мы смотрим скор по отложенной выборке, тем хуже он оценивает качество модели на новых данных."
   ]
  },
  {
   "cell_type": "code",
   "execution_count": null,
   "metadata": {
    "ExecuteTime": {
     "end_time": "2021-03-19T11:14:55.300130Z",
     "start_time": "2021-03-19T11:01:20.906Z"
    }
   },
   "outputs": [],
   "source": [
    "r2_score([1,   2,    3,   4,   5,   11],\n",
    "         [1.1, 1.96, 3.1, 4.5, 4.8, 5.3])"
   ]
  },
  {
   "cell_type": "code",
   "execution_count": null,
   "metadata": {
    "ExecuteTime": {
     "end_time": "2021-03-19T11:14:55.307112Z",
     "start_time": "2021-03-19T11:01:21.684Z"
    }
   },
   "outputs": [],
   "source": [
    "# заменим первое предсказание на истонное значение\n",
    "r2_score([1,   2,    3,   4,   5,   11],\n",
    "         [1, 1.96, 3.1, 4.5, 4.8, 5.3])"
   ]
  },
  {
   "cell_type": "code",
   "execution_count": null,
   "metadata": {
    "ExecuteTime": {
     "end_time": "2021-03-19T11:14:55.316088Z",
     "start_time": "2021-03-19T11:01:22.501Z"
    }
   },
   "outputs": [],
   "source": [
    "# заменим последнее предсказание на 0.1\n",
    "r2_score([1,   2,    3,   4,   5,   11],\n",
    "         [1, 1.96, 3.1, 4.5, 4.8, 5.4])"
   ]
  },
  {
   "cell_type": "markdown",
   "metadata": {},
   "source": [
    "Обратите внимание на то, что если мы, например, вместо 1.1 во втором массиве напишем 1.0, скор изменится в четвертом знаке. А теперь попробуем подобраться на 0.1 ближе к нашему выбросу — заменим 5.3 на 5.4. Скор меняется сразу на 0.015, то есть примерно в 100 раз сильнее, чем если бы мы на столько же улучшили предсказание «нормального» значения. Таким образом, скор в основном определяется не тем, насколько точно мы предсказываем «нормальные» значения, а тем, какая из моделей случайно оказалась чуть лучше на выбросах. И становится понятно, что отбирая признаки и настраивая гиперпараметры, мы непроизвольно выбираем те модели, которые чуть лучше угадывают выбросы на тестовых фолдах, а не те, которые лучше предсказывают основную массу объектов. Это происходит просто потому, что модели, угадывающие аутлаеров, получают более высокий скор, а перформанс на основной массе объектов не очень сильно влияет на скор. \n",
    "\n",
    "В большинстве задач, выбросы предсказать невозможно. А если скоро мы не можем их предсказать, давайте и не учитывать их при сравнении моделей. Действительно, если любая из наших моделей одинаково плохо будет предсказывать выбросы на новых данных, какой смысл тогда оценивать предсказания выбросов на кросс-валидации? Есть две стратегии поведения в таких ситуациях:\n",
    "\n",
    "1. Давайте удалим все выбросы из обучающей выборки и только после этого будем обучать и валидировать модели. О том, как именно удалять выбросы, поговорим чуть позже, пока считаем, что как-то мы это делать умеем. Такая стратегия действительно очень сильная, единственная проблема этого метода состоит в том, что зачастую выкидывание аутлаеров смещает среднее предсказание, и мы вынуждены это смещение как-то компенсировать.\n",
    "\n",
    "2. Не будем ничего удалять из обучающей выборки, но при валидации (при вычислении значения метрики на тестовых фолдах) не будем учитывать выбросы. Еще раз, все вплоть до вызова метода fit (и включая его) мы делаем, ничего не выкидывая, затем мы делаем predict на тестовых фолдах, но метрику считаем только на объектах, не являющихся выбросами."
   ]
  },
  {
   "cell_type": "code",
   "execution_count": null,
   "metadata": {
    "ExecuteTime": {
     "end_time": "2021-03-19T11:14:55.323070Z",
     "start_time": "2021-03-19T11:01:23.905Z"
    }
   },
   "outputs": [],
   "source": [
    "def make_modify_cross_validation(X: pd.DataFrame, y: pd.Series,\n",
    "                                 estimator: object, metric: callable,\n",
    "                                 cv_strategy, error_to_be_outlier: None):\n",
    "    \"\"\"\n",
    "    Кросс-валидация с учетом выбросов.\n",
    "\n",
    "    Parameters\n",
    "    ----------\n",
    "    X: pd.DataFrame\n",
    "        Матрица признаков.\n",
    "\n",
    "    y: pd.Series\n",
    "        Вектор целевой переменной.\n",
    "\n",
    "    estimator: callable\n",
    "        Объект модели для обучения.\n",
    "\n",
    "    metric: callable\n",
    "        Метрика для оценки качества решения.\n",
    "        Ожидается, что на вход будет передана функция,\n",
    "        которая принимает 2 аргумента: y_true, y_pred.\n",
    "\n",
    "    cv_strategy: cross-validation generator\n",
    "        Объект для описания стратегии кросс-валидации.\n",
    "        Ожидается, что на вход будет передан объект типа\n",
    "        KFold или StratifiedKFold.\n",
    "\n",
    "    error_to_be_outlier: float, optional, default = None\n",
    "        Максимальная относительная величина ошибки для того,\n",
    "        чтобы объект считать выбросом и не учитывать в итоговой\n",
    "        ошибке алгоритма. Опциональный параметр, по умолчанию,\n",
    "        не используется.\n",
    "\n",
    "    Returns\n",
    "    -------\n",
    "    oof_score: float\n",
    "        Значение метрики качества на OOF-прогнозах.\n",
    "\n",
    "    fold_train_scores: List[float]\n",
    "        Значение метрики качества на каждом обучающем датасете кросс-валидации.\n",
    "\n",
    "    fold_valid_scores: List[float]\n",
    "        Значение метрики качества на каждом валидационном датасете кросс-валидации.\n",
    "\n",
    "    oof_predictions: np.array\n",
    "        Прогнозы на OOF.\n",
    "\n",
    "    \"\"\"\n",
    "    estimators, fold_train_scores, fold_valid_scores = [], [], []\n",
    "    oof_predictions = np.zeros(X.shape[0])\n",
    "\n",
    "    for fold_number, (train_idx, valid_idx) in enumerate(cv_strategy.split(X, y)):\n",
    "        x_train, x_valid = X.loc[train_idx], X.loc[valid_idx]\n",
    "        y_train, y_valid = y.loc[train_idx], y.loc[valid_idx]\n",
    "\n",
    "        estimator.fit(x_train, y_train)\n",
    "        y_train_pred = estimator.predict(x_train)\n",
    "        y_valid_pred = estimator.predict(x_valid)\n",
    "\n",
    "        fold_train_scores.append(metric(y_train, y_train_pred))\n",
    "        if not error_to_be_outlier:\n",
    "            fold_valid_scores.append(metric(y_valid, y_valid_pred))\n",
    "        else:\n",
    "            mask = ((y_valid - y_valid_pred) / y_valid) < error_to_be_outlier\n",
    "            fold_valid_scores.append(metric(y_valid.loc[mask], y_valid_pred[mask]))\n",
    "        oof_predictions[valid_idx] = y_valid_pred\n",
    "\n",
    "        msg = (\n",
    "            f\"Fold: {fold_number+1}, train-observations = {len(train_idx)}, \"\n",
    "            f\"valid-observations = {len(valid_idx)}\\n\"\n",
    "            f\"train-score = {round(fold_train_scores[fold_number], 4)}, \"\n",
    "            f\"valid-score = {round(fold_valid_scores[fold_number], 4)}\")\n",
    "        print(msg)\n",
    "        print(\"=\" * 69)\n",
    "        estimators.append(estimator)\n",
    "\n",
    "    if not error_to_be_outlier:\n",
    "        oof_score = metric(y, oof_predictions)\n",
    "    else:\n",
    "        mask = ((y - oof_predictions) / y) < error_to_be_outlier\n",
    "        oof_score = metric(y.loc[mask], oof_predictions[mask])\n",
    "\n",
    "    print(f\"CV-results train: {round(np.mean(fold_train_scores), 4)} +/- {round(np.std(fold_train_scores), 3)}\")\n",
    "    print(f\"CV-results valid: {round(np.mean(fold_valid_scores), 4)} +/- {round(np.std(fold_valid_scores), 3)}\")\n",
    "    print(f\"OOF-score = {round(oof_score, 4)}\")\n",
    "\n",
    "    return estimators, oof_score, fold_train_scores, fold_valid_scores, oof_predictions"
   ]
  },
  {
   "cell_type": "code",
   "execution_count": null,
   "metadata": {
    "ExecuteTime": {
     "end_time": "2021-03-19T11:14:55.331048Z",
     "start_time": "2021-03-19T11:01:24.806Z"
    }
   },
   "outputs": [],
   "source": [
    "estimators, oof_score, fold_train_scores, fold_valid_scores, oof_predictions = make_modify_cross_validation(\n",
    "    data[numerical_features], data[\"y\"], \n",
    "    model, metric=r2_score, \n",
    "    cv_strategy=cv_strategy, error_to_be_outlier=0.05)"
   ]
  },
  {
   "cell_type": "markdown",
   "metadata": {},
   "source": [
    "## Валидация в задачах с привязкой ко времени\n",
    "\n",
    "<img src=\"./images/web2_timekfold.png\" width=800 height=600 />"
   ]
  },
  {
   "cell_type": "code",
   "execution_count": null,
   "metadata": {
    "ExecuteTime": {
     "end_time": "2021-03-19T11:14:55.337031Z",
     "start_time": "2021-03-19T11:01:26.055Z"
    }
   },
   "outputs": [],
   "source": [
    "from sklearn.model_selection import TimeSeriesSplit\n",
    "cv = TimeSeriesSplit()\n",
    "cv.split?"
   ]
  },
  {
   "cell_type": "code",
   "execution_count": null,
   "metadata": {
    "ExecuteTime": {
     "end_time": "2021-03-19T11:14:55.370942Z",
     "start_time": "2021-03-19T11:01:27.169Z"
    }
   },
   "outputs": [],
   "source": [
    "from sklearn.model_selection import GroupKFold\n",
    "cv = GroupKFold(n_splits=5)\n",
    "\n",
    "for train_idx, valid_idx in cv.split(data, data[\"y\"], groups=data[\"X5\"]):\n",
    "    x_train = data.loc[train_idx]\n",
    "    x_valid = data.loc[valid_idx]\n",
    "    break"
   ]
  },
  {
   "cell_type": "code",
   "execution_count": null,
   "metadata": {
    "ExecuteTime": {
     "end_time": "2021-03-19T11:14:55.378920Z",
     "start_time": "2021-03-19T11:01:27.888Z"
    }
   },
   "outputs": [],
   "source": [
    "set(x_train[\"X5\"].unique()) & (set(x_valid[\"X5\"].unique()))"
   ]
  },
  {
   "cell_type": "markdown",
   "metadata": {},
   "source": [
    "## Что делать, если распределение на train / test разное\n",
    "\n",
    "__Adversarial validation__"
   ]
  },
  {
   "cell_type": "code",
   "execution_count": null,
   "metadata": {
    "ExecuteTime": {
     "end_time": "2021-03-19T11:14:55.387896Z",
     "start_time": "2021-03-19T11:01:29.617Z"
    }
   },
   "outputs": [],
   "source": [
    "from sklearn.metrics import roc_auc_score"
   ]
  },
  {
   "cell_type": "code",
   "execution_count": null,
   "metadata": {
    "ExecuteTime": {
     "end_time": "2021-03-19T11:14:55.395876Z",
     "start_time": "2021-03-19T11:01:30.653Z"
    }
   },
   "outputs": [],
   "source": [
    "x_adv = pd.concat([x_train, x_valid], axis=0)\n",
    "y_adv = np.hstack((np.zeros(x_train.shape[0]), np.ones(x_valid.shape[0])))\n",
    "assert x_adv.shape[0] == y_adv.shape[0]"
   ]
  },
  {
   "cell_type": "code",
   "execution_count": null,
   "metadata": {
    "ExecuteTime": {
     "end_time": "2021-03-19T11:14:55.403853Z",
     "start_time": "2021-03-19T11:01:31.329Z"
    }
   },
   "outputs": [],
   "source": [
    "model = xgb.XGBClassifier(n_estimators=25)\n",
    "model.fit(x_adv[numerical_features], y_adv)"
   ]
  },
  {
   "cell_type": "code",
   "execution_count": null,
   "metadata": {
    "ExecuteTime": {
     "end_time": "2021-03-19T11:14:55.443747Z",
     "start_time": "2021-03-19T11:01:32.292Z"
    }
   },
   "outputs": [],
   "source": [
    "y_pred_adv = model.predict_proba(x_adv[numerical_features])\n",
    "score = roc_auc_score(y_adv, y_pred_adv[:, 1])\n",
    "print(round(score, 4))"
   ]
  },
  {
   "cell_type": "code",
   "execution_count": null,
   "metadata": {
    "ExecuteTime": {
     "end_time": "2021-03-19T11:14:55.452722Z",
     "start_time": "2021-03-19T11:01:33.132Z"
    }
   },
   "outputs": [],
   "source": [
    "y_pred = model.predict_proba(x_train[numerical_features])\n",
    "y_pred"
   ]
  },
  {
   "cell_type": "code",
   "execution_count": null,
   "metadata": {
    "ExecuteTime": {
     "end_time": "2021-03-19T11:14:55.460703Z",
     "start_time": "2021-03-19T11:01:34.134Z"
    }
   },
   "outputs": [],
   "source": [
    "pd.cut(y_pred[:, 1], bins=np.arange(0, 1.01, 0.1)).value_counts().sort_index()"
   ]
  },
  {
   "cell_type": "code",
   "execution_count": null,
   "metadata": {},
   "outputs": [],
   "source": []
  },
  {
   "cell_type": "code",
   "execution_count": null,
   "metadata": {},
   "outputs": [],
   "source": []
  }
 ],
 "metadata": {
  "hide_input": false,
  "kernelspec": {
   "display_name": "Python 3",
   "language": "python",
   "name": "python3"
  },
  "language_info": {
   "codemirror_mode": {
    "name": "ipython",
    "version": 3
   },
   "file_extension": ".py",
   "mimetype": "text/x-python",
   "name": "python",
   "nbconvert_exporter": "python",
   "pygments_lexer": "ipython3",
   "version": "3.8.5"
  },
  "toc": {
   "base_numbering": 1,
   "nav_menu": {},
   "number_sections": true,
   "sideBar": true,
   "skip_h1_title": false,
   "title_cell": "Table of Contents",
   "title_sidebar": "Contents",
   "toc_cell": false,
   "toc_position": {
    "height": "calc(100% - 180px)",
    "left": "10px",
    "top": "150px",
    "width": "256px"
   },
   "toc_section_display": true,
   "toc_window_display": true
  },
  "varInspector": {
   "cols": {
    "lenName": 16,
    "lenType": 16,
    "lenVar": 40
   },
   "kernels_config": {
    "python": {
     "delete_cmd_postfix": "",
     "delete_cmd_prefix": "del ",
     "library": "var_list.py",
     "varRefreshCmd": "print(var_dic_list())"
    },
    "r": {
     "delete_cmd_postfix": ") ",
     "delete_cmd_prefix": "rm(",
     "library": "var_list.r",
     "varRefreshCmd": "cat(var_dic_list()) "
    }
   },
   "position": {
    "height": "144.667px",
    "left": "911px",
    "right": "20px",
    "top": "120px",
    "width": "350px"
   },
   "types_to_exclude": [
    "module",
    "function",
    "builtin_function_or_method",
    "instance",
    "_Feature"
   ],
   "window_display": false
  }
 },
 "nbformat": 4,
 "nbformat_minor": 4
}
